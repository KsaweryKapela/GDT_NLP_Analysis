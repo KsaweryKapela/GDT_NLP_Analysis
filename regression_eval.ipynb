{
 "cells": [
  {
   "cell_type": "code",
   "execution_count": 1,
   "metadata": {},
   "outputs": [],
   "source": [
    "import numpy as np\n",
    "import pandas as pd"
   ]
  },
  {
   "cell_type": "code",
   "execution_count": 2,
   "metadata": {},
   "outputs": [
    {
     "name": "stderr",
     "output_type": "stream",
     "text": [
      "c:\\Users\\Lenovo\\AppData\\Local\\Programs\\Python\\Python310\\lib\\site-packages\\tqdm\\auto.py:22: TqdmWarning: IProgress not found. Please update jupyter and ipywidgets. See https://ipywidgets.readthedocs.io/en/stable/user_install.html\n",
      "  from .autonotebook import tqdm as notebook_tqdm\n",
      "Some weights of the model checkpoint at allegro/herbert-base-cased were not used when initializing BertModel: ['cls.predictions.transform.LayerNorm.weight', 'cls.predictions.decoder.bias', 'cls.predictions.decoder.weight', 'cls.predictions.transform.dense.weight', 'cls.predictions.transform.dense.bias', 'cls.predictions.transform.LayerNorm.bias', 'cls.predictions.bias', 'cls.sso.sso_relationship.bias', 'cls.sso.sso_relationship.weight']\n",
      "- This IS expected if you are initializing BertModel from the checkpoint of a model trained on another task or with another architecture (e.g. initializing a BertForSequenceClassification model from a BertForPreTraining model).\n",
      "- This IS NOT expected if you are initializing BertModel from the checkpoint of a model that you expect to be exactly identical (initializing a BertForSequenceClassification model from a BertForSequenceClassification model).\n"
     ]
    }
   ],
   "source": [
    "from transformers import AutoTokenizer, AutoModel\n",
    "\n",
    "tokenizer = AutoTokenizer.from_pretrained('allegro/herbert-base-cased')\n",
    "bert_model = AutoModel.from_pretrained(\"allegro/herbert-base-cased\") "
   ]
  },
  {
   "cell_type": "code",
   "execution_count": 3,
   "metadata": {},
   "outputs": [],
   "source": [
    "from typing import Callable, List, Optional, Tuple\n",
    "import pandas as pd\n",
    "from sklearn.base import TransformerMixin, BaseEstimator\n",
    "import torch\n",
    "from IPython.display import clear_output\n",
    "\n",
    "class BertTransformer(BaseEstimator, TransformerMixin):\n",
    "    def __init__(self, bert_tokenizer, bert_model, max_length):\n",
    "\n",
    "        self.bert_tokenizer = bert_tokenizer\n",
    "        self.bert_model = bert_model\n",
    "        self.bert_model.eval()\n",
    "        self.max_length = max_length\n",
    "        self.embedding_func = lambda x: x[0][:, 0, :].squeeze()\n",
    "\n",
    "    def _tokenize(self, text: str) -> Tuple[torch.tensor, torch.tensor]:\n",
    "        tokenized_text = self.bert_tokenizer.encode_plus(text,\n",
    "                                                         add_special_tokens=True,\n",
    "                                                         max_length=self.max_length\n",
    "                                                         )[\"input_ids\"]\n",
    "\n",
    "        attention_mask = [1] * len(tokenized_text)\n",
    "\n",
    "        return (\n",
    "            torch.tensor(tokenized_text).unsqueeze(0),\n",
    "            torch.tensor(attention_mask).unsqueeze(0),\n",
    "        )\n",
    "\n",
    "    def _tokenize_and_predict(self, text: str, progress) -> torch.tensor:\n",
    "        \n",
    "        \n",
    "        print(progress, flush=True)\n",
    "        \n",
    "        tokenized, attention_mask = self._tokenize(text)\n",
    "\n",
    "        embeddings = self.bert_model(tokenized, attention_mask)\n",
    "        \n",
    "        clear_output(wait=True)\n",
    "        return self.embedding_func(embeddings)\n",
    "\n",
    "    def transform(self, text: List[str]):\n",
    "        if isinstance(text, pd.Series):\n",
    "            text = text.tolist()\n",
    "\n",
    "        with torch.no_grad():\n",
    "            return torch.stack([self._tokenize_and_predict(string, f'{text.index(string) + 1}/{len(text)}') for string in text])\n",
    "\n",
    "    def fit(self, X, y=None):\n",
    "        return self\n"
   ]
  },
  {
   "cell_type": "code",
   "execution_count": 131,
   "metadata": {},
   "outputs": [],
   "source": [
    "X = 'nlp_2', 'nlp_3', 'nlp_4', 'nlp_5'\n",
    "Y = 'GDT_score'\n",
    "DATASET = 'GDT_NLP_FULLSTOPS.xlsx'\n",
    "EVAL_DATASET = 'NLP_PILOT.xlsx'\n"
   ]
  },
  {
   "cell_type": "code",
   "execution_count": 132,
   "metadata": {},
   "outputs": [
    {
     "name": "stdout",
     "output_type": "stream",
     "text": [
      "522\n",
      "95\n"
     ]
    }
   ],
   "source": [
    "df = pd.read_excel(io=DATASET)\n",
    "eval_df = pd.read_excel(io=EVAL_DATASET)\n",
    "\n",
    "print(len(df))\n",
    "print(len(eval_df))"
   ]
  },
  {
   "cell_type": "code",
   "execution_count": 133,
   "metadata": {},
   "outputs": [],
   "source": [
    "bert_transformer = BertTransformer(tokenizer, bert_model, max_length=60)"
   ]
  },
  {
   "cell_type": "code",
   "execution_count": 134,
   "metadata": {},
   "outputs": [
    {
     "name": "stdout",
     "output_type": "stream",
     "text": [
      "nlp_5 added to list\n"
     ]
    }
   ],
   "source": [
    "import time\n",
    "all_x = []\n",
    "\n",
    "for item in X:\n",
    "\n",
    "    if 'nlp' in item:\n",
    "        item_processed = bert_transformer.transform(list(df[item]))\n",
    "        all_x.append(item_processed)\n",
    "        print(f'{item} added to list')\n",
    "        time.sleep(0.5)\n",
    "\n",
    "    elif item == 'sex':\n",
    "        all_x.append(list(df[item]))\n",
    "        print(f'{item} added to list')\n",
    "        time.sleep(0.5)\n",
    "    \n",
    "    else:\n",
    "        item_processed = [[item] for item in df[item]]\n",
    "        \n",
    "        all_x.append(item_processed)\n",
    "        print(f'{item} added to list')\n",
    "        time.sleep(0.5)\n",
    "\n",
    "all_x = tuple(all_x)\n",
    "X_train = np.hstack(all_x)"
   ]
  },
  {
   "cell_type": "code",
   "execution_count": 135,
   "metadata": {},
   "outputs": [
    {
     "data": {
      "text/plain": [
       "(522, 3072)"
      ]
     },
     "execution_count": 135,
     "metadata": {},
     "output_type": "execute_result"
    }
   ],
   "source": [
    "Y_train = df[Y]\n",
    "X_train.shape"
   ]
  },
  {
   "cell_type": "code",
   "execution_count": 136,
   "metadata": {},
   "outputs": [
    {
     "name": "stdout",
     "output_type": "stream",
     "text": [
      "nlp_5 added to list\n"
     ]
    },
    {
     "data": {
      "text/plain": [
       "(95, 3072)"
      ]
     },
     "execution_count": 136,
     "metadata": {},
     "output_type": "execute_result"
    }
   ],
   "source": [
    "import time\n",
    "all_x = []\n",
    "\n",
    "for item in X:\n",
    "    \n",
    "    if 'nlp' in item:\n",
    "        item_processed = bert_transformer.transform(list(eval_df[item]))\n",
    "        all_x.append(item_processed)\n",
    "        print(f'{item} added to list')\n",
    "        time.sleep(0.5)\n",
    "\n",
    "    elif item == 'sex':\n",
    "        all_x.append(list(eval_df[item]))\n",
    "        print(f'{item} added to list')\n",
    "        time.sleep(0.5)\n",
    "    \n",
    "    else:\n",
    "        item_processed = [[item] for item in eval_df[item]]\n",
    "        \n",
    "        all_x.append(item_processed)\n",
    "        print(f'{item} added to list')\n",
    "        time.sleep(0.5)\n",
    "\n",
    "all_x = tuple(all_x)\n",
    "X_test = np.hstack(all_x)\n",
    "\n",
    "Y_test = eval_df[Y]\n",
    "X_test.shape"
   ]
  },
  {
   "cell_type": "code",
   "execution_count": 294,
   "metadata": {},
   "outputs": [
    {
     "data": {
      "text/plain": [
       "SVR(C=0.1, kernel='linear')"
      ]
     },
     "execution_count": 294,
     "metadata": {},
     "output_type": "execute_result"
    }
   ],
   "source": [
    "from sklearn import svm\n",
    "\n",
    "vector_regression = svm.SVR(kernel='linear', C=0.1, tol=1e-3)\n",
    "vector_regression.fit(X_train, Y_train)\n"
   ]
  },
  {
   "cell_type": "code",
   "execution_count": 295,
   "metadata": {},
   "outputs": [],
   "source": [
    "results = vector_regression.predict(X_test)"
   ]
  },
  {
   "cell_type": "code",
   "execution_count": 296,
   "metadata": {},
   "outputs": [
    {
     "name": "stdout",
     "output_type": "stream",
     "text": [
      "PearsonRResult(statistic=0.3126690147367843, pvalue=0.002036117809671508)\n"
     ]
    }
   ],
   "source": [
    "from scipy import stats\n",
    "results = [item if item >= 4 else 4 for item in results]\n",
    "results = [item if item <= 20 else 20 for item in results]\n",
    "\n",
    "print(stats.pearsonr(results, Y_test))"
   ]
  },
  {
   "cell_type": "code",
   "execution_count": 297,
   "metadata": {},
   "outputs": [],
   "source": [
    "answers_tuples = [(y, res) for y, res in zip(Y_test, results)]\n",
    "sorted_tuples = sorted(answers_tuples, key=lambda x: x[0])\n",
    "\n",
    "test_y = [x[0] for x in sorted_tuples]\n",
    "result = [x[1] for x in sorted_tuples]\n",
    "\n",
    "rounded_result = [round(item) for item in result]"
   ]
  },
  {
   "cell_type": "code",
   "execution_count": 298,
   "metadata": {},
   "outputs": [
    {
     "data": {
      "image/png": "[encoded data removed]",
      "text/plain": [
       "<Figure size 432x288 with 1 Axes>"
      ]
     },
     "metadata": {
      "needs_background": "light"
     },
     "output_type": "display_data"
    }
   ],
   "source": [
    "import matplotlib.pyplot as plt\n",
    "\n",
    "plt.plot(range(len(result)), rounded_result, 'o', color=[1, 0, 0, 0.5], label=\"Prediction\")\n",
    "plt.plot(range(len(test_y)), test_y, 'o', color=[0, 1, 0, 0.5], label='True data')\n",
    "plt.legend(loc='upper left')\n",
    "plt.title('Prediction vs real data')\n",
    "plt.show()"
   ]
  }
 ],
 "metadata": {
  "kernelspec": {
   "display_name": "Python 3",
   "language": "python",
   "name": "python3"
  },
  "language_info": {
   "codemirror_mode": {
    "name": "ipython",
    "version": 3
   },
   "file_extension": ".py",
   "mimetype": "text/x-python",
   "name": "python",
   "nbconvert_exporter": "python",
   "pygments_lexer": "ipython3",
   "version": "3.10.3"
  },
  "orig_nbformat": 4,
  "vscode": {
   "interpreter": {
    "hash": "8c3d4d9970fc5c09c50d9318a9c7fbf4d0159e4b28833276f5678ee22bded273"
   }
  }
 },
 "nbformat": 4,
 "nbformat_minor": 2
}
