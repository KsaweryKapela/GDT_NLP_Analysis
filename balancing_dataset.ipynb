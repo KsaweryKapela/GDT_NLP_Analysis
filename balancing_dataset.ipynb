{
 "cells": [
  {
   "cell_type": "code",
   "execution_count": 2,
   "metadata": {},
   "outputs": [],
   "source": [
    "import pandas as pd"
   ]
  },
  {
   "cell_type": "code",
   "execution_count": 4,
   "metadata": {},
   "outputs": [],
   "source": [
    "dataset_1 = 'NLP_FULLSTOPS.xlsx'\n",
    "dataset_2 = 'NLP_PILOT.xlsx'\n",
    "\n",
    "df_1 = pd.read_excel(io=dataset_1)\n",
    "df_2 = pd.read_excel(io=dataset_2)"
   ]
  },
  {
   "cell_type": "code",
   "execution_count": 5,
   "metadata": {},
   "outputs": [],
   "source": [
    "important_columns = ['nlp_1', 'nlp_2', 'nlp_3', 'nlp_4', 'nlp_5', 'nlp_6', 'GDT_score']\n",
    "df_1 = df_1[important_columns]\n",
    "df_2 = df_2[important_columns]\n",
    "\n",
    "df = pd.concat([df_1, df_2])"
   ]
  },
  {
   "cell_type": "code",
   "execution_count": 8,
   "metadata": {},
   "outputs": [],
   "source": [
    "df.to_excel('NLP_CONNECTED.xlsx')"
   ]
  },
  {
   "cell_type": "code",
   "execution_count": 71,
   "metadata": {},
   "outputs": [
    {
     "data": {
      "text/plain": [
       "[<matplotlib.lines.Line2D at 0x1eb75397d60>]"
      ]
     },
     "execution_count": 71,
     "metadata": {},
     "output_type": "execute_result"
    },
    {
     "data": {
      "image/png": "[encoded data removed]",
      "text/plain": [
       "<Figure size 432x288 with 1 Axes>"
      ]
     },
     "metadata": {
      "needs_background": "light"
     },
     "output_type": "display_data"
    }
   ],
   "source": [
    "import matplotlib.pyplot as plt\n",
    "\n",
    "sorted_gdt_scores = sorted(df['GDT_score'])\n",
    "plt.plot(sorted_gdt_scores)"
   ]
  },
  {
   "cell_type": "code",
   "execution_count": 72,
   "metadata": {},
   "outputs": [
    {
     "data": {
      "text/plain": [
       "4     182\n",
       "5      82\n",
       "8      57\n",
       "6      53\n",
       "12     46\n",
       "7      43\n",
       "9      35\n",
       "10     30\n",
       "14     21\n",
       "11     20\n",
       "13     13\n",
       "15     12\n",
       "16     12\n",
       "20      5\n",
       "17      3\n",
       "19      2\n",
       "18      1\n",
       "Name: GDT_score, dtype: int64"
      ]
     },
     "execution_count": 72,
     "metadata": {},
     "output_type": "execute_result"
    }
   ],
   "source": [
    "df['GDT_score'].value_counts()"
   ]
  },
  {
   "cell_type": "code",
   "execution_count": 73,
   "metadata": {},
   "outputs": [
    {
     "data": {
      "text/html": [
       "<div>\n",
       "<style scoped>\n",
       "    .dataframe tbody tr th:only-of-type {\n",
       "        vertical-align: middle;\n",
       "    }\n",
       "\n",
       "    .dataframe tbody tr th {\n",
       "        vertical-align: top;\n",
       "    }\n",
       "\n",
       "    .dataframe thead th {\n",
       "        text-align: right;\n",
       "    }\n",
       "</style>\n",
       "<table border=\"1\" class=\"dataframe\">\n",
       "  <thead>\n",
       "    <tr style=\"text-align: right;\">\n",
       "      <th></th>\n",
       "      <th>nlp_1</th>\n",
       "      <th>nlp_2</th>\n",
       "      <th>nlp_3</th>\n",
       "      <th>nlp_4</th>\n",
       "      <th>nlp_5</th>\n",
       "      <th>nlp_6</th>\n",
       "      <th>GDT_score</th>\n",
       "    </tr>\n",
       "  </thead>\n",
       "  <tbody>\n",
       "    <tr>\n",
       "      <th>0</th>\n",
       "      <td>nic mi nie przeszkadza w realizacji swoich cel...</td>\n",
       "      <td>Nie wplywa. Relaks. Lepsze samopoczucie. Rozry...</td>\n",
       "      <td>Brak.</td>\n",
       "      <td>Brak.</td>\n",
       "      <td>Brak</td>\n",
       "      <td>Dobra.</td>\n",
       "      <td>15</td>\n",
       "    </tr>\n",
       "    <tr>\n",
       "      <th>1</th>\n",
       "      <td>jeden cel już osiągnąłem a nad drugi nie mam c...</td>\n",
       "      <td>Nic nie zmienia. Nuda. Strata czasu. Brak ocho...</td>\n",
       "      <td>Żal. Smutek. Niecierpliwość. Satysfakcja. Umiar.</td>\n",
       "      <td>Pustki. Zajęcie czasu. Satysfakcji. Radość. Ci...</td>\n",
       "      <td>Denerwują się. Nie dają kasy. Marudzą. Krzyczą...</td>\n",
       "      <td>Jest w normie. Dobra. Radość. Zawsze są chęci....</td>\n",
       "      <td>6</td>\n",
       "    </tr>\n",
       "    <tr>\n",
       "      <th>2</th>\n",
       "      <td>Jestem zawsze uśmiechnięta, mimo czasami trudn...</td>\n",
       "      <td>Czas. Rozrywka. Czas. Edukacja. Wyzwanie. Rewa...</td>\n",
       "      <td>Czas. Relaks. Spokuj. Wyciszenie. Możliwość.</td>\n",
       "      <td>Czas. Nuda. Relaks. Wiadomość. Ponury.</td>\n",
       "      <td>Źle. Podnoszącej. Tolerancja. Dobrze. Nijak.</td>\n",
       "      <td>Bez. Zmian. Tak. Sobie. Plus.</td>\n",
       "      <td>4</td>\n",
       "    </tr>\n",
       "    <tr>\n",
       "      <th>3</th>\n",
       "      <td>Zawsze dążę do celu,staram się być uczciwy i s...</td>\n",
       "      <td>Top eleven. Coin masters. Pasjans. Little city...</td>\n",
       "      <td>Relaks. Wyciszenie. Rozrywka. Zabicie czasu. L...</td>\n",
       "      <td>Odpoczynek. Zabicie nudy. Gdy się nudzę. Lubię...</td>\n",
       "      <td>Nie zwracają uwagi. Śmieją się. Dziwią się. Cz...</td>\n",
       "      <td>Pełen luz. Spokojny. Wyciszony. Czasem stres. ...</td>\n",
       "      <td>8</td>\n",
       "    </tr>\n",
       "    <tr>\n",
       "      <th>4</th>\n",
       "      <td>Moimi celami życiowymi są regularne podróże po...</td>\n",
       "      <td>Wyzwanie. Rozrywka. Rywalizacja. Odskocznia. O...</td>\n",
       "      <td>Walka. Mobilizacja. Dreszczyk. Emocje. Rozrywka.</td>\n",
       "      <td>Samorealizacja. Prywatność. Integracja. Współz...</td>\n",
       "      <td>Dziecinność. Zenada. Glupota. Strata czasu. Wa...</td>\n",
       "      <td>Swiezość. Power. Motywacja. Determinacja. Walka.</td>\n",
       "      <td>10</td>\n",
       "    </tr>\n",
       "  </tbody>\n",
       "</table>\n",
       "</div>"
      ],
      "text/plain": [
       "                                               nlp_1  \\\n",
       "0  nic mi nie przeszkadza w realizacji swoich cel...   \n",
       "1  jeden cel już osiągnąłem a nad drugi nie mam c...   \n",
       "2  Jestem zawsze uśmiechnięta, mimo czasami trudn...   \n",
       "3  Zawsze dążę do celu,staram się być uczciwy i s...   \n",
       "4  Moimi celami życiowymi są regularne podróże po...   \n",
       "\n",
       "                                               nlp_2  \\\n",
       "0  Nie wplywa. Relaks. Lepsze samopoczucie. Rozry...   \n",
       "1  Nic nie zmienia. Nuda. Strata czasu. Brak ocho...   \n",
       "2  Czas. Rozrywka. Czas. Edukacja. Wyzwanie. Rewa...   \n",
       "3  Top eleven. Coin masters. Pasjans. Little city...   \n",
       "4  Wyzwanie. Rozrywka. Rywalizacja. Odskocznia. O...   \n",
       "\n",
       "                                               nlp_3  \\\n",
       "0                                             Brak.    \n",
       "1  Żal. Smutek. Niecierpliwość. Satysfakcja. Umiar.    \n",
       "2      Czas. Relaks. Spokuj. Wyciszenie. Możliwość.    \n",
       "3  Relaks. Wyciszenie. Rozrywka. Zabicie czasu. L...   \n",
       "4  Walka. Mobilizacja. Dreszczyk. Emocje. Rozrywka.    \n",
       "\n",
       "                                               nlp_4  \\\n",
       "0                                             Brak.    \n",
       "1  Pustki. Zajęcie czasu. Satysfakcji. Radość. Ci...   \n",
       "2            Czas. Nuda. Relaks. Wiadomość. Ponury.    \n",
       "3  Odpoczynek. Zabicie nudy. Gdy się nudzę. Lubię...   \n",
       "4  Samorealizacja. Prywatność. Integracja. Współz...   \n",
       "\n",
       "                                               nlp_5  \\\n",
       "0                                               Brak   \n",
       "1  Denerwują się. Nie dają kasy. Marudzą. Krzyczą...   \n",
       "2      Źle. Podnoszącej. Tolerancja. Dobrze. Nijak.    \n",
       "3  Nie zwracają uwagi. Śmieją się. Dziwią się. Cz...   \n",
       "4  Dziecinność. Zenada. Glupota. Strata czasu. Wa...   \n",
       "\n",
       "                                               nlp_6  GDT_score  \n",
       "0                                            Dobra.          15  \n",
       "1  Jest w normie. Dobra. Radość. Zawsze są chęci....          6  \n",
       "2                     Bez. Zmian. Tak. Sobie. Plus.           4  \n",
       "3  Pełen luz. Spokojny. Wyciszony. Czasem stres. ...          8  \n",
       "4  Swiezość. Power. Motywacja. Determinacja. Walka.          10  "
      ]
     },
     "execution_count": 73,
     "metadata": {},
     "output_type": "execute_result"
    }
   ],
   "source": [
    "shuffled_df = df.sample(frac=1).reset_index(drop=True)\n",
    "shuffled_df.head()"
   ]
  },
  {
   "cell_type": "code",
   "execution_count": 74,
   "metadata": {},
   "outputs": [],
   "source": [
    "import numpy as np\n",
    "values_range = range(4, 21)\n",
    "zeros = np.zeros(17)\n",
    "\n",
    "values_dict = {value: zero for value, zero in zip(values_range, zeros)}"
   ]
  },
  {
   "cell_type": "code",
   "execution_count": 75,
   "metadata": {},
   "outputs": [
    {
     "name": "stdout",
     "output_type": "stream",
     "text": [
      "{4: 10.0, 5: 10.0, 6: 10.0, 7: 10.0, 8: 10.0, 9: 10.0, 10: 10.0, 11: 10.0, 12: 10.0, 13: 10.0, 14: 10.0, 15: 10.0, 16: 10.0, 17: 3.0, 18: 1.0, 19: 2.0, 20: 5.0}\n"
     ]
    }
   ],
   "source": [
    "for i in range(len(shuffled_df)):\n",
    "    gdt_score = shuffled_df['GDT_score'][i]\n",
    "    if values_dict[gdt_score] >= 10:\n",
    "        shuffled_df = shuffled_df.drop(labels=i, axis=0)\n",
    "    else:\n",
    "        values_dict[gdt_score] += 1\n",
    "\n",
    "print(values_dict)"
   ]
  },
  {
   "cell_type": "code",
   "execution_count": 81,
   "metadata": {},
   "outputs": [
    {
     "data": {
      "text/plain": [
       "15    10\n",
       "5     10\n",
       "14    10\n",
       "16    10\n",
       "9     10\n",
       "11    10\n",
       "6     10\n",
       "13    10\n",
       "7     10\n",
       "12    10\n",
       "10    10\n",
       "8     10\n",
       "4     10\n",
       "20     5\n",
       "17     3\n",
       "19     2\n",
       "18     1\n",
       "Name: GDT_score, dtype: int64"
      ]
     },
     "execution_count": 81,
     "metadata": {},
     "output_type": "execute_result"
    }
   ],
   "source": [
    "shuffled_df['GDT_score'].value_counts()"
   ]
  },
  {
   "cell_type": "code",
   "execution_count": 78,
   "metadata": {},
   "outputs": [
    {
     "data": {
      "text/plain": [
       "[<matplotlib.lines.Line2D at 0x1eb7543b490>]"
      ]
     },
     "execution_count": 78,
     "metadata": {},
     "output_type": "execute_result"
    },
    {
     "data": {
      "image/png": "[encoded data removed]",
      "text/plain": [
       "<Figure size 432x288 with 1 Axes>"
      ]
     },
     "metadata": {
      "needs_background": "light"
     },
     "output_type": "display_data"
    }
   ],
   "source": [
    "new_gdt_scores = sorted(shuffled_df['GDT_score'])\n",
    "plt.plot(new_gdt_scores)"
   ]
  },
  {
   "cell_type": "code",
   "execution_count": 77,
   "metadata": {},
   "outputs": [],
   "source": [
    "shuffled_df.to_excel('NLP_BALANCED.xlsx')\n"
   ]
  }
 ],
 "metadata": {
  "kernelspec": {
   "display_name": "Python 3",
   "language": "python",
   "name": "python3"
  },
  "language_info": {
   "codemirror_mode": {
    "name": "ipython",
    "version": 3
   },
   "file_extension": ".py",
   "mimetype": "text/x-python",
   "name": "python",
   "nbconvert_exporter": "python",
   "pygments_lexer": "ipython3",
   "version": "3.10.3"
  },
  "orig_nbformat": 4,
  "vscode": {
   "interpreter": {
    "hash": "8c3d4d9970fc5c09c50d9318a9c7fbf4d0159e4b28833276f5678ee22bded273"
   }
  }
 },
 "nbformat": 4,
 "nbformat_minor": 2
}
