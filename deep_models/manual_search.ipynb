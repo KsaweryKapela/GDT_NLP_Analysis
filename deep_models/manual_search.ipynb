{
 "cells": [
  {
   "cell_type": "code",
   "execution_count": 2,
   "metadata": {},
   "outputs": [
    {
     "name": "stderr",
     "output_type": "stream",
     "text": [
      "2023-04-25 12:08:34.209445: I tensorflow/core/util/port.cc:110] oneDNN custom operations are on. You may see slightly different numerical results due to floating-point round-off errors from different computation orders. To turn them off, set the environment variable `TF_ENABLE_ONEDNN_OPTS=0`.\n",
      "2023-04-25 12:08:34.231880: I tensorflow/core/platform/cpu_feature_guard.cc:182] This TensorFlow binary is optimized to use available CPU instructions in performance-critical operations.\n",
      "To enable the following instructions: AVX2 AVX_VNNI FMA, in other operations, rebuild TensorFlow with the appropriate compiler flags.\n",
      "2023-04-25 12:08:34.534776: W tensorflow/compiler/tf2tensorrt/utils/py_utils.cc:38] TF-TRT Warning: Could not find TensorRT\n",
      "2023-04-25 12:08:34.948041: I tensorflow/compiler/xla/stream_executor/cuda/cuda_gpu_executor.cc:996] successful NUMA node read from SysFS had negative value (-1), but there must be at least one NUMA node, so returning NUMA node zero. See more at https://github.com/torvalds/linux/blob/v6.0/Documentation/ABI/testing/sysfs-bus-pci#L344-L355\n",
      "2023-04-25 12:08:34.977415: I tensorflow/compiler/xla/stream_executor/cuda/cuda_gpu_executor.cc:996] successful NUMA node read from SysFS had negative value (-1), but there must be at least one NUMA node, so returning NUMA node zero. See more at https://github.com/torvalds/linux/blob/v6.0/Documentation/ABI/testing/sysfs-bus-pci#L344-L355\n",
      "2023-04-25 12:08:34.977488: I tensorflow/compiler/xla/stream_executor/cuda/cuda_gpu_executor.cc:996] successful NUMA node read from SysFS had negative value (-1), but there must be at least one NUMA node, so returning NUMA node zero. See more at https://github.com/torvalds/linux/blob/v6.0/Documentation/ABI/testing/sysfs-bus-pci#L344-L355\n"
     ]
    },
    {
     "name": "stdout",
     "output_type": "stream",
     "text": [
      "Num GPUs Available:  1\n"
     ]
    }
   ],
   "source": [
    "import sys\n",
    "import dotenv\n",
    "import os\n",
    "dotenv.load_dotenv()\n",
    "sys.path.append(os.getenv('MAINDIR'))\n",
    "from helpers.ds_helpers import X_y_split, open_and_prepare_df\n",
    "from helpers.models_helpers import random_seeds\n",
    "import tensorflow as tf\n",
    "import numpy as np\n",
    "from scipy import stats\n",
    "import warnings\n",
    "from sklearn.model_selection import StratifiedKFold\n",
    "from sklearn.metrics import mean_absolute_error\n",
    "\n",
    "\n",
    "warnings.filterwarnings(\"ignore\", category=UserWarning)\n",
    "print(\"Num GPUs Available: \", len(tf.config.list_physical_devices('GPU')))\n",
    "\n",
    "X, y = X_y_split(open_and_prepare_df('features'), 'nlp_all')"
   ]
  },
  {
   "attachments": {},
   "cell_type": "markdown",
   "metadata": {},
   "source": [
    "Manual parameters search"
   ]
  },
  {
   "cell_type": "code",
   "execution_count": 9,
   "metadata": {},
   "outputs": [],
   "source": [
    "def create_model():\n",
    "    random_seeds()\n",
    "    keras_model = tf.keras.Sequential([\n",
    "                        tf.keras.layers.Dense(300, activation='sigmoid'),\n",
    "                        tf.keras.layers.Dense(150, activation='LeakyReLU'),\n",
    "                        tf.keras.layers.Dense(64, activation='LeakyReLU'),\n",
    "                        \n",
    "                        tf.keras.layers.Dense(units=1, activation='selu')\n",
    "                        ])\n",
    "\n",
    "    keras_model.compile(optimizer=tf.keras.optimizers.SGD(learning_rate=0.001, momentum=0.85), loss='mean_absolute_error')\n",
    "    return keras_model"
   ]
  },
  {
   "cell_type": "code",
   "execution_count": 10,
   "metadata": {},
   "outputs": [
    {
     "name": "stdout",
     "output_type": "stream",
     "text": [
      "PearsonRResult(statistic=0.5602176557319587, pvalue=7.669735201215567e-05)\n",
      "PearsonRResult(statistic=0.6554783945823128, pvalue=1.373531985306179e-06)\n",
      "PearsonRResult(statistic=0.5812894026681479, pvalue=3.508713499212738e-05)\n",
      "PearsonRResult(statistic=0.36080204328407395, pvalue=0.017458892669358)\n",
      "PearsonRResult(statistic=0.514659182224191, pvalue=0.00041414177161451965)\n",
      "PearsonRResult(statistic=0.42304774383387567, pvalue=0.004707227231263233)\n",
      "PearsonRResult(statistic=0.5987923361546916, pvalue=2.2175598643418047e-05)\n",
      "PearsonRResult(statistic=0.5171110963129416, pvalue=0.0003843052635653643)\n",
      "PearsonRResult(statistic=0.545634018546047, pvalue=0.0001542408029089122)\n",
      "PearsonRResult(statistic=0.42852437195781995, pvalue=0.004144392099843738)\n"
     ]
    },
    {
     "data": {
      "text/plain": [
       "PearsonRResult(statistic=0.5066653860605428, pvalue=1.292724354015643e-29)"
      ]
     },
     "execution_count": 10,
     "metadata": {},
     "output_type": "execute_result"
    }
   ],
   "source": [
    "kfold = StratifiedKFold(n_splits=10, shuffle=True, random_state=8)\n",
    "\n",
    "keras_predictions = []\n",
    "y_main_true = []\n",
    "\n",
    "for train_index, test_index in kfold.split(X, y):\n",
    "    X_train, X_test = X[train_index], X[test_index]\n",
    "    y_train, y_test = y[train_index], y[test_index]\n",
    "    \n",
    "    model = create_model()\n",
    "    model.fit(X_train, y_train, batch_size=70, epochs=150, verbose=0)\n",
    "    keras_prediction = model.predict(X_test, verbose=0).flatten()\n",
    "\n",
    "    keras_predictions = np.concatenate((keras_predictions, keras_prediction))\n",
    "    y_main_true = np.concatenate((y_main_true, y_test))\n",
    "    print(stats.pearsonr(keras_prediction, y_test))\n",
    "    \n",
    "stats.pearsonr(y_main_true, keras_predictions)"
   ]
  }
 ],
 "metadata": {
  "kernelspec": {
   "display_name": "Python 3",
   "language": "python",
   "name": "python3"
  },
  "language_info": {
   "codemirror_mode": {
    "name": "ipython",
    "version": 3
   },
   "file_extension": ".py",
   "mimetype": "text/x-python",
   "name": "python",
   "nbconvert_exporter": "python",
   "pygments_lexer": "ipython3",
   "version": "3.10.6"
  },
  "orig_nbformat": 4
 },
 "nbformat": 4,
 "nbformat_minor": 2
}
