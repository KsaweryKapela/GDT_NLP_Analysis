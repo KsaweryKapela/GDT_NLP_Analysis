{
 "cells": [
  {
   "cell_type": "code",
   "execution_count": 2,
   "metadata": {},
   "outputs": [],
   "source": [
    "from helpers import open_and_prepare_df, X_y_split\n",
    "import numpy as np\n",
    "from scipy import stats\n",
    "from sklearn.model_selection import StratifiedKFold\n",
    "from sklearn.metrics import mean_absolute_error\n",
    "from sklearn import svm\n",
    "from sklearn.linear_model import LinearRegression, Ridge\n",
    "from sklearn.ensemble import RandomForestRegressor\n",
    "from sklearn.neighbors import KNeighborsRegressor\n",
    "from sklearn.linear_model import Lasso\n",
    "from sklearn.svm import SVR\n",
    "import warnings\n",
    "\n",
    "\n",
    "warnings.filterwarnings(\"ignore\", category=UserWarning)"
   ]
  },
  {
   "cell_type": "code",
   "execution_count": 3,
   "metadata": {},
   "outputs": [],
   "source": [
    "X, y = X_y_split(open_and_prepare_df('features'), 'nlp_all')"
   ]
  },
  {
   "cell_type": "code",
   "execution_count": 69,
   "metadata": {},
   "outputs": [],
   "source": [
    "def get_kfold_results(regression_function, X, y):\n",
    "\n",
    "    kfold = StratifiedKFold(n_splits=10, shuffle=True, random_state=8)\n",
    "\n",
    "    true_y = []\n",
    "    preds = []\n",
    "\n",
    "    for train_index, test_index in kfold.split(X, y):\n",
    "\n",
    "        X_train, X_test = X[train_index], X[test_index]\n",
    "        y_train, y_test = y[train_index], y[test_index]\n",
    "\n",
    "        regression_function.fit(X_train, y_train)\n",
    "        pred = regression_function.predict(X_test)\n",
    "        preds = np.concatenate((preds, pred))\n",
    "\n",
    "        true_y = np.concatenate((true_y, y_test))\n",
    "\n",
    "    corr = round(stats.pearsonr(preds, true_y)[0], 3)\n",
    "    mae = round(mean_absolute_error(preds, true_y), 3)\n",
    "    print(stats.pearsonr(preds, true_y))\n",
    "    print(f'Corr = {corr}, MAE = {mae} Func: {regression_function}')\n",
    "\n",
    "    return corr, mae"
   ]
  },
  {
   "cell_type": "code",
   "execution_count": 70,
   "metadata": {},
   "outputs": [],
   "source": [
    "clf_list = [svm.SVR(kernel='linear', C=0.0255),\n",
    "            LinearRegression(),\n",
    "            Ridge(alpha=200),\n",
    "            KNeighborsRegressor(n_neighbors=50, weights='distance'),\n",
    "            Lasso(alpha=0.1)]"
   ]
  },
  {
   "cell_type": "code",
   "execution_count": 71,
   "metadata": {},
   "outputs": [
    {
     "name": "stdout",
     "output_type": "stream",
     "text": [
      "PearsonRResult(statistic=0.5067062417145017, pvalue=1.277198208166997e-29)\n",
      "Corr = 0.507, MAE = 2.395 Func: SVR(C=0.0255, kernel='linear')\n",
      "PearsonRResult(statistic=0.24241803209375107, pvalue=3.287515249586715e-07)\n",
      "Corr = 0.242, MAE = 4.993 Func: LinearRegression()\n",
      "PearsonRResult(statistic=0.49611343922657036, pvalue=2.7759826085052595e-28)\n",
      "Corr = 0.496, MAE = 2.526 Func: Ridge(alpha=200)\n",
      "PearsonRResult(statistic=0.41422542160036313, pvalue=2.21407148952214e-19)\n",
      "Corr = 0.414, MAE = 2.657 Func: KNeighborsRegressor(n_neighbors=50, weights='distance')\n",
      "PearsonRResult(statistic=0.47187131918924624, pvalue=2.1555588263990607e-25)\n",
      "Corr = 0.472, MAE = 2.572 Func: Lasso(alpha=0.1)\n"
     ]
    }
   ],
   "source": [
    "for clf in clf_list:\n",
    "    get_kfold_results(clf, X,  y)\n"
   ]
  }
 ],
 "metadata": {
  "kernelspec": {
   "display_name": "Python 3",
   "language": "python",
   "name": "python3"
  },
  "language_info": {
   "codemirror_mode": {
    "name": "ipython",
    "version": 3
   },
   "file_extension": ".py",
   "mimetype": "text/x-python",
   "name": "python",
   "nbconvert_exporter": "python",
   "pygments_lexer": "ipython3",
   "version": "3.10.6"
  },
  "orig_nbformat": 4
 },
 "nbformat": 4,
 "nbformat_minor": 2
}
