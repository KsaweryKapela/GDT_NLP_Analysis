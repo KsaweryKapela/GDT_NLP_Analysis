{
 "cells": [
  {
   "cell_type": "code",
   "execution_count": 1,
   "metadata": {},
   "outputs": [],
   "source": [
    "import numpy as np\n",
    "import pandas as pd\n",
    "import matplotlib.pyplot as plt\n",
    "import time\n",
    "from scipy import stats\n",
    "from sklearn import svm"
   ]
  },
  {
   "cell_type": "code",
   "execution_count": 2,
   "metadata": {},
   "outputs": [
    {
     "name": "stderr",
     "output_type": "stream",
     "text": [
      "c:\\Users\\Lenovo\\AppData\\Local\\Programs\\Python\\Python310\\lib\\site-packages\\tqdm\\auto.py:22: TqdmWarning: IProgress not found. Please update jupyter and ipywidgets. See https://ipywidgets.readthedocs.io/en/stable/user_install.html\n",
      "  from .autonotebook import tqdm as notebook_tqdm\n",
      "Some weights of the model checkpoint at allegro/herbert-base-cased were not used when initializing BertModel: ['cls.predictions.transform.dense.bias', 'cls.predictions.bias', 'cls.sso.sso_relationship.bias', 'cls.predictions.transform.dense.weight', 'cls.predictions.decoder.weight', 'cls.predictions.transform.LayerNorm.bias', 'cls.predictions.transform.LayerNorm.weight', 'cls.sso.sso_relationship.weight', 'cls.predictions.decoder.bias']\n",
      "- This IS expected if you are initializing BertModel from the checkpoint of a model trained on another task or with another architecture (e.g. initializing a BertForSequenceClassification model from a BertForPreTraining model).\n",
      "- This IS NOT expected if you are initializing BertModel from the checkpoint of a model that you expect to be exactly identical (initializing a BertForSequenceClassification model from a BertForSequenceClassification model).\n"
     ]
    }
   ],
   "source": [
    "from transformers import AutoTokenizer, AutoModel\n",
    "\n",
    "tokenizer = AutoTokenizer.from_pretrained('allegro/herbert-base-cased')\n",
    "bert_model = AutoModel.from_pretrained(\"allegro/herbert-base-cased\") "
   ]
  },
  {
   "cell_type": "code",
   "execution_count": 3,
   "metadata": {},
   "outputs": [],
   "source": [
    "from bert_transformer import BertTransformer\n",
    "\n",
    "bert_transformer = BertTransformer(tokenizer, bert_model, max_length=60)"
   ]
  },
  {
   "cell_type": "code",
   "execution_count": 27,
   "metadata": {},
   "outputs": [],
   "source": [
    "X_string = 'nlp_3', 'nlp_2', 'nlp_5', 'nlp_4' #tuple\n",
    "Y_string = 'GDT_score'\n",
    "DATASET = 'NLP_CLEAN.xlsx'"
   ]
  },
  {
   "cell_type": "code",
   "execution_count": 101,
   "metadata": {},
   "outputs": [
    {
     "name": "stdout",
     "output_type": "stream",
     "text": [
      "502\n",
      "469\n",
      "468\n",
      "460\n",
      "449\n",
      "433\n"
     ]
    }
   ],
   "source": [
    "df = pd.read_excel(io=DATASET)\n",
    "df = df[df['time'] > 300]\n",
    "df = df[df['label'] != 1]\n",
    "df = df[df['is_male'] == 1]\n",
    "df = df.reset_index()\n",
    "\n",
    "for item in [f'nlp_{i}' for i in range(2, 6)]:\n",
    "    df = df[df[item].apply(lambda x: len(x) > 10)]\n",
    "    print(len(df))\n"
   ]
  },
  {
   "cell_type": "code",
   "execution_count": 102,
   "metadata": {},
   "outputs": [
    {
     "name": "stdout",
     "output_type": "stream",
     "text": [
      "nlp_4 added to list\n"
     ]
    },
    {
     "data": {
      "text/plain": [
       "(433, 3072)"
      ]
     },
     "execution_count": 102,
     "metadata": {},
     "output_type": "execute_result"
    }
   ],
   "source": [
    "all_x = []\n",
    "\n",
    "for item in X_string:\n",
    "\n",
    "    item_processed = bert_transformer.transform(list(df[item]))\n",
    "    all_x.append(item_processed)\n",
    "    print(f'{item} added to list')\n",
    "    time.sleep(0.5)\n",
    "\n",
    "all_x = tuple(all_x)\n",
    "X = np.hstack(all_x)\n",
    "\n",
    "y = df[Y_string].values\n",
    "X.shape"
   ]
  },
  {
   "cell_type": "code",
   "execution_count": 103,
   "metadata": {},
   "outputs": [
    {
     "name": "stdout",
     "output_type": "stream",
     "text": [
      "95\n",
      "94\n",
      "92\n",
      "91\n"
     ]
    }
   ],
   "source": [
    "pilot_df = pd.read_excel('NLP_PILOT.XLSX')\n",
    "\n",
    "for item in [f'nlp_{i}' for i in range(2, 6)]:\n",
    "    pilot_df = pilot_df[pilot_df[item].apply(lambda x: len(x) > 10)]\n",
    "    print(len(pilot_df))"
   ]
  },
  {
   "cell_type": "code",
   "execution_count": 104,
   "metadata": {},
   "outputs": [
    {
     "name": "stdout",
     "output_type": "stream",
     "text": [
      "nlp_4 added to list\n"
     ]
    },
    {
     "data": {
      "text/plain": [
       "(91, 3072)"
      ]
     },
     "execution_count": 104,
     "metadata": {},
     "output_type": "execute_result"
    }
   ],
   "source": [
    "pilot_X = []\n",
    "\n",
    "for item in X_string:\n",
    "\n",
    "    item_processed = bert_transformer.transform(list(pilot_df[item]))\n",
    "    pilot_X.append(item_processed)\n",
    "    print(f'{item} added to list')\n",
    "    time.sleep(0.5)\n",
    "\n",
    "pilot_X = tuple(pilot_X)\n",
    "pilot_X = np.hstack(pilot_X)\n",
    "\n",
    "pilot_Y = pilot_df[Y_string].values\n",
    "pilot_X.shape"
   ]
  },
  {
   "cell_type": "code",
   "execution_count": 150,
   "metadata": {},
   "outputs": [],
   "source": [
    "SVR_function = svm.SVR(kernel='linear', C=0.022, tol=1e-3)"
   ]
  },
  {
   "cell_type": "code",
   "execution_count": 151,
   "metadata": {},
   "outputs": [
    {
     "name": "stdout",
     "output_type": "stream",
     "text": [
      "PearsonRResult(statistic=0.3748742641609287, pvalue=0.01216831152887442)\n",
      "PearsonRResult(statistic=0.42771058861027555, pvalue=0.0037793572844255427)\n",
      "PearsonRResult(statistic=0.5070819322457807, pvalue=0.0004433769737893795)\n",
      "PearsonRResult(statistic=0.47924535049939876, pvalue=0.0011482093255303263)\n",
      "PearsonRResult(statistic=0.5717593476740802, pvalue=6.19970303862193e-05)\n",
      "PearsonRResult(statistic=0.5684145760477199, pvalue=6.997112792058284e-05)\n",
      "PearsonRResult(statistic=0.28054157804437513, pvalue=0.06842279337648866)\n",
      "PearsonRResult(statistic=0.22707876099577007, pvalue=0.14308893092451394)\n",
      "PearsonRResult(statistic=0.5845414947234907, pvalue=3.856593571373136e-05)\n",
      "PearsonRResult(statistic=0.6108465630520692, pvalue=1.3596755737274915e-05)\n"
     ]
    }
   ],
   "source": [
    "from sklearn.model_selection import KFold\n",
    "\n",
    "kfold = KFold(n_splits=10, shuffle=True, random_state=1)\n",
    "\n",
    "true_data = []\n",
    "results = []\n",
    "\n",
    "\n",
    "for train_index, test_index in kfold.split(X):\n",
    "\n",
    "    X_train, X_test = X[train_index], X[test_index]\n",
    "    y_train, y_test = y[train_index], y[test_index]\n",
    "\n",
    "   \n",
    "    vector_regression = SVR_function\n",
    "    vector_regression.fit(X_train, y_train)\n",
    "    result = vector_regression.predict(X_test)\n",
    "\n",
    "    result = [float(item) for item in result]\n",
    "    results = np.concatenate((results, result))\n",
    "    true_data = np.concatenate((true_data, y_test))\n",
    "\n",
    "    print(stats.pearsonr(result, y_test))\n"
   ]
  },
  {
   "cell_type": "code",
   "execution_count": 152,
   "metadata": {},
   "outputs": [
    {
     "name": "stdout",
     "output_type": "stream",
     "text": [
      "PearsonRResult(statistic=0.4575065515497328, pvalue=8.718115093092163e-24)\n"
     ]
    }
   ],
   "source": [
    "#WHOLE DATASET\n",
    "\n",
    "results = [item if item >= 4 else 4 for item in results]\n",
    "results = [item if item <= 20 else 20 for item in results]\n",
    "\n",
    "print(stats.pearsonr(results, true_data))"
   ]
  },
  {
   "cell_type": "code",
   "execution_count": 153,
   "metadata": {},
   "outputs": [
    {
     "name": "stdout",
     "output_type": "stream",
     "text": [
      "MAE: 2.45\n",
      "MSE: 10.77\n"
     ]
    }
   ],
   "source": [
    "from sklearn.metrics import mean_absolute_error, mean_squared_error\n",
    "\n",
    "\n",
    "mae = mean_absolute_error(true_data, results)\n",
    "mse = mean_squared_error(true_data, results)\n",
    "\n",
    "print(f'MAE: {mae:.2f}')\n",
    "print(f'MSE: {mse:.2f}')"
   ]
  },
  {
   "cell_type": "code",
   "execution_count": 154,
   "metadata": {},
   "outputs": [],
   "source": [
    "answers_tuples = [(y, res) for y, res in zip(y, results)]\n",
    "sorted_tuples = sorted(answers_tuples, key=lambda x: x[0])\n",
    "\n",
    "test_y = [x[0] for x in sorted_tuples]\n",
    "result = [x[1] for x in sorted_tuples]\n",
    "\n",
    "rounded_result = [round(item) for item in result]"
   ]
  },
  {
   "cell_type": "code",
   "execution_count": 155,
   "metadata": {},
   "outputs": [
    {
     "data": {
      "image/png": "[encoded data removed]",
      "text/plain": [
       "<Figure size 432x288 with 1 Axes>"
      ]
     },
     "metadata": {
      "needs_background": "light"
     },
     "output_type": "display_data"
    }
   ],
   "source": [
    "plt.plot(range(len(result)), rounded_result, 'o', color=[1, 0, 0, 0.7], label=\"Prediction\")\n",
    "plt.plot(range(len(test_y)), test_y, 'o', color=[0, 1, 0, 0.1], label='Observable data')\n",
    "plt.legend(loc='upper left')\n",
    "plt.title('Prediction vs real data | K-fold')\n",
    "plt.show()"
   ]
  },
  {
   "cell_type": "code",
   "execution_count": 156,
   "metadata": {},
   "outputs": [
    {
     "data": {
      "text/plain": [
       "SVR(C=0.022, kernel='linear')"
      ]
     },
     "execution_count": 156,
     "metadata": {},
     "output_type": "execute_result"
    }
   ],
   "source": [
    "# Using model to predict pilot data\n",
    "\n",
    "vector_regression_pilot = SVR_function\n",
    "vector_regression_pilot.fit(X, y)"
   ]
  },
  {
   "cell_type": "code",
   "execution_count": 157,
   "metadata": {},
   "outputs": [
    {
     "name": "stdout",
     "output_type": "stream",
     "text": [
      "PearsonRResult(statistic=0.29804125657809644, pvalue=0.004113236113119601)\n"
     ]
    }
   ],
   "source": [
    "prediction = vector_regression_pilot.predict(pilot_X)\n",
    "prediction = [float(item) for item in prediction]\n",
    "\n",
    "results = [item if item >= 4 else 4 for item in prediction]\n",
    "results = [item if item <= 20 else 20 for item in results]\n",
    "\n",
    "print(stats.pearsonr(results, pilot_Y))"
   ]
  },
  {
   "cell_type": "code",
   "execution_count": 158,
   "metadata": {},
   "outputs": [
    {
     "data": {
      "image/png": "[encoded data removed]",
      "text/plain": [
       "<Figure size 432x288 with 1 Axes>"
      ]
     },
     "metadata": {
      "needs_background": "light"
     },
     "output_type": "display_data"
    }
   ],
   "source": [
    "answers_tuples = [(y, res) for y, res in zip(pilot_Y, results)]\n",
    "sorted_tuples = sorted(answers_tuples, key=lambda x: x[0])\n",
    "\n",
    "test_y = [x[0] for x in sorted_tuples]\n",
    "result = [x[1] for x in sorted_tuples]\n",
    "\n",
    "rounded_result = [round(int(item)) for item in result]\n",
    "\n",
    "plt.plot(range(len(result)), rounded_result, 'o', color=[1, 0, 0, 0.7], label=\"Prediction\")\n",
    "plt.plot(range(len(test_y)), test_y, 'o', color=[0, 1, 0, 0.3], label='Pilot data')\n",
    "plt.legend(loc='upper left')\n",
    "plt.title('Prediction vs real data | Pilot data')\n",
    "plt.show()"
   ]
  }
 ],
 "metadata": {
  "kernelspec": {
   "display_name": "Python 3",
   "language": "python",
   "name": "python3"
  },
  "language_info": {
   "codemirror_mode": {
    "name": "ipython",
    "version": 3
   },
   "file_extension": ".py",
   "mimetype": "text/x-python",
   "name": "python",
   "nbconvert_exporter": "python",
   "pygments_lexer": "ipython3",
   "version": "3.10.3"
  },
  "orig_nbformat": 4,
  "vscode": {
   "interpreter": {
    "hash": "8c3d4d9970fc5c09c50d9318a9c7fbf4d0159e4b28833276f5678ee22bded273"
   }
  }
 },
 "nbformat": 4,
 "nbformat_minor": 2
}
