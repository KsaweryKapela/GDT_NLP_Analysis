{
 "cells": [
  {
   "cell_type": "code",
   "execution_count": 1,
   "metadata": {},
   "outputs": [],
   "source": [
    "import sys\n",
    "import dotenv\n",
    "import os\n",
    "dotenv.load_dotenv()\n",
    "sys.path.append(os.getenv('MAINDIR'))\n",
    "from helpers.ds_helpers import X_y_split, open_and_prepare_df\n",
    "import numpy as np\n",
    "from scipy import stats\n",
    "from sklearn.model_selection import StratifiedKFold\n",
    "from sklearn.metrics import mean_absolute_error\n",
    "from sklearn import svm\n",
    "from sklearn.linear_model import LinearRegression, Ridge\n",
    "from sklearn.neighbors import KNeighborsRegressor\n",
    "from sklearn.linear_model import Lasso\n",
    "import warnings\n",
    "\n",
    "\n",
    "warnings.filterwarnings(\"ignore\", category=UserWarning)\n",
    "X, y = X_y_split(open_and_prepare_df('features'), 'nlp_all')"
   ]
  },
  {
   "cell_type": "code",
   "execution_count": 2,
   "metadata": {},
   "outputs": [],
   "source": [
    "def get_kfold_results(regression_function, X, y):\n",
    "\n",
    "    kfold = StratifiedKFold(n_splits=10, shuffle=True, random_state=8)\n",
    "\n",
    "    true_y = []\n",
    "    preds = []\n",
    "\n",
    "    for train_index, test_index in kfold.split(X, y):\n",
    "\n",
    "        X_train, X_test = X[train_index], X[test_index]\n",
    "        y_train, y_test = y[train_index], y[test_index]\n",
    "\n",
    "        regression_function.fit(X_train, y_train)\n",
    "        pred = regression_function.predict(X_test)\n",
    "        preds = np.concatenate((preds, pred))\n",
    "\n",
    "        true_y = np.concatenate((true_y, y_test))\n",
    "\n",
    "    corr = round(stats.pearsonr(preds, true_y)[0], 3)\n",
    "    mae = round(mean_absolute_error(preds, true_y), 3)\n",
    "    print(stats.pearsonr(preds, true_y))\n",
    "    print(f'Corr = {corr}, MAE = {mae} Func: {regression_function}')\n",
    "\n",
    "    return corr, mae"
   ]
  },
  {
   "cell_type": "code",
   "execution_count": 3,
   "metadata": {},
   "outputs": [],
   "source": [
    "clf_list = [svm.SVR(kernel='linear', C=0.0255),\n",
    "            LinearRegression(),\n",
    "            Ridge(alpha=200),\n",
    "            KNeighborsRegressor(n_neighbors=50, weights='distance'),\n",
    "            Lasso(alpha=0.1)]"
   ]
  },
  {
   "cell_type": "code",
   "execution_count": 4,
   "metadata": {},
   "outputs": [
    {
     "name": "stdout",
     "output_type": "stream",
     "text": [
      "PearsonRResult(statistic=0.5114312351882778, pvalue=3.1229268870224166e-30)\n",
      "Corr = 0.511, MAE = 2.386 Func: SVR(C=0.0255, kernel='linear')\n",
      "PearsonRResult(statistic=0.2601163837342429, pvalue=3.977646871603837e-08)\n",
      "Corr = 0.26, MAE = 4.889 Func: LinearRegression()\n",
      "PearsonRResult(statistic=0.49743242674842814, pvalue=1.9030586425075038e-28)\n",
      "Corr = 0.497, MAE = 2.524 Func: Ridge(alpha=200)\n",
      "PearsonRResult(statistic=0.4134733601208449, pvalue=2.6077081825292775e-19)\n",
      "Corr = 0.413, MAE = 2.661 Func: KNeighborsRegressor(n_neighbors=50, weights='distance')\n",
      "PearsonRResult(statistic=0.47169936600211165, pvalue=2.255525106850098e-25)\n",
      "Corr = 0.472, MAE = 2.572 Func: Lasso(alpha=0.1)\n"
     ]
    }
   ],
   "source": [
    "for clf in clf_list:\n",
    "    get_kfold_results(clf, X,  y)\n"
   ]
  }
 ],
 "metadata": {
  "kernelspec": {
   "display_name": "Python 3",
   "language": "python",
   "name": "python3"
  },
  "language_info": {
   "codemirror_mode": {
    "name": "ipython",
    "version": 3
   },
   "file_extension": ".py",
   "mimetype": "text/x-python",
   "name": "python",
   "nbconvert_exporter": "python",
   "pygments_lexer": "ipython3",
   "version": "3.10.6"
  },
  "orig_nbformat": 4
 },
 "nbformat": 4,
 "nbformat_minor": 2
}
