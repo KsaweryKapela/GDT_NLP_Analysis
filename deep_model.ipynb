{
 "cells": [
  {
   "cell_type": "code",
   "execution_count": 1,
   "metadata": {},
   "outputs": [
    {
     "name": "stderr",
     "output_type": "stream",
     "text": [
      "2023-04-24 22:03:25.247138: I tensorflow/core/util/port.cc:110] oneDNN custom operations are on. You may see slightly different numerical results due to floating-point round-off errors from different computation orders. To turn them off, set the environment variable `TF_ENABLE_ONEDNN_OPTS=0`.\n",
      "2023-04-24 22:03:25.269957: I tensorflow/core/platform/cpu_feature_guard.cc:182] This TensorFlow binary is optimized to use available CPU instructions in performance-critical operations.\n",
      "To enable the following instructions: AVX2 AVX_VNNI FMA, in other operations, rebuild TensorFlow with the appropriate compiler flags.\n",
      "2023-04-24 22:03:25.624626: W tensorflow/compiler/tf2tensorrt/utils/py_utils.cc:38] TF-TRT Warning: Could not find TensorRT\n",
      "2023-04-24 22:03:26.793713: I tensorflow/compiler/xla/stream_executor/cuda/cuda_gpu_executor.cc:996] successful NUMA node read from SysFS had negative value (-1), but there must be at least one NUMA node, so returning NUMA node zero. See more at https://github.com/torvalds/linux/blob/v6.0/Documentation/ABI/testing/sysfs-bus-pci#L344-L355\n",
      "2023-04-24 22:03:26.822928: I tensorflow/compiler/xla/stream_executor/cuda/cuda_gpu_executor.cc:996] successful NUMA node read from SysFS had negative value (-1), but there must be at least one NUMA node, so returning NUMA node zero. See more at https://github.com/torvalds/linux/blob/v6.0/Documentation/ABI/testing/sysfs-bus-pci#L344-L355\n",
      "2023-04-24 22:03:26.823011: I tensorflow/compiler/xla/stream_executor/cuda/cuda_gpu_executor.cc:996] successful NUMA node read from SysFS had negative value (-1), but there must be at least one NUMA node, so returning NUMA node zero. See more at https://github.com/torvalds/linux/blob/v6.0/Documentation/ABI/testing/sysfs-bus-pci#L344-L355\n"
     ]
    },
    {
     "name": "stdout",
     "output_type": "stream",
     "text": [
      "Num GPUs Available:  1\n"
     ]
    }
   ],
   "source": [
    "import os\n",
    "import tensorflow as tf\n",
    "import random\n",
    "from scipy import stats\n",
    "import warnings\n",
    "from sklearn.model_selection import StratifiedKFold\n",
    "from sklearn.metrics import mean_absolute_error\n",
    "import matplotlib.pyplot as plt\n",
    "import numpy as np\n",
    "from helpers import open_and_prepare_df, X_y_split\n",
    "import numpy as np\n",
    "from sklearn.model_selection import StratifiedKFold\n",
    "\n",
    "warnings.filterwarnings(\"ignore\", category=UserWarning)\n",
    "print(\"Num GPUs Available: \", len(tf.config.list_physical_devices('GPU')))\n",
    "\n",
    "X, y = X_y_split(open_and_prepare_df('features'), 'nlp_all')"
   ]
  },
  {
   "attachments": {},
   "cell_type": "markdown",
   "metadata": {},
   "source": [
    "Grid parameters search"
   ]
  },
  {
   "cell_type": "code",
   "execution_count": 3,
   "metadata": {},
   "outputs": [],
   "source": [
    "def get_kfold_results(model_class, X, y, params):\n",
    "\n",
    "    kfold = StratifiedKFold(n_splits=10, shuffle=True, random_state=8)\n",
    "\n",
    "    true_y = []\n",
    "    preds = []\n",
    "\n",
    "    for train_index, test_index in kfold.split(X, y):\n",
    "\n",
    "        X_train, X_test = X[train_index], X[test_index]\n",
    "        y_train, y_test = y[train_index], y[test_index]\n",
    "\n",
    "        model = model_class(neurons=params['neurons'], activation_1=params['activation_1'], activation_2=params['activation_2'],\n",
    "                            learning_rate=params['learning_rate'], optimizer=params['optimizer'])\n",
    "        \n",
    "        model.fit(X_train, y_train, batch_size=params['batch_size'], epochs=params['epochs'], verbose=0)\n",
    "        pred = model.predict(X_test, verbose=0).flatten()\n",
    "        preds = np.concatenate((preds, pred))\n",
    "\n",
    "        true_y = np.concatenate((true_y, y_test))\n",
    "\n",
    "    corr = round(stats.pearsonr(preds, true_y)[0], 3)\n",
    "    mae = round(mean_absolute_error(preds, true_y), 3)\n",
    "    print(f'Corr = {corr}, MAE = {mae}')\n",
    "\n",
    "    return corr, mae"
   ]
  },
  {
   "cell_type": "code",
   "execution_count": 4,
   "metadata": {},
   "outputs": [],
   "source": [
    "def create_model(neurons, activation_1, activation_2, activation_3, learning_rate, optimizer):\n",
    "    np.random.seed(123)\n",
    "    random.seed(123)\n",
    "    tf.random.set_seed(1234)\n",
    "    \n",
    "    keras_model = tf.keras.Sequential([\n",
    "                        tf.keras.layers.Dense(neurons, activation=activation_1),\n",
    "                        tf.keras.layers.Dense(neurons/2, activation=activation_2),\n",
    "                        tf.keras.layers.Flatten(),\n",
    "                        tf.keras.layers.Dense(neurons/3, activation=activation_3),\n",
    "                        tf.keras.layers.Dense(units=1)\n",
    "                        ])\n",
    "\n",
    "    keras_model.compile(optimizer=optimizer(learning_rate=learning_rate), loss='mean_absolute_error')\n",
    "    return keras_model"
   ]
  },
  {
   "cell_type": "code",
   "execution_count": 14,
   "metadata": {},
   "outputs": [],
   "source": [
    "def run_grid(create_model, X, y, activations_1, activations_2, activations_3, learning_rates, neurons_count, epochs, batch_sizes, optimizers):\n",
    "    best_corr = 0\n",
    "    best_params = None\n",
    "    loop = 1\n",
    "    loops_count = len(activations_1) * len(activations_2) * len(activations_3) * len(learning_rates) *\\\n",
    "                  len(neurons_count) * len(epochs) * len(batch_sizes) * len(optimizers)\n",
    "\n",
    "    for epoch in epochs:\n",
    "        for batch_size in batch_sizes:\n",
    "            for activation_1 in activations_1:\n",
    "                for activation_2 in activations_2:\n",
    "                    for activation_3 in activations_3:\n",
    "                        for lr in learning_rates:\n",
    "                            for neurons in neurons_count:\n",
    "                                for optimizer in optimizers:\n",
    "                                \n",
    "                                    params = {}\n",
    "                                    params['epochs'] = epoch\n",
    "                                    params['batch_size'] = batch_size\n",
    "                                    params['activation_1'] = activation_1\n",
    "                                    params['activation_2'] = activation_2\n",
    "                                    params['activation_3'] = activation_3\n",
    "                                    params['learning_rate'] = lr\n",
    "                                    params['neurons'] = neurons\n",
    "                                    params['optimizer'] = optimizer\n",
    "\n",
    "                                    corr, mae = get_kfold_results(create_model, X, y, params)\n",
    "                                    print(params)\n",
    "                                    if corr > best_corr:\n",
    "                                        best_corr = corr\n",
    "                                        best_params = params\n",
    "\n",
    "                                    print(f'{loop}/{loops_count}')\n",
    "                                    loop += 1\n",
    "    return best_params, best_corr"
   ]
  },
  {
   "cell_type": "code",
   "execution_count": 23,
   "metadata": {},
   "outputs": [],
   "source": [
    "activations_1 = ['relu', 'tanh', 'sigmoid']\n",
    "activations_2 = ['relu', 'tanh', 'sigmoid']\n",
    "activations_3 = ['relu']\n",
    "learning_rates = [0.001, 0.005, 0.01]\n",
    "neurons_count = [256, 512]\n",
    "epochs = [150]\n",
    "batch_sizes = [30]\n",
    "optimizers = [tf.keras.optimizers.SGD, tf.keras.optimizers.Adam]"
   ]
  },
  {
   "cell_type": "code",
   "execution_count": 25,
   "metadata": {},
   "outputs": [
    {
     "name": "stdout",
     "output_type": "stream",
     "text": [
      "Corr = 0.436, MAE = 2.516\n",
      "{'epochs': 150, 'batch_size': 30, 'activation_1': 'relu', 'activation_2': 'relu', 'activation_3': 'relu', 'learning_rate': 0.001, 'neurons': 256, 'optimizer': <class 'keras.optimizers.sgd.SGD'>}\n",
      "1/108\n",
      "Corr = 0.387, MAE = 2.614\n",
      "{'epochs': 150, 'batch_size': 30, 'activation_1': 'relu', 'activation_2': 'relu', 'activation_3': 'relu', 'learning_rate': 0.001, 'neurons': 256, 'optimizer': <class 'keras.optimizers.adam.Adam'>}\n",
      "2/108\n",
      "Corr = 0.465, MAE = 2.46\n",
      "{'epochs': 150, 'batch_size': 30, 'activation_1': 'relu', 'activation_2': 'relu', 'activation_3': 'relu', 'learning_rate': 0.001, 'neurons': 512, 'optimizer': <class 'keras.optimizers.sgd.SGD'>}\n",
      "3/108\n",
      "Corr = 0.411, MAE = 2.553\n",
      "{'epochs': 150, 'batch_size': 30, 'activation_1': 'relu', 'activation_2': 'relu', 'activation_3': 'relu', 'learning_rate': 0.001, 'neurons': 512, 'optimizer': <class 'keras.optimizers.adam.Adam'>}\n",
      "4/108\n",
      "Corr = 0.398, MAE = 2.73\n",
      "{'epochs': 150, 'batch_size': 30, 'activation_1': 'relu', 'activation_2': 'relu', 'activation_3': 'relu', 'learning_rate': 0.005, 'neurons': 256, 'optimizer': <class 'keras.optimizers.sgd.SGD'>}\n",
      "5/108\n",
      "Corr = 0.38, MAE = 2.604\n",
      "{'epochs': 150, 'batch_size': 30, 'activation_1': 'relu', 'activation_2': 'relu', 'activation_3': 'relu', 'learning_rate': 0.005, 'neurons': 256, 'optimizer': <class 'keras.optimizers.adam.Adam'>}\n",
      "6/108\n",
      "Corr = 0.428, MAE = 2.642\n",
      "{'epochs': 150, 'batch_size': 30, 'activation_1': 'relu', 'activation_2': 'relu', 'activation_3': 'relu', 'learning_rate': 0.005, 'neurons': 512, 'optimizer': <class 'keras.optimizers.sgd.SGD'>}\n",
      "7/108\n",
      "Corr = 0.386, MAE = 2.588\n",
      "{'epochs': 150, 'batch_size': 30, 'activation_1': 'relu', 'activation_2': 'relu', 'activation_3': 'relu', 'learning_rate': 0.005, 'neurons': 512, 'optimizer': <class 'keras.optimizers.adam.Adam'>}\n",
      "8/108\n",
      "Corr = 0.413, MAE = 2.64\n",
      "{'epochs': 150, 'batch_size': 30, 'activation_1': 'relu', 'activation_2': 'relu', 'activation_3': 'relu', 'learning_rate': 0.01, 'neurons': 256, 'optimizer': <class 'keras.optimizers.sgd.SGD'>}\n",
      "9/108\n",
      "Corr = 0.387, MAE = 2.57\n",
      "{'epochs': 150, 'batch_size': 30, 'activation_1': 'relu', 'activation_2': 'relu', 'activation_3': 'relu', 'learning_rate': 0.01, 'neurons': 256, 'optimizer': <class 'keras.optimizers.adam.Adam'>}\n",
      "10/108\n",
      "Corr = 0.441, MAE = 2.568\n",
      "{'epochs': 150, 'batch_size': 30, 'activation_1': 'relu', 'activation_2': 'relu', 'activation_3': 'relu', 'learning_rate': 0.01, 'neurons': 512, 'optimizer': <class 'keras.optimizers.sgd.SGD'>}\n",
      "11/108\n",
      "Corr = 0.374, MAE = 2.581\n",
      "{'epochs': 150, 'batch_size': 30, 'activation_1': 'relu', 'activation_2': 'relu', 'activation_3': 'relu', 'learning_rate': 0.01, 'neurons': 512, 'optimizer': <class 'keras.optimizers.adam.Adam'>}\n",
      "12/108\n",
      "Corr = 0.429, MAE = 2.543\n",
      "{'epochs': 150, 'batch_size': 30, 'activation_1': 'relu', 'activation_2': 'tanh', 'activation_3': 'relu', 'learning_rate': 0.001, 'neurons': 256, 'optimizer': <class 'keras.optimizers.sgd.SGD'>}\n",
      "13/108\n",
      "Corr = 0.434, MAE = 2.554\n",
      "{'epochs': 150, 'batch_size': 30, 'activation_1': 'relu', 'activation_2': 'tanh', 'activation_3': 'relu', 'learning_rate': 0.001, 'neurons': 256, 'optimizer': <class 'keras.optimizers.adam.Adam'>}\n",
      "14/108\n",
      "Corr = 0.479, MAE = 2.426\n",
      "{'epochs': 150, 'batch_size': 30, 'activation_1': 'relu', 'activation_2': 'tanh', 'activation_3': 'relu', 'learning_rate': 0.001, 'neurons': 512, 'optimizer': <class 'keras.optimizers.sgd.SGD'>}\n",
      "15/108\n"
     ]
    },
    {
     "ename": "KeyboardInterrupt",
     "evalue": "",
     "output_type": "error",
     "traceback": [
      "\u001b[0;31m---------------------------------------------------------------------------\u001b[0m",
      "\u001b[0;31mKeyboardInterrupt\u001b[0m                         Traceback (most recent call last)",
      "Cell \u001b[0;32mIn[25], line 1\u001b[0m\n\u001b[0;32m----> 1\u001b[0m best_params, best_corr \u001b[39m=\u001b[39m run_grid(create_model, X, y, activations_1, activations_2, activations_3, learning_rates, neurons_count, epochs, batch_sizes, optimizers)\n",
      "Cell \u001b[0;32mIn[14], line 27\u001b[0m, in \u001b[0;36mrun_grid\u001b[0;34m(create_model, X, y, activations_1, activations_2, activations_3, learning_rates, neurons_count, epochs, batch_sizes, optimizers)\u001b[0m\n\u001b[1;32m     24\u001b[0m params[\u001b[39m'\u001b[39m\u001b[39mneurons\u001b[39m\u001b[39m'\u001b[39m] \u001b[39m=\u001b[39m neurons\n\u001b[1;32m     25\u001b[0m params[\u001b[39m'\u001b[39m\u001b[39moptimizer\u001b[39m\u001b[39m'\u001b[39m] \u001b[39m=\u001b[39m optimizer\n\u001b[0;32m---> 27\u001b[0m corr, mae \u001b[39m=\u001b[39m get_kfold_results(create_model, X, y, params)\n\u001b[1;32m     28\u001b[0m \u001b[39mprint\u001b[39m(params)\n\u001b[1;32m     29\u001b[0m \u001b[39mif\u001b[39;00m corr \u001b[39m>\u001b[39m best_corr:\n",
      "Cell \u001b[0;32mIn[3], line 16\u001b[0m, in \u001b[0;36mget_kfold_results\u001b[0;34m(model_class, X, y, params)\u001b[0m\n\u001b[1;32m     11\u001b[0m y_train, y_test \u001b[39m=\u001b[39m y[train_index], y[test_index]\n\u001b[1;32m     13\u001b[0m model \u001b[39m=\u001b[39m model_class(neurons\u001b[39m=\u001b[39mparams[\u001b[39m'\u001b[39m\u001b[39mneurons\u001b[39m\u001b[39m'\u001b[39m], activation_1\u001b[39m=\u001b[39mparams[\u001b[39m'\u001b[39m\u001b[39mactivation_1\u001b[39m\u001b[39m'\u001b[39m], activation_2\u001b[39m=\u001b[39mparams[\u001b[39m'\u001b[39m\u001b[39mactivation_2\u001b[39m\u001b[39m'\u001b[39m],\n\u001b[1;32m     14\u001b[0m                     learning_rate\u001b[39m=\u001b[39mparams[\u001b[39m'\u001b[39m\u001b[39mlearning_rate\u001b[39m\u001b[39m'\u001b[39m], optimizer\u001b[39m=\u001b[39mparams[\u001b[39m'\u001b[39m\u001b[39moptimizer\u001b[39m\u001b[39m'\u001b[39m])\n\u001b[0;32m---> 16\u001b[0m model\u001b[39m.\u001b[39;49mfit(X_train, y_train, batch_size\u001b[39m=\u001b[39;49mparams[\u001b[39m'\u001b[39;49m\u001b[39mbatch_size\u001b[39;49m\u001b[39m'\u001b[39;49m], epochs\u001b[39m=\u001b[39;49mparams[\u001b[39m'\u001b[39;49m\u001b[39mepochs\u001b[39;49m\u001b[39m'\u001b[39;49m], verbose\u001b[39m=\u001b[39;49m\u001b[39m0\u001b[39;49m)\n\u001b[1;32m     17\u001b[0m pred \u001b[39m=\u001b[39m model\u001b[39m.\u001b[39mpredict(X_test, verbose\u001b[39m=\u001b[39m\u001b[39m0\u001b[39m)\u001b[39m.\u001b[39mflatten()\n\u001b[1;32m     18\u001b[0m preds \u001b[39m=\u001b[39m np\u001b[39m.\u001b[39mconcatenate((preds, pred))\n",
      "File \u001b[0;32m~/.local/lib/python3.10/site-packages/keras/utils/traceback_utils.py:65\u001b[0m, in \u001b[0;36mfilter_traceback.<locals>.error_handler\u001b[0;34m(*args, **kwargs)\u001b[0m\n\u001b[1;32m     63\u001b[0m filtered_tb \u001b[39m=\u001b[39m \u001b[39mNone\u001b[39;00m\n\u001b[1;32m     64\u001b[0m \u001b[39mtry\u001b[39;00m:\n\u001b[0;32m---> 65\u001b[0m     \u001b[39mreturn\u001b[39;00m fn(\u001b[39m*\u001b[39;49margs, \u001b[39m*\u001b[39;49m\u001b[39m*\u001b[39;49mkwargs)\n\u001b[1;32m     66\u001b[0m \u001b[39mexcept\u001b[39;00m \u001b[39mException\u001b[39;00m \u001b[39mas\u001b[39;00m e:\n\u001b[1;32m     67\u001b[0m     filtered_tb \u001b[39m=\u001b[39m _process_traceback_frames(e\u001b[39m.\u001b[39m__traceback__)\n",
      "File \u001b[0;32m~/.local/lib/python3.10/site-packages/keras/engine/training.py:1685\u001b[0m, in \u001b[0;36mModel.fit\u001b[0;34m(self, x, y, batch_size, epochs, verbose, callbacks, validation_split, validation_data, shuffle, class_weight, sample_weight, initial_epoch, steps_per_epoch, validation_steps, validation_batch_size, validation_freq, max_queue_size, workers, use_multiprocessing)\u001b[0m\n\u001b[1;32m   1677\u001b[0m \u001b[39mwith\u001b[39;00m tf\u001b[39m.\u001b[39mprofiler\u001b[39m.\u001b[39mexperimental\u001b[39m.\u001b[39mTrace(\n\u001b[1;32m   1678\u001b[0m     \u001b[39m\"\u001b[39m\u001b[39mtrain\u001b[39m\u001b[39m\"\u001b[39m,\n\u001b[1;32m   1679\u001b[0m     epoch_num\u001b[39m=\u001b[39mepoch,\n\u001b[0;32m   (...)\u001b[0m\n\u001b[1;32m   1682\u001b[0m     _r\u001b[39m=\u001b[39m\u001b[39m1\u001b[39m,\n\u001b[1;32m   1683\u001b[0m ):\n\u001b[1;32m   1684\u001b[0m     callbacks\u001b[39m.\u001b[39mon_train_batch_begin(step)\n\u001b[0;32m-> 1685\u001b[0m     tmp_logs \u001b[39m=\u001b[39m \u001b[39mself\u001b[39;49m\u001b[39m.\u001b[39;49mtrain_function(iterator)\n\u001b[1;32m   1686\u001b[0m     \u001b[39mif\u001b[39;00m data_handler\u001b[39m.\u001b[39mshould_sync:\n\u001b[1;32m   1687\u001b[0m         context\u001b[39m.\u001b[39masync_wait()\n",
      "File \u001b[0;32m~/.local/lib/python3.10/site-packages/tensorflow/python/util/traceback_utils.py:150\u001b[0m, in \u001b[0;36mfilter_traceback.<locals>.error_handler\u001b[0;34m(*args, **kwargs)\u001b[0m\n\u001b[1;32m    148\u001b[0m filtered_tb \u001b[39m=\u001b[39m \u001b[39mNone\u001b[39;00m\n\u001b[1;32m    149\u001b[0m \u001b[39mtry\u001b[39;00m:\n\u001b[0;32m--> 150\u001b[0m   \u001b[39mreturn\u001b[39;00m fn(\u001b[39m*\u001b[39;49margs, \u001b[39m*\u001b[39;49m\u001b[39m*\u001b[39;49mkwargs)\n\u001b[1;32m    151\u001b[0m \u001b[39mexcept\u001b[39;00m \u001b[39mException\u001b[39;00m \u001b[39mas\u001b[39;00m e:\n\u001b[1;32m    152\u001b[0m   filtered_tb \u001b[39m=\u001b[39m _process_traceback_frames(e\u001b[39m.\u001b[39m__traceback__)\n",
      "File \u001b[0;32m~/.local/lib/python3.10/site-packages/tensorflow/python/eager/polymorphic_function/polymorphic_function.py:894\u001b[0m, in \u001b[0;36mFunction.__call__\u001b[0;34m(self, *args, **kwds)\u001b[0m\n\u001b[1;32m    891\u001b[0m compiler \u001b[39m=\u001b[39m \u001b[39m\"\u001b[39m\u001b[39mxla\u001b[39m\u001b[39m\"\u001b[39m \u001b[39mif\u001b[39;00m \u001b[39mself\u001b[39m\u001b[39m.\u001b[39m_jit_compile \u001b[39melse\u001b[39;00m \u001b[39m\"\u001b[39m\u001b[39mnonXla\u001b[39m\u001b[39m\"\u001b[39m\n\u001b[1;32m    893\u001b[0m \u001b[39mwith\u001b[39;00m OptionalXlaContext(\u001b[39mself\u001b[39m\u001b[39m.\u001b[39m_jit_compile):\n\u001b[0;32m--> 894\u001b[0m   result \u001b[39m=\u001b[39m \u001b[39mself\u001b[39;49m\u001b[39m.\u001b[39;49m_call(\u001b[39m*\u001b[39;49margs, \u001b[39m*\u001b[39;49m\u001b[39m*\u001b[39;49mkwds)\n\u001b[1;32m    896\u001b[0m new_tracing_count \u001b[39m=\u001b[39m \u001b[39mself\u001b[39m\u001b[39m.\u001b[39mexperimental_get_tracing_count()\n\u001b[1;32m    897\u001b[0m without_tracing \u001b[39m=\u001b[39m (tracing_count \u001b[39m==\u001b[39m new_tracing_count)\n",
      "File \u001b[0;32m~/.local/lib/python3.10/site-packages/tensorflow/python/eager/polymorphic_function/polymorphic_function.py:926\u001b[0m, in \u001b[0;36mFunction._call\u001b[0;34m(self, *args, **kwds)\u001b[0m\n\u001b[1;32m    923\u001b[0m   \u001b[39mself\u001b[39m\u001b[39m.\u001b[39m_lock\u001b[39m.\u001b[39mrelease()\n\u001b[1;32m    924\u001b[0m   \u001b[39m# In this case we have created variables on the first call, so we run the\u001b[39;00m\n\u001b[1;32m    925\u001b[0m   \u001b[39m# defunned version which is guaranteed to never create variables.\u001b[39;00m\n\u001b[0;32m--> 926\u001b[0m   \u001b[39mreturn\u001b[39;00m \u001b[39mself\u001b[39;49m\u001b[39m.\u001b[39;49m_no_variable_creation_fn(\u001b[39m*\u001b[39;49margs, \u001b[39m*\u001b[39;49m\u001b[39m*\u001b[39;49mkwds)  \u001b[39m# pylint: disable=not-callable\u001b[39;00m\n\u001b[1;32m    927\u001b[0m \u001b[39melif\u001b[39;00m \u001b[39mself\u001b[39m\u001b[39m.\u001b[39m_variable_creation_fn \u001b[39mis\u001b[39;00m \u001b[39mnot\u001b[39;00m \u001b[39mNone\u001b[39;00m:\n\u001b[1;32m    928\u001b[0m   \u001b[39m# Release the lock early so that multiple threads can perform the call\u001b[39;00m\n\u001b[1;32m    929\u001b[0m   \u001b[39m# in parallel.\u001b[39;00m\n\u001b[1;32m    930\u001b[0m   \u001b[39mself\u001b[39m\u001b[39m.\u001b[39m_lock\u001b[39m.\u001b[39mrelease()\n",
      "File \u001b[0;32m~/.local/lib/python3.10/site-packages/tensorflow/python/eager/polymorphic_function/tracing_compiler.py:143\u001b[0m, in \u001b[0;36mTracingCompiler.__call__\u001b[0;34m(self, *args, **kwargs)\u001b[0m\n\u001b[1;32m    140\u001b[0m \u001b[39mwith\u001b[39;00m \u001b[39mself\u001b[39m\u001b[39m.\u001b[39m_lock:\n\u001b[1;32m    141\u001b[0m   (concrete_function,\n\u001b[1;32m    142\u001b[0m    filtered_flat_args) \u001b[39m=\u001b[39m \u001b[39mself\u001b[39m\u001b[39m.\u001b[39m_maybe_define_function(args, kwargs)\n\u001b[0;32m--> 143\u001b[0m \u001b[39mreturn\u001b[39;00m concrete_function\u001b[39m.\u001b[39;49m_call_flat(\n\u001b[1;32m    144\u001b[0m     filtered_flat_args, captured_inputs\u001b[39m=\u001b[39;49mconcrete_function\u001b[39m.\u001b[39;49mcaptured_inputs)\n",
      "File \u001b[0;32m~/.local/lib/python3.10/site-packages/tensorflow/python/eager/polymorphic_function/monomorphic_function.py:1757\u001b[0m, in \u001b[0;36mConcreteFunction._call_flat\u001b[0;34m(self, args, captured_inputs, cancellation_manager)\u001b[0m\n\u001b[1;32m   1753\u001b[0m possible_gradient_type \u001b[39m=\u001b[39m gradients_util\u001b[39m.\u001b[39mPossibleTapeGradientTypes(args)\n\u001b[1;32m   1754\u001b[0m \u001b[39mif\u001b[39;00m (possible_gradient_type \u001b[39m==\u001b[39m gradients_util\u001b[39m.\u001b[39mPOSSIBLE_GRADIENT_TYPES_NONE\n\u001b[1;32m   1755\u001b[0m     \u001b[39mand\u001b[39;00m executing_eagerly):\n\u001b[1;32m   1756\u001b[0m   \u001b[39m# No tape is watching; skip to running the function.\u001b[39;00m\n\u001b[0;32m-> 1757\u001b[0m   \u001b[39mreturn\u001b[39;00m \u001b[39mself\u001b[39m\u001b[39m.\u001b[39m_build_call_outputs(\u001b[39mself\u001b[39;49m\u001b[39m.\u001b[39;49m_inference_function\u001b[39m.\u001b[39;49mcall(\n\u001b[1;32m   1758\u001b[0m       ctx, args, cancellation_manager\u001b[39m=\u001b[39;49mcancellation_manager))\n\u001b[1;32m   1759\u001b[0m forward_backward \u001b[39m=\u001b[39m \u001b[39mself\u001b[39m\u001b[39m.\u001b[39m_select_forward_and_backward_functions(\n\u001b[1;32m   1760\u001b[0m     args,\n\u001b[1;32m   1761\u001b[0m     possible_gradient_type,\n\u001b[1;32m   1762\u001b[0m     executing_eagerly)\n\u001b[1;32m   1763\u001b[0m forward_function, args_with_tangents \u001b[39m=\u001b[39m forward_backward\u001b[39m.\u001b[39mforward()\n",
      "File \u001b[0;32m~/.local/lib/python3.10/site-packages/tensorflow/python/eager/polymorphic_function/monomorphic_function.py:381\u001b[0m, in \u001b[0;36m_EagerDefinedFunction.call\u001b[0;34m(self, ctx, args, cancellation_manager)\u001b[0m\n\u001b[1;32m    379\u001b[0m \u001b[39mwith\u001b[39;00m _InterpolateFunctionError(\u001b[39mself\u001b[39m):\n\u001b[1;32m    380\u001b[0m   \u001b[39mif\u001b[39;00m cancellation_manager \u001b[39mis\u001b[39;00m \u001b[39mNone\u001b[39;00m:\n\u001b[0;32m--> 381\u001b[0m     outputs \u001b[39m=\u001b[39m execute\u001b[39m.\u001b[39;49mexecute(\n\u001b[1;32m    382\u001b[0m         \u001b[39mstr\u001b[39;49m(\u001b[39mself\u001b[39;49m\u001b[39m.\u001b[39;49msignature\u001b[39m.\u001b[39;49mname),\n\u001b[1;32m    383\u001b[0m         num_outputs\u001b[39m=\u001b[39;49m\u001b[39mself\u001b[39;49m\u001b[39m.\u001b[39;49m_num_outputs,\n\u001b[1;32m    384\u001b[0m         inputs\u001b[39m=\u001b[39;49margs,\n\u001b[1;32m    385\u001b[0m         attrs\u001b[39m=\u001b[39;49mattrs,\n\u001b[1;32m    386\u001b[0m         ctx\u001b[39m=\u001b[39;49mctx)\n\u001b[1;32m    387\u001b[0m   \u001b[39melse\u001b[39;00m:\n\u001b[1;32m    388\u001b[0m     outputs \u001b[39m=\u001b[39m execute\u001b[39m.\u001b[39mexecute_with_cancellation(\n\u001b[1;32m    389\u001b[0m         \u001b[39mstr\u001b[39m(\u001b[39mself\u001b[39m\u001b[39m.\u001b[39msignature\u001b[39m.\u001b[39mname),\n\u001b[1;32m    390\u001b[0m         num_outputs\u001b[39m=\u001b[39m\u001b[39mself\u001b[39m\u001b[39m.\u001b[39m_num_outputs,\n\u001b[0;32m   (...)\u001b[0m\n\u001b[1;32m    393\u001b[0m         ctx\u001b[39m=\u001b[39mctx,\n\u001b[1;32m    394\u001b[0m         cancellation_manager\u001b[39m=\u001b[39mcancellation_manager)\n",
      "File \u001b[0;32m~/.local/lib/python3.10/site-packages/tensorflow/python/eager/execute.py:52\u001b[0m, in \u001b[0;36mquick_execute\u001b[0;34m(op_name, num_outputs, inputs, attrs, ctx, name)\u001b[0m\n\u001b[1;32m     50\u001b[0m \u001b[39mtry\u001b[39;00m:\n\u001b[1;32m     51\u001b[0m   ctx\u001b[39m.\u001b[39mensure_initialized()\n\u001b[0;32m---> 52\u001b[0m   tensors \u001b[39m=\u001b[39m pywrap_tfe\u001b[39m.\u001b[39;49mTFE_Py_Execute(ctx\u001b[39m.\u001b[39;49m_handle, device_name, op_name,\n\u001b[1;32m     53\u001b[0m                                       inputs, attrs, num_outputs)\n\u001b[1;32m     54\u001b[0m \u001b[39mexcept\u001b[39;00m core\u001b[39m.\u001b[39m_NotOkStatusException \u001b[39mas\u001b[39;00m e:\n\u001b[1;32m     55\u001b[0m   \u001b[39mif\u001b[39;00m name \u001b[39mis\u001b[39;00m \u001b[39mnot\u001b[39;00m \u001b[39mNone\u001b[39;00m:\n",
      "\u001b[0;31mKeyboardInterrupt\u001b[0m: "
     ]
    }
   ],
   "source": [
    "best_params, best_corr = run_grid(create_model, X, y, activations_1, activations_2, activations_3, learning_rates, neurons_count, epochs, batch_sizes, optimizers)"
   ]
  },
  {
   "attachments": {},
   "cell_type": "markdown",
   "metadata": {},
   "source": [
    "Manual parameters search"
   ]
  },
  {
   "cell_type": "code",
   "execution_count": 238,
   "metadata": {},
   "outputs": [],
   "source": [
    "def create_model():\n",
    "    np.random.seed(123)\n",
    "    random.seed(123)\n",
    "    tf.random.set_seed(1234)\n",
    "    keras_model = tf.keras.Sequential([\n",
    "                        tf.keras.layers.Dense(300, activation='sigmoid'),\n",
    "                        tf.keras.layers.Dense(150, activation='LeakyReLU'),\n",
    "                        tf.keras.layers.Dense(64, activation='LeakyReLU'),\n",
    "                        \n",
    "                        tf.keras.layers.Dense(units=1, activation='selu')\n",
    "                        ])\n",
    "\n",
    "    keras_model.compile(optimizer=tf.keras.optimizers.SGD(learning_rate=0.001, momentum=0.85), loss='mean_absolute_error')\n",
    "    return keras_model"
   ]
  },
  {
   "cell_type": "code",
   "execution_count": 239,
   "metadata": {},
   "outputs": [
    {
     "name": "stdout",
     "output_type": "stream",
     "text": [
      "PearsonRResult(statistic=0.5600297059856576, pvalue=7.721593043560443e-05)\n",
      "PearsonRResult(statistic=0.6565855656015634, pvalue=1.2999157760911512e-06)\n",
      "PearsonRResult(statistic=0.5796692914057802, pvalue=3.7333191059363985e-05)\n",
      "PearsonRResult(statistic=0.36150157943615624, pvalue=0.01722612179760342)\n",
      "PearsonRResult(statistic=0.5140335874458264, pvalue=0.00042208035385956873)\n",
      "PearsonRResult(statistic=0.42258422385221905, pvalue=0.004757784428009698)\n",
      "PearsonRResult(statistic=0.5992540157800261, pvalue=2.1771931842210808e-05)\n",
      "PearsonRResult(statistic=0.5162803758902919, pvalue=0.00039419010245248274)\n",
      "PearsonRResult(statistic=0.5467894733309738, pvalue=0.00014838157875065355)\n",
      "PearsonRResult(statistic=0.428928356355101, pvalue=0.0041053063960848615)\n"
     ]
    },
    {
     "data": {
      "text/plain": [
       "PearsonRResult(statistic=0.5066628412218657, pvalue=1.2936976058517208e-29)"
      ]
     },
     "execution_count": 239,
     "metadata": {},
     "output_type": "execute_result"
    }
   ],
   "source": [
    "kfold = StratifiedKFold(n_splits=10, shuffle=True, random_state=8)\n",
    "\n",
    "keras_predictions = []\n",
    "y_main_true = []\n",
    "\n",
    "for train_index, test_index in kfold.split(X, y):\n",
    "    X_train, X_test = X[train_index], X[test_index]\n",
    "    y_train, y_test = y[train_index], y[test_index]\n",
    "    \n",
    "    model = create_model()\n",
    "    model.fit(X_train, y_train, batch_size=70, epochs=150, verbose=0)\n",
    "    keras_prediction = model.predict(X_test, verbose=0).flatten()\n",
    "\n",
    "    keras_predictions = np.concatenate((keras_predictions, keras_prediction))\n",
    "    y_main_true = np.concatenate((y_main_true, y_test))\n",
    "    print(stats.pearsonr(keras_prediction, y_test))\n",
    "    \n",
    "stats.pearsonr(y_main_true, keras_predictions)"
   ]
  }
 ],
 "metadata": {
  "kernelspec": {
   "display_name": "Python 3",
   "language": "python",
   "name": "python3"
  },
  "language_info": {
   "codemirror_mode": {
    "name": "ipython",
    "version": 3
   },
   "file_extension": ".py",
   "mimetype": "text/x-python",
   "name": "python",
   "nbconvert_exporter": "python",
   "pygments_lexer": "ipython3",
   "version": "3.10.6"
  },
  "orig_nbformat": 4
 },
 "nbformat": 4,
 "nbformat_minor": 2
}
