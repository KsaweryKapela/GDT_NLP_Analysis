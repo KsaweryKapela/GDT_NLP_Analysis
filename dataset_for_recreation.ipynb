{
 "cells": [
  {
   "cell_type": "code",
   "execution_count": 1,
   "metadata": {},
   "outputs": [
    {
     "name": "stdout",
     "output_type": "stream",
     "text": [
      "522\n",
      "502\n",
      "469\n",
      "417\n"
     ]
    }
   ],
   "source": [
    "from helpers.ds_helpers import open_and_prepare_df\n",
    "\n",
    "df_features = open_and_prepare_df('features')\n",
    "df_text = open_and_prepare_df('main')"
   ]
  },
  {
   "cell_type": "code",
   "execution_count": 2,
   "metadata": {},
   "outputs": [
    {
     "data": {
      "text/plain": [
       "Index(['Unnamed: 0', 'nlp_2', 'nlp_3', 'nlp_4', 'nlp_5', 'label', 'nlp_2_text',\n",
       "       'nlp_3_text', 'nlp_4_text', 'nlp_5_text'],\n",
       "      dtype='object')"
      ]
     },
     "execution_count": 2,
     "metadata": {},
     "output_type": "execute_result"
    }
   ],
   "source": [
    "for i in range(2, 6):\n",
    "    df_features[f'nlp_{i}_text'] = df_text[f'nlp_{i}'].values\n",
    "\n",
    "df = df_features\n",
    "df['fold'] = None\n",
    "\n",
    "df.columns"
   ]
  },
  {
   "cell_type": "code",
   "execution_count": 4,
   "metadata": {},
   "outputs": [],
   "source": [
    "from sklearn.model_selection import StratifiedKFold\n",
    "\n",
    "kfold = StratifiedKFold(n_splits=10, shuffle=True, random_state=8)"
   ]
  },
  {
   "cell_type": "code",
   "execution_count": 5,
   "metadata": {},
   "outputs": [
    {
     "name": "stdout",
     "output_type": "stream",
     "text": [
      "1\n",
      "[ 14  22  23  30  53  54  65  88  89  94 112 120 129 136 149 158 168 172\n",
      " 174 176 179 181 207 211 217 239 243 248 274 334 336 338 343 364 381 389\n",
      " 397 398 404 406 410 414]\n",
      "2\n",
      "[  5  11  12  27  34  39  40  50  67  69  70  72  79  87 101 107 110 137\n",
      " 145 147 148 156 161 191 204 218 219 230 234 249 267 296 302 322 354 358\n",
      " 367 369 383 390 391 400]\n",
      "3\n",
      "[  2   4  16  24  25  36  44  52  64  77  84 106 122 124 126 142 155 162\n",
      " 177 190 221 222 224 251 259 262 273 275 287 292 303 304 319 320 326 349\n",
      " 366 385 388 395 412 415]\n",
      "4\n",
      "[  1   8  26  28  42  57  99 127 132 140 170 184 189 194 215 216 226 236\n",
      " 241 246 250 257 260 264 272 278 279 291 293 306 309 315 330 344 352 363\n",
      " 365 372 377 378 403 408]\n",
      "5\n",
      "[  7   9  15  41  95 105 111 133 135 139 143 144 167 175 183 192 196 213\n",
      " 229 232 235 245 258 266 269 276 285 295 307 311 313 314 323 340 356 370\n",
      " 374 376 379 392 405 411]\n",
      "6\n",
      "[  0   6  10  17  18  32  58  68  74  80  81 115 116 152 153 159 163 173\n",
      " 185 197 200 203 205 233 254 255 270 271 277 281 298 300 305 318 325 332\n",
      " 345 351 359 380 384 386]\n",
      "7\n",
      "[ 20  31  35  55  60  62  78  83  96 117 125 128 141 151 166 169 178 201\n",
      " 209 214 220 225 231 237 294 297 317 321 328 329 333 335 346 347 353 360\n",
      " 361 371 373 387 396 407]\n",
      "8\n",
      "[ 33  37  48  49  56  59  63  71  82  85  91  93  97 100 108 113 121 130\n",
      " 138 171 187 188 206 210 228 238 247 253 268 286 289 310 316 331 341 348\n",
      " 357 368 382 399 409]\n",
      "9\n",
      "[  3  19  29  38  43  51  61  75  86  90  98 102 103 118 119 131 134 146\n",
      " 157 164 165 180 182 186 199 202 208 212 240 242 244 261 265 283 288 290\n",
      " 324 327 342 375 401]\n",
      "10\n",
      "[ 13  21  45  46  47  66  73  76  92 104 109 114 123 150 154 160 193 195\n",
      " 198 223 227 252 256 263 280 282 284 299 301 308 312 337 339 350 355 362\n",
      " 393 394 402 413 416]\n"
     ]
    },
    {
     "name": "stderr",
     "output_type": "stream",
     "text": [
      "/home/ksaff/.local/lib/python3.10/site-packages/sklearn/model_selection/_split.py:700: UserWarning: The least populated class in y has only 1 members, which is less than n_splits=10.\n",
      "  warnings.warn(\n",
      "/tmp/ipykernel_69109/750140454.py:5: SettingWithCopyWarning: \n",
      "A value is trying to be set on a copy of a slice from a DataFrame\n",
      "\n",
      "See the caveats in the documentation: https://pandas.pydata.org/pandas-docs/stable/user_guide/indexing.html#returning-a-view-versus-a-copy\n",
      "  df['fold'][test_index] = fold\n",
      "/tmp/ipykernel_69109/750140454.py:5: SettingWithCopyWarning: \n",
      "A value is trying to be set on a copy of a slice from a DataFrame\n",
      "\n",
      "See the caveats in the documentation: https://pandas.pydata.org/pandas-docs/stable/user_guide/indexing.html#returning-a-view-versus-a-copy\n",
      "  df['fold'][test_index] = fold\n",
      "/tmp/ipykernel_69109/750140454.py:5: SettingWithCopyWarning: \n",
      "A value is trying to be set on a copy of a slice from a DataFrame\n",
      "\n",
      "See the caveats in the documentation: https://pandas.pydata.org/pandas-docs/stable/user_guide/indexing.html#returning-a-view-versus-a-copy\n",
      "  df['fold'][test_index] = fold\n",
      "/tmp/ipykernel_69109/750140454.py:5: SettingWithCopyWarning: \n",
      "A value is trying to be set on a copy of a slice from a DataFrame\n",
      "\n",
      "See the caveats in the documentation: https://pandas.pydata.org/pandas-docs/stable/user_guide/indexing.html#returning-a-view-versus-a-copy\n",
      "  df['fold'][test_index] = fold\n",
      "/tmp/ipykernel_69109/750140454.py:5: SettingWithCopyWarning: \n",
      "A value is trying to be set on a copy of a slice from a DataFrame\n",
      "\n",
      "See the caveats in the documentation: https://pandas.pydata.org/pandas-docs/stable/user_guide/indexing.html#returning-a-view-versus-a-copy\n",
      "  df['fold'][test_index] = fold\n",
      "/tmp/ipykernel_69109/750140454.py:5: SettingWithCopyWarning: \n",
      "A value is trying to be set on a copy of a slice from a DataFrame\n",
      "\n",
      "See the caveats in the documentation: https://pandas.pydata.org/pandas-docs/stable/user_guide/indexing.html#returning-a-view-versus-a-copy\n",
      "  df['fold'][test_index] = fold\n",
      "/tmp/ipykernel_69109/750140454.py:5: SettingWithCopyWarning: \n",
      "A value is trying to be set on a copy of a slice from a DataFrame\n",
      "\n",
      "See the caveats in the documentation: https://pandas.pydata.org/pandas-docs/stable/user_guide/indexing.html#returning-a-view-versus-a-copy\n",
      "  df['fold'][test_index] = fold\n",
      "/tmp/ipykernel_69109/750140454.py:5: SettingWithCopyWarning: \n",
      "A value is trying to be set on a copy of a slice from a DataFrame\n",
      "\n",
      "See the caveats in the documentation: https://pandas.pydata.org/pandas-docs/stable/user_guide/indexing.html#returning-a-view-versus-a-copy\n",
      "  df['fold'][test_index] = fold\n",
      "/tmp/ipykernel_69109/750140454.py:5: SettingWithCopyWarning: \n",
      "A value is trying to be set on a copy of a slice from a DataFrame\n",
      "\n",
      "See the caveats in the documentation: https://pandas.pydata.org/pandas-docs/stable/user_guide/indexing.html#returning-a-view-versus-a-copy\n",
      "  df['fold'][test_index] = fold\n",
      "/tmp/ipykernel_69109/750140454.py:5: SettingWithCopyWarning: \n",
      "A value is trying to be set on a copy of a slice from a DataFrame\n",
      "\n",
      "See the caveats in the documentation: https://pandas.pydata.org/pandas-docs/stable/user_guide/indexing.html#returning-a-view-versus-a-copy\n",
      "  df['fold'][test_index] = fold\n"
     ]
    }
   ],
   "source": [
    "fold = 1\n",
    "for train_index, test_index in kfold.split(df['nlp_2'], df['label']):\n",
    "    print(fold)\n",
    "    print(test_index)\n",
    "    df['fold'][test_index] = fold\n",
    "    fold += 1"
   ]
  },
  {
   "cell_type": "code",
   "execution_count": 6,
   "metadata": {},
   "outputs": [],
   "source": [
    "import pandas\n",
    "df.to_excel('NLP_SVERKER_DATASET.xlsx')"
   ]
  }
 ],
 "metadata": {
  "kernelspec": {
   "display_name": "Python 3",
   "language": "python",
   "name": "python3"
  },
  "language_info": {
   "codemirror_mode": {
    "name": "ipython",
    "version": 3
   },
   "file_extension": ".py",
   "mimetype": "text/x-python",
   "name": "python",
   "nbconvert_exporter": "python",
   "pygments_lexer": "ipython3",
   "version": "3.10.6"
  },
  "orig_nbformat": 4
 },
 "nbformat": 4,
 "nbformat_minor": 2
}
