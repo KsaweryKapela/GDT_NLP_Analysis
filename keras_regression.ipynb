{
 "cells": [
  {
   "cell_type": "code",
   "execution_count": 1,
   "metadata": {},
   "outputs": [],
   "source": [
    "import numpy as np\n",
    "import pandas as pd\n",
    "import matplotlib.pyplot as plt\n",
    "import tensorflow as tf\n",
    "import time\n",
    "from scipy import stats"
   ]
  },
  {
   "cell_type": "code",
   "execution_count": 2,
   "metadata": {},
   "outputs": [
    {
     "name": "stderr",
     "output_type": "stream",
     "text": [
      "c:\\Users\\Lenovo\\AppData\\Local\\Programs\\Python\\Python310\\lib\\site-packages\\tqdm\\auto.py:22: TqdmWarning: IProgress not found. Please update jupyter and ipywidgets. See https://ipywidgets.readthedocs.io/en/stable/user_install.html\n",
      "  from .autonotebook import tqdm as notebook_tqdm\n",
      "Some weights of the model checkpoint at allegro/herbert-base-cased were not used when initializing BertModel: ['cls.predictions.decoder.bias', 'cls.sso.sso_relationship.weight', 'cls.predictions.transform.dense.weight', 'cls.predictions.decoder.weight', 'cls.predictions.transform.dense.bias', 'cls.predictions.bias', 'cls.predictions.transform.LayerNorm.bias', 'cls.predictions.transform.LayerNorm.weight', 'cls.sso.sso_relationship.bias']\n",
      "- This IS expected if you are initializing BertModel from the checkpoint of a model trained on another task or with another architecture (e.g. initializing a BertForSequenceClassification model from a BertForPreTraining model).\n",
      "- This IS NOT expected if you are initializing BertModel from the checkpoint of a model that you expect to be exactly identical (initializing a BertForSequenceClassification model from a BertForSequenceClassification model).\n"
     ]
    }
   ],
   "source": [
    "from transformers import AutoTokenizer, AutoModel\n",
    "from bert_transformer import BertTransformer\n",
    "\n",
    "tokenizer = AutoTokenizer.from_pretrained('allegro/herbert-base-cased')\n",
    "bert_model = AutoModel.from_pretrained(\"allegro/herbert-base-cased\") "
   ]
  },
  {
   "cell_type": "code",
   "execution_count": 3,
   "metadata": {},
   "outputs": [],
   "source": [
    "X_string = 'nlp_3', 'nlp_2', 'nlp_5', 'nlp_4' # TUPLE\n",
    "Y_string = 'GDT_score'\n",
    "DATASET = 'NLP_FULLSTOPS.xlsx'"
   ]
  },
  {
   "cell_type": "code",
   "execution_count": 4,
   "metadata": {},
   "outputs": [],
   "source": [
    "df = pd.read_excel(io=DATASET)\n",
    "df = df[df['time'] > 300]\n",
    "df = df.reset_index()\n",
    "\n",
    "bert_transformer = BertTransformer(tokenizer, bert_model, max_length=60)"
   ]
  },
  {
   "cell_type": "code",
   "execution_count": 5,
   "metadata": {},
   "outputs": [
    {
     "name": "stdout",
     "output_type": "stream",
     "text": [
      "nlp_4 added to list\n"
     ]
    },
    {
     "data": {
      "text/plain": [
       "(502, 3072)"
      ]
     },
     "execution_count": 5,
     "metadata": {},
     "output_type": "execute_result"
    }
   ],
   "source": [
    "all_x = []\n",
    "\n",
    "for item in X_string:\n",
    "\n",
    "    item_processed = bert_transformer.transform(list(df[item]))\n",
    "    all_x.append(item_processed)\n",
    "    print(f'{item} added to list')\n",
    "    time.sleep(0.5)\n",
    "\n",
    "all_x = tuple(all_x)\n",
    "X = np.hstack(all_x)\n",
    "\n",
    "y = df[Y_string]\n",
    "X.shape\n"
   ]
  },
  {
   "cell_type": "code",
   "execution_count": 6,
   "metadata": {},
   "outputs": [
    {
     "name": "stdout",
     "output_type": "stream",
     "text": [
      "nlp_4 added to list\n"
     ]
    },
    {
     "data": {
      "text/plain": [
       "(95, 3072)"
      ]
     },
     "execution_count": 6,
     "metadata": {},
     "output_type": "execute_result"
    }
   ],
   "source": [
    "pilot_df = pd.read_excel('NLP_PILOT.XLSX')\n",
    "\n",
    "pilot_X = []\n",
    "\n",
    "for item in X_string:\n",
    "\n",
    "    item_processed = bert_transformer.transform(list(pilot_df[item]))\n",
    "    pilot_X.append(item_processed)\n",
    "    print(f'{item} added to list')\n",
    "    time.sleep(0.5)\n",
    "\n",
    "pilot_X = tuple(pilot_X)\n",
    "pilot_X = np.hstack(pilot_X)\n",
    "\n",
    "pilot_Y = pilot_df[Y_string]\n",
    "pilot_X.shape"
   ]
  },
  {
   "cell_type": "code",
   "execution_count": 7,
   "metadata": {},
   "outputs": [],
   "source": [
    "learning_schedule = tf.keras.optimizers.schedules.ExponentialDecay(initial_learning_rate=0.001, decay_steps=10000, decay_rate=0.96)"
   ]
  },
  {
   "cell_type": "code",
   "execution_count": 86,
   "metadata": {},
   "outputs": [
    {
     "name": "stdout",
     "output_type": "stream",
     "text": [
      "(451, 3072)\n",
      "2/2 [==============================] - 0s 9ms/step\n",
      "PearsonRResult(statistic=0.41431137727627015, pvalue=0.0025067124996519616)\n",
      "PearsonRResult(statistic=0.41431137727627015, pvalue=0.0025067124996519616)\n",
      "2.324131806691488\n",
      "2.324131806691488\n",
      "(451, 3072)\n",
      "2/2 [==============================] - 0s 3ms/step\n",
      "PearsonRResult(statistic=0.5024638924803491, pvalue=0.00017179869254930745)\n",
      "PearsonRResult(statistic=0.4585295192972527, pvalue=1.2566949445975168e-06)\n",
      "2.706684823129691\n",
      "2.5154083149105895\n",
      "(452, 3072)\n",
      "2/2 [==============================] - 0s 5ms/step\n",
      "PearsonRResult(statistic=0.2935900419754968, pvalue=0.0385148247658627)\n",
      "PearsonRResult(statistic=0.38925967524181726, pvalue=7.180881241552112e-07)\n",
      "2.9261282873153687\n",
      "2.650513568991109\n",
      "(452, 3072)\n",
      "2/2 [==============================] - 0s 5ms/step\n",
      "PearsonRResult(statistic=0.4740589540664293, pvalue=0.0005057568703625427)\n",
      "PearsonRResult(statistic=0.3953495827671598, pvalue=5.7771840817704755e-09)\n",
      "2.3129340553283693\n",
      "2.566954283431025\n",
      "(452, 3072)\n",
      "2/2 [==============================] - 0s 4ms/step\n",
      "PearsonRResult(statistic=0.3535240278149144, pvalue=0.011786482699015334)\n",
      "PearsonRResult(statistic=0.38933793371987835, pvalue=1.5105969982247469e-10)\n",
      "3.1519023895263674\n",
      "2.683015415592799\n",
      "(452, 3072)\n",
      "2/2 [==============================] - 0s 10ms/step\n",
      "PearsonRResult(statistic=0.537723618890191, pvalue=5.648555301439702e-05)\n",
      "PearsonRResult(statistic=0.4087219949924517, pvalue=1.371653909414796e-13)\n",
      "2.634514627456665\n",
      "2.674985483782181\n",
      "(452, 3072)\n",
      "2/2 [==============================] - 0s 5ms/step\n",
      "PearsonRResult(statistic=0.47691590583846966, pvalue=0.0004624847281253793)\n",
      "PearsonRResult(statistic=0.39652717164355356, pvalue=1.056057096807921e-14)\n",
      "2.524547691345215\n",
      "2.6536164791746573\n",
      "(452, 3072)\n",
      "2/2 [==============================] - 0s 4ms/step\n",
      "PearsonRResult(statistic=0.5216562055254622, pvalue=0.00010238119942185434)\n",
      "PearsonRResult(statistic=0.4092683920131365, pvalue=1.1486849275668454e-17)\n",
      "2.7567810249328613\n",
      "2.666447890338613\n",
      "(452, 3072)\n",
      "2/2 [==============================] - 0s 4ms/step\n",
      "PearsonRResult(statistic=0.43390297099955083, pvalue=0.001643499475648659)\n",
      "PearsonRResult(statistic=0.38668435977614724, pvalue=1.4331942297994482e-17)\n",
      "3.016133608818054\n",
      "2.705129938842976\n",
      "(452, 3072)\n",
      "2/2 [==============================] - 0s 9ms/step\n",
      "PearsonRResult(statistic=0.10166418497436543, pvalue=0.4823578196727583)\n",
      "PearsonRResult(statistic=0.3650089300563501, pvalue=2.885722966853505e-17)\n",
      "2.794642949104309\n",
      "2.71404557731522\n"
     ]
    }
   ],
   "source": [
    "from sklearn.model_selection import KFold\n",
    "from sklearn.metrics import mean_absolute_error, mean_squared_error\n",
    "\n",
    "\n",
    "kfold = KFold(n_splits=10, shuffle=True, random_state=1)\n",
    "\n",
    "true_data = []\n",
    "results = []\n",
    "\n",
    "for train_index, test_index in kfold.split(X):\n",
    "    X_train, X_test = X[train_index], X[test_index]\n",
    "    y_train, y_test = y[train_index], y[test_index]\n",
    "    \n",
    "    print(X_train.shape)\n",
    "    model = tf.keras.Sequential([\n",
    "                            # tf.keras.layers.LSTM(64, input_shape=(3072, 1)),\n",
    "                            # tf.keras.layers.Conv1D(32, (3,), activation='relu', input_shape=(3072, 1)),\n",
    "                            # tf.keras.layers.Dropout(0.5),\n",
    "                            # tf.keras.layers.MaxPooling1D(),\n",
    "                            # tf.keras.layers.Flatten(),\n",
    "                            # tf.keras.layers.Conv1D(32, (3,), activation='relu', input_shape=(3072, 1)),\n",
    "                            tf.keras.layers.Dense(64, activation='sigmoid', kernel_regularizer=tf.keras.regularizers.l2(0.01)),\n",
    "                            tf.keras.layers.Dense(32, activation='relu'),\n",
    "                            tf.keras.layers.Flatten(),\n",
    "                            tf.keras.layers.Dense(units=1)\n",
    "                            ])\n",
    "\n",
    "    model.compile(optimizer=tf.keras.optimizers.SGD(learning_rate=0.001, momentum=0.9), loss='mean_absolute_error')\n",
    "\n",
    "    model.fit(X_train, y_train, batch_size=64, epochs=200, verbose=0)\n",
    "    result = model.predict(X_test)\n",
    "\n",
    "    result = [float(item) for item in result]\n",
    "    results = np.concatenate((results, result))\n",
    "    true_data = np.concatenate((true_data, y_test))\n",
    "\n",
    "    print(stats.pearsonr(result, y_test))\n",
    "    print(stats.pearsonr(results, true_data))\n",
    "    print(mean_absolute_error(result, y_test))\n",
    "    print(mean_absolute_error(results, true_data))"
   ]
  },
  {
   "cell_type": "code",
   "execution_count": 87,
   "metadata": {},
   "outputs": [
    {
     "name": "stdout",
     "output_type": "stream",
     "text": [
      "PearsonRResult(statistic=0.3654007289962986, pvalue=2.654294129338213e-17)\n"
     ]
    }
   ],
   "source": [
    "#WHOLE DATASET\n",
    "\n",
    "results = [item if item >= 4 else 4 for item in results]\n",
    "results = [item if item <= 20 else 20 for item in results]\n",
    "\n",
    "print(stats.pearsonr(results, true_data))"
   ]
  },
  {
   "cell_type": "code",
   "execution_count": 88,
   "metadata": {},
   "outputs": [
    {
     "name": "stdout",
     "output_type": "stream",
     "text": [
      "MAE: 2.70\n",
      "MSE: 12.57\n"
     ]
    }
   ],
   "source": [
    "from sklearn.metrics import mean_absolute_error, mean_squared_error\n",
    "\n",
    "\n",
    "mae = mean_absolute_error(true_data, results)\n",
    "mse = mean_squared_error(true_data, results)\n",
    "\n",
    "print(f'MAE: {mae:.2f}')\n",
    "print(f'MSE: {mse:.2f}')"
   ]
  },
  {
   "cell_type": "code",
   "execution_count": 89,
   "metadata": {},
   "outputs": [],
   "source": [
    "answers_tuples = [(y, res) for y, res in zip(true_data, results)]\n",
    "sorted_tuples = sorted(answers_tuples, key=lambda x: x[0])\n",
    "\n",
    "true_data = [x[0] for x in sorted_tuples]\n",
    "result = [x[1] for x in sorted_tuples]\n",
    "\n",
    "rounded_result = [round(int(item)) for item in result]"
   ]
  },
  {
   "cell_type": "code",
   "execution_count": 90,
   "metadata": {},
   "outputs": [
    {
     "data": {
      "image/png": "[encoded data removed]",
      "text/plain": [
       "<Figure size 432x288 with 1 Axes>"
      ]
     },
     "metadata": {
      "needs_background": "light"
     },
     "output_type": "display_data"
    }
   ],
   "source": [
    "plt.plot(range(len(result)), rounded_result, 'o', color=[1, 0, 0, 0.7], label=\"Prediction\")\n",
    "plt.plot(range(len(true_data)), true_data, 'o', color=[0, 1, 0, 0.1], label='Observable data')\n",
    "plt.legend(loc='upper left')\n",
    "plt.title('Prediction vs real data | K-fold')\n",
    "plt.show()"
   ]
  },
  {
   "cell_type": "code",
   "execution_count": 91,
   "metadata": {},
   "outputs": [
    {
     "data": {
      "text/plain": [
       "<keras.callbacks.History at 0x1913b539f00>"
      ]
     },
     "execution_count": 91,
     "metadata": {},
     "output_type": "execute_result"
    }
   ],
   "source": [
    "# Using model to predict pilot data\n",
    "\n",
    "model = tf.keras.Sequential([\n",
    "                        # tf.keras.layers.LSTM(64, input_shape=(None, 1)),\n",
    "                        # tf.keras.layers.Conv1D(32, (3,), activation='relu', input_shape=(3072, 1)),\n",
    "                        # tf.keras.layers.MaxPooling1D(),\n",
    "                        # tf.keras.layers.Flatten(),\n",
    "                        tf.keras.layers.Dense(64, activation='sigmoid', kernel_regularizer=tf.keras.regularizers.l2(0.01)),\n",
    "                        tf.keras.layers.Dense(32, activation='relu'),\n",
    "                        tf.keras.layers.Flatten(),\n",
    "                        tf.keras.layers.Dense(units=1)\n",
    "                        ])\n",
    "model.compile(optimizer=tf.keras.optimizers.Adam(learning_rate=0.001), loss='mean_absolute_error')\n",
    "model.fit(X, y, batch_size=64, epochs=100, verbose=0)"
   ]
  },
  {
   "cell_type": "code",
   "execution_count": 92,
   "metadata": {},
   "outputs": [
    {
     "name": "stdout",
     "output_type": "stream",
     "text": [
      "3/3 [==============================] - 0s 4ms/step\n",
      "PearsonRResult(statistic=0.24862770007047216, pvalue=0.015118728331114597)\n"
     ]
    }
   ],
   "source": [
    "prediction = model.predict(pilot_X)\n",
    "prediction = [float(item) for item in prediction]\n",
    "pilot_results = [item if item >= 4 else 4 for item in prediction]\n",
    "pilot_results = [item if item <= 20 else 20 for item in pilot_results]\n",
    "\n",
    "print(stats.pearsonr(pilot_results, pilot_Y))"
   ]
  },
  {
   "cell_type": "code",
   "execution_count": 93,
   "metadata": {},
   "outputs": [
    {
     "data": {
      "image/png": "[encoded data removed]",
      "text/plain": [
       "<Figure size 432x288 with 1 Axes>"
      ]
     },
     "metadata": {
      "needs_background": "light"
     },
     "output_type": "display_data"
    }
   ],
   "source": [
    "answers_tuples = [(y, res) for y, res in zip(pilot_Y, results)]\n",
    "sorted_tuples = sorted(answers_tuples, key=lambda x: x[0])\n",
    "\n",
    "test_y = [x[0] for x in sorted_tuples]\n",
    "result = [x[1] for x in sorted_tuples]\n",
    "\n",
    "rounded_result = [round(int(item)) for item in result]\n",
    "\n",
    "plt.plot(range(len(result)), rounded_result, 'o', color=[1, 0, 0, 0.7], label=\"Prediction\")\n",
    "plt.plot(range(len(test_y)), test_y, 'o', color=[0, 1, 0, 0.3], label='Pilot data')\n",
    "plt.legend(loc='upper left')\n",
    "plt.title('Prediction vs real data | Pilot data')\n",
    "plt.show()"
   ]
  }
 ],
 "metadata": {
  "kernelspec": {
   "display_name": "Python 3",
   "language": "python",
   "name": "python3"
  },
  "language_info": {
   "codemirror_mode": {
    "name": "ipython",
    "version": 3
   },
   "file_extension": ".py",
   "mimetype": "text/x-python",
   "name": "python",
   "nbconvert_exporter": "python",
   "pygments_lexer": "ipython3",
   "version": "3.10.3"
  },
  "orig_nbformat": 4,
  "vscode": {
   "interpreter": {
    "hash": "8c3d4d9970fc5c09c50d9318a9c7fbf4d0159e4b28833276f5678ee22bded273"
   }
  }
 },
 "nbformat": 4,
 "nbformat_minor": 2
}
