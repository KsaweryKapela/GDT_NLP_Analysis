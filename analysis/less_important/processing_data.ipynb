{
  "cells": [
    {
      "cell_type": "code",
      "execution_count": null,
      "metadata": {
        "id": "U0c003lBhZ2-"
      },
      "outputs": [],
      "source": [
        "! pip install pyreadstat\n",
        "import pandas as pd\n",
        "import pyreadstat\n",
        "\n",
        "\n",
        "file_name = 'GDT_data_final.sav'\n",
        "df, meta = pyreadstat.read_sav(file_name)"
      ]
    },
    {
      "cell_type": "code",
      "execution_count": null,
      "metadata": {
        "id": "X8Qv_oHRh9ra"
      },
      "outputs": [],
      "source": [
        "df['GDT_score'] = df['gdt_r1'] + df['gdt_r2'] + df['gdt_r3'] + df['gdt_r4']\n",
        "print(df.columns.to_list())"
      ]
    },
    {
      "cell_type": "code",
      "execution_count": 79,
      "metadata": {
        "id": "GS4rM74BiRlt"
      },
      "outputs": [],
      "source": [
        "def connect_answers(*args):\n",
        "    new_list = []\n",
        "    for i in range(len(args[0])):\n",
        "        text = ''\n",
        "        for arg in args:\n",
        "            if arg[i] == '':\n",
        "                continue\n",
        "\n",
        "            current_arg = arg[i].capitalize()\n",
        "            if current_arg[-1] != '.':\n",
        "                text += f'{current_arg}. '\n",
        "            else:\n",
        "                text += f'{current_arg} '\n",
        "\n",
        "        new_list.append(text)\n",
        "    return new_list\n",
        "\n",
        "\n",
        "df['nlp_2'] = connect_answers(df['nlp_2_h1_r1'], df['nlp_2_h1_r2'], df['nlp_2_h1_r3'], df['nlp_2_h1_r4'], df['nlp_2_h1_r5'],\n",
        "                              df['nlp_2_h1_r6'], df['nlp_2_h1_r7'], df['nlp_2_h1_r8'], df['nlp_2_h1_r9'], df['nlp_2_h1_r10'])\n",
        "\n",
        "df['nlp_3'] = connect_answers(df['nlp_3_h1_r1'], df['nlp_3_h1_r2'], df['nlp_3_h1_r3'], df['nlp_3_h1_r4'], df['nlp_3_h1_r5'],\n",
        "                              df['nlp_3_h1_r6'], df['nlp_3_h1_r7'], df['nlp_3_h1_r8'], df['nlp_3_h1_r9'], df['nlp_3_h1_r10'])\n",
        "\n",
        "df['nlp_4'] = connect_answers(df['nlp_4_h1_r1'], df['nlp_4_h1_r2'], df['nlp_4_h1_r3'], df['nlp_4_h1_r4'], df['nlp_4_h1_r5'],\n",
        "                              df['nlp_4_h1_r6'], df['nlp_4_h1_r7'], df['nlp_4_h1_r8'], df['nlp_4_h1_r9'], df['nlp_4_h1_r10'])\n",
        "\n",
        "df['nlp_5'] = connect_answers(df['nlp_5_h1_r1'], df['nlp_5_h1_r2'], df['nlp_5_h1_r3'], df['nlp_5_h1_r4'], df['nlp_5_h1_r5'],\n",
        "                              df['nlp_5_h1_r6'], df['nlp_5_h1_r7'], df['nlp_5_h1_r8'], df['nlp_5_h1_r9'], df['nlp_5_h1_r10'])\n",
        "\n",
        "df['nlp_6'] = connect_answers(df['nlp_6_h1_r1'], df['nlp_6_h1_r2'], df['nlp_6_h1_r3'], df['nlp_6_h1_r4'], df['nlp_6_h1_r5'],\n",
        "                              df['nlp_6_h1_r6'], df['nlp_6_h1_r7'], df['nlp_6_h1_r8'], df['nlp_6_h1_r9'], df['nlp_6_h1_r10'])"
      ]
    },
    {
      "cell_type": "code",
      "execution_count": 76,
      "metadata": {
        "id": "dpTZKVVai_ma"
      },
      "outputs": [],
      "source": [
        "GD = []\n",
        "for index, row in df.iterrows():\n",
        "  if row['gdt_r1'] >= 4 and row['gdt_r2'] >= 4 and row['gdt_r3'] >= 4 and row['gdt_r4'] >= 4:\n",
        "    GD.append(1)\n",
        "  else:\n",
        "    GD.append(0)\n",
        "df['GD_label'] = GD"
      ]
    },
    {
      "cell_type": "code",
      "execution_count": 75,
      "metadata": {
        "id": "XlCCrsrOw4yI"
      },
      "outputs": [],
      "source": [
        "df['is_male'] = [1 if item == 2 else 0 for item in df['sex']]\n",
        "df['is_female'] = [1 if item == 1 else 0 for item in df['sex']]"
      ]
    },
    {
      "cell_type": "code",
      "execution_count": 74,
      "metadata": {
        "id": "Dh4GhOBiumwM"
      },
      "outputs": [],
      "source": [
        "df['GAD_PHQ_score'] = df['hel1_r1'] + df['hel1_r2'] + df['hel1_r3'] + df['hel1_r4'] + df['hel1_r5'] + df['hel1_r6'] + df['hel1_r7'] + \\\n",
        "                df['hel1_r8'] + df['hel1_r9'] + df['hel1_r10'] + df['hel1_r11'] + df['hel1_r12'] + df['hel1_r13'] + df['hel1_r14'] + \\\n",
        "                df['hel1_r15'] + df['hel1_r16']\n",
        "\n",
        "df['GAD_PHQ_score_2'] = df['GAD_PHQ_score'] * df['hel2']"
      ]
    },
    {
      "cell_type": "code",
      "execution_count": 73,
      "metadata": {
        "id": "I3LHVckPx0h8"
      },
      "outputs": [],
      "source": [
        "df['harmony_score'] = df['wb1_r1'] + df['wb1_r2'] + df['wb1_r3'] + df['wb1_r4'] + df['wb1_r5'] + df['wb1_r6']"
      ]
    },
    {
      "cell_type": "code",
      "execution_count": 83,
      "metadata": {
        "id": "cpLaEye7k9vG"
      },
      "outputs": [],
      "source": [
        "data = df['year'], df['is_male'], df['is_female'], \\\n",
        "       df['GAD_PHQ_score'], df['GAD_PHQ_score_2'], df['GDT_score'], df['GD_label'], df['harmony_score'], \\\n",
        "       df['nlp_1'], df['nlp_2'], df['nlp_3'], df['nlp_4'], df['nlp_5'], df['nlp_6']\n",
        "\n",
        "new_df = pd.concat(data,  axis=1)\n",
        "\n",
        "new_df.rename(columns = {'year':'age'}, inplace = True)\n"
      ]
    },
    {
      "cell_type": "code",
      "execution_count": 85,
      "metadata": {
        "id": "Ay8u6fFwzkSP"
      },
      "outputs": [],
      "source": [
        "new_df.to_excel(\"data_in_progres.xlsx\")"
      ]
    }
  ],
  "metadata": {
    "colab": {
      "provenance": []
    },
    "kernelspec": {
      "display_name": "Python 3.10.3 64-bit",
      "language": "python",
      "name": "python3"
    },
    "language_info": {
      "name": "python",
      "version": "3.10.3"
    },
    "vscode": {
      "interpreter": {
        "hash": "8c3d4d9970fc5c09c50d9318a9c7fbf4d0159e4b28833276f5678ee22bded273"
      }
    }
  },
  "nbformat": 4,
  "nbformat_minor": 0
}
