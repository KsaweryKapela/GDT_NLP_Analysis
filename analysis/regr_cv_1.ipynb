{
 "cells": [
  {
   "cell_type": "code",
   "execution_count": 5,
   "metadata": {},
   "outputs": [],
   "source": [
    "import numpy as np\n",
    "import pandas as pd"
   ]
  },
  {
   "cell_type": "code",
   "execution_count": 23,
   "metadata": {},
   "outputs": [
    {
     "name": "stderr",
     "output_type": "stream",
     "text": [
      "Some weights of the model checkpoint at allegro/herbert-base-cased were not used when initializing BertModel: ['cls.predictions.transform.dense.bias', 'cls.predictions.bias', 'cls.predictions.transform.LayerNorm.weight', 'cls.sso.sso_relationship.bias', 'cls.sso.sso_relationship.weight', 'cls.predictions.decoder.weight', 'cls.predictions.transform.dense.weight', 'cls.predictions.transform.LayerNorm.bias', 'cls.predictions.decoder.bias']\n",
      "- This IS expected if you are initializing BertModel from the checkpoint of a model trained on another task or with another architecture (e.g. initializing a BertForSequenceClassification model from a BertForPreTraining model).\n",
      "- This IS NOT expected if you are initializing BertModel from the checkpoint of a model that you expect to be exactly identical (initializing a BertForSequenceClassification model from a BertForSequenceClassification model).\n"
     ]
    }
   ],
   "source": [
    "from transformers import AutoTokenizer, AutoModel\n",
    "\n",
    "tokenizer = AutoTokenizer.from_pretrained('allegro/herbert-base-cased')\n",
    "bert_model = AutoModel.from_pretrained(\"allegro/herbert-base-cased\") "
   ]
  },
  {
   "cell_type": "code",
   "execution_count": 24,
   "metadata": {},
   "outputs": [],
   "source": [
    "from typing import Callable, List, Optional, Tuple\n",
    "import pandas as pd\n",
    "from sklearn.base import TransformerMixin, BaseEstimator\n",
    "import torch\n",
    "from IPython.display import clear_output\n",
    "\n",
    "class BertTransformer(BaseEstimator, TransformerMixin):\n",
    "    def __init__(self, bert_tokenizer, bert_model, max_length):\n",
    "\n",
    "        self.bert_tokenizer = bert_tokenizer\n",
    "        self.bert_model = bert_model\n",
    "        self.bert_model.eval()\n",
    "        self.max_length = max_length\n",
    "        self.embedding_func = lambda x: x[0][:, 0, :].squeeze()\n",
    "\n",
    "    def _tokenize(self, text: str) -> Tuple[torch.tensor, torch.tensor]:\n",
    "        tokenized_text = self.bert_tokenizer.encode_plus(text,\n",
    "                                                         add_special_tokens=True,\n",
    "                                                         max_length=self.max_length\n",
    "                                                         )[\"input_ids\"]\n",
    "\n",
    "        attention_mask = [1] * len(tokenized_text)\n",
    "\n",
    "        return (\n",
    "            torch.tensor(tokenized_text).unsqueeze(0),\n",
    "            torch.tensor(attention_mask).unsqueeze(0),\n",
    "        )\n",
    "\n",
    "    def _tokenize_and_predict(self, text: str, progress) -> torch.tensor:\n",
    "        \n",
    "        \n",
    "        print(progress, flush=True)\n",
    "        \n",
    "        tokenized, attention_mask = self._tokenize(text)\n",
    "\n",
    "        embeddings = self.bert_model(tokenized, attention_mask)\n",
    "        \n",
    "        clear_output(wait=True)\n",
    "        return self.embedding_func(embeddings)\n",
    "\n",
    "    def transform(self, text: List[str]):\n",
    "        if isinstance(text, pd.Series):\n",
    "            text = text.tolist()\n",
    "\n",
    "        with torch.no_grad():\n",
    "            return torch.stack([self._tokenize_and_predict(string, f'{text.index(string) + 1}/{len(text)}') for string in text])\n",
    "\n",
    "    def fit(self, X, y=None):\n",
    "        return self\n"
   ]
  },
  {
   "cell_type": "code",
   "execution_count": 22,
   "metadata": {},
   "outputs": [],
   "source": [
    "X = 'nlp_4', 'nlp_5' # NLP ONLY\n",
    "Y = 'GDT_score'\n",
    "LABELS = []\n",
    "DATASET = 'GDT_NLP_FULLSTOPS.xlsx'\n"
   ]
  },
  {
   "cell_type": "code",
   "execution_count": 19,
   "metadata": {},
   "outputs": [
    {
     "name": "stdout",
     "output_type": "stream",
     "text": [
      "522\n",
      "522\n"
     ]
    },
    {
     "data": {
      "text/plain": [
       "Series([], Name: nlp_4_label, dtype: int64)"
      ]
     },
     "execution_count": 19,
     "metadata": {},
     "output_type": "execute_result"
    }
   ],
   "source": [
    "df = pd.read_excel(io=DATASET)\n",
    "\n",
    "nlp_labels = [f'nlp_{num}_label' for num in range(1, 7)]\n",
    "\n",
    "print(len(df))\n",
    "\n",
    "for nlp_label in nlp_labels:\n",
    "    if nlp_label[:-6] in X:\n",
    "        for num_label in LABELS:\n",
    "            df = df[df[nlp_label] != num_label]\n",
    "\n",
    "print(len(df))\n",
    "\n",
    "df[f'{X[0]}_label'].value_counts()"
   ]
  },
  {
   "cell_type": "code",
   "execution_count": 23,
   "metadata": {},
   "outputs": [
    {
     "name": "stdout",
     "output_type": "stream",
     "text": [
      "multiple NLP items\n",
      "nlp_n\n",
      "Energia. Rozmach. Potencjał. Śmiałość. Nagłość. Bezbronność. Bezsiła. Bezradność. Bezsilność. Niemoc. \n"
     ]
    }
   ],
   "source": [
    "X_items = X\n",
    "if len(X_items) > 1:\n",
    "\n",
    "    print('multiple NLP items')\n",
    "\n",
    "    X = 'nlp_n'\n",
    "    \n",
    "    df[X] = None\n",
    "\n",
    "    for index, item in enumerate(X_items):\n",
    "        if index == 0:\n",
    "            df[X] = df[item]\n",
    "        else:\n",
    "            df[X] += df[item]\n",
    "\n",
    "else:\n",
    "    X = X[0]\n",
    "\n",
    "print(X)\n",
    "\n",
    "print(df[X][0])"
   ]
  },
  {
   "cell_type": "code",
   "execution_count": 24,
   "metadata": {},
   "outputs": [
    {
     "data": {
      "image/png": "[encoded data removed]",
      "text/plain": [
       "<Figure size 432x288 with 1 Axes>"
      ]
     },
     "metadata": {
      "needs_background": "light"
     },
     "output_type": "display_data"
    }
   ],
   "source": [
    "import matplotlib.pyplot as plt\n",
    "\n",
    "len_arr = []\n",
    "for items in df[X]:\n",
    "    len_arr.append(len(items))\n",
    "    \n",
    "len_arr.sort()\n",
    "\n",
    "plt.plot(len_arr, linestyle=\"\", marker=\"o\")\n",
    "plt.xlabel('Num of ppl')\n",
    "plt.ylabel('Num of signs')\n",
    "plt.show()"
   ]
  },
  {
   "cell_type": "code",
   "execution_count": 29,
   "metadata": {},
   "outputs": [
    {
     "name": "stdout",
     "output_type": "stream",
     "text": [
      "522/522\n"
     ]
    }
   ],
   "source": [
    "bert_transformer = BertTransformer(tokenizer, bert_model, max_length=60)\n",
    "\n",
    "X = bert_transformer.transform(df[X])\n",
    "Y = df[Y]"
   ]
  },
  {
   "cell_type": "code",
   "execution_count": 30,
   "metadata": {},
   "outputs": [],
   "source": [
    "from sklearn import svm\n",
    "\n",
    "vector_regression = svm.SVR(kernel='linear', C=2.2, tol=1e-3)"
   ]
  },
  {
   "cell_type": "code",
   "execution_count": 31,
   "metadata": {},
   "outputs": [],
   "source": [
    "from sklearn.model_selection import KFold\n",
    "\n",
    "kf = KFold(n_splits=10)\n",
    "\n",
    "results = []\n",
    "for index in (kf.split(X)):\n",
    "    slice_1 = min(index[1])\n",
    "    slice_2 = max(index[1]) + 1\n",
    "    \n",
    "    x_test = X[slice_1:slice_2]\n",
    "    \n",
    "    x_train_1 = X[:slice_1]\n",
    "    x_train_2 = X[slice_2:]\n",
    "\n",
    "    x_train = torch.cat((x_train_1, x_train_2))\n",
    "\n",
    "    y_train = list(Y[:slice_1]) + list(Y[slice_2:])\n",
    "    y_test = Y[slice_1:slice_2]\n",
    "    vector_regression.fit(x_train, y_train)\n",
    "    result = vector_regression.predict(x_test)\n",
    "    results = np.concatenate((results, result))\n"
   ]
  },
  {
   "cell_type": "code",
   "execution_count": 32,
   "metadata": {},
   "outputs": [
    {
     "name": "stdout",
     "output_type": "stream",
     "text": [
      "PearsonRResult(statistic=0.26092713167758813, pvalue=1.4274771406121525e-09)\n"
     ]
    }
   ],
   "source": [
    "from scipy import stats\n",
    "results = [item if item >= 4 else 4 for item in results]\n",
    "results = [item if item <= 20 else 20 for item in results]\n",
    "\n",
    "print(stats.pearsonr(results, Y))"
   ]
  },
  {
   "cell_type": "code",
   "execution_count": 33,
   "metadata": {},
   "outputs": [],
   "source": [
    "answers_tuples = [(y, res) for y, res in zip(Y, results)]\n",
    "sorted_tuples = sorted(answers_tuples, key=lambda x: x[0])\n",
    "\n",
    "test_y = [x[0] for x in sorted_tuples]\n",
    "result = [x[1] for x in sorted_tuples]\n",
    "\n",
    "rounded_result = [round(item) for item in result]"
   ]
  },
  {
   "cell_type": "code",
   "execution_count": 34,
   "metadata": {},
   "outputs": [
    {
     "data": {
      "image/png": "[encoded data removed]",
      "text/plain": [
       "<Figure size 432x288 with 1 Axes>"
      ]
     },
     "metadata": {
      "needs_background": "light"
     },
     "output_type": "display_data"
    }
   ],
   "source": [
    "import matplotlib.pyplot as plt\n",
    "\n",
    "plt.plot(range(len(result)), rounded_result, '|', linestyle = \"\", markerfacecolor='w', label=\"Prediction\")\n",
    "plt.plot(range(len(test_y)), test_y, '|', linestyle = \"\", label='True data')\n",
    "plt.legend(loc='upper left')\n",
    "plt.title('Prediction vs real data')\n",
    "plt.show()"
   ]
  },
  {
   "cell_type": "code",
   "execution_count": 35,
   "metadata": {},
   "outputs": [],
   "source": [
    "# testing new inputs\n",
    "\n",
    "# from sklearn import svm\n",
    "\n",
    "# test_vector_regression = svm.SVR(kernel='linear', C=2.2, tol=1e-3)\n",
    "# testing_new_sentence = bert_transformer.transform(['Nie lubię', 'Nie lubie'])\n",
    "# test_vector_regression.fit(X, Y)\n",
    "# test_result = test_vector_regression.predict(testing_new_sentence)\n",
    "# print(f'{test_result} points predicted')"
   ]
  }
 ],
 "metadata": {
  "kernelspec": {
   "display_name": "Python 3",
   "language": "python",
   "name": "python3"
  },
  "language_info": {
   "codemirror_mode": {
    "name": "ipython",
    "version": 3
   },
   "file_extension": ".py",
   "mimetype": "text/x-python",
   "name": "python",
   "nbconvert_exporter": "python",
   "pygments_lexer": "ipython3",
   "version": "3.10.3"
  },
  "orig_nbformat": 4,
  "vscode": {
   "interpreter": {
    "hash": "8c3d4d9970fc5c09c50d9318a9c7fbf4d0159e4b28833276f5678ee22bded273"
   }
  }
 },
 "nbformat": 4,
 "nbformat_minor": 2
}
