{
 "cells": [
  {
   "cell_type": "code",
   "execution_count": 3,
   "metadata": {},
   "outputs": [],
   "source": [
    "import numpy as np\n",
    "import pandas as pd"
   ]
  },
  {
   "cell_type": "code",
   "execution_count": 4,
   "metadata": {},
   "outputs": [
    {
     "name": "stderr",
     "output_type": "stream",
     "text": [
      "c:\\Users\\Lenovo\\AppData\\Local\\Programs\\Python\\Python310\\lib\\site-packages\\tqdm\\auto.py:22: TqdmWarning: IProgress not found. Please update jupyter and ipywidgets. See https://ipywidgets.readthedocs.io/en/stable/user_install.html\n",
      "  from .autonotebook import tqdm as notebook_tqdm\n",
      "Some weights of the model checkpoint at allegro/herbert-base-cased were not used when initializing BertModel: ['cls.predictions.decoder.weight', 'cls.sso.sso_relationship.bias', 'cls.predictions.bias', 'cls.predictions.decoder.bias', 'cls.sso.sso_relationship.weight', 'cls.predictions.transform.dense.weight', 'cls.predictions.transform.LayerNorm.bias', 'cls.predictions.transform.dense.bias', 'cls.predictions.transform.LayerNorm.weight']\n",
      "- This IS expected if you are initializing BertModel from the checkpoint of a model trained on another task or with another architecture (e.g. initializing a BertForSequenceClassification model from a BertForPreTraining model).\n",
      "- This IS NOT expected if you are initializing BertModel from the checkpoint of a model that you expect to be exactly identical (initializing a BertForSequenceClassification model from a BertForSequenceClassification model).\n"
     ]
    }
   ],
   "source": [
    "from transformers import AutoTokenizer, AutoModel\n",
    "\n",
    "tokenizer = AutoTokenizer.from_pretrained('allegro/herbert-base-cased')\n",
    "bert_model = AutoModel.from_pretrained(\"allegro/herbert-base-cased\") "
   ]
  },
  {
   "cell_type": "code",
   "execution_count": 5,
   "metadata": {},
   "outputs": [],
   "source": [
    "from typing import Callable, List, Optional, Tuple\n",
    "import pandas as pd\n",
    "from sklearn.base import TransformerMixin, BaseEstimator\n",
    "import torch\n",
    "from IPython.display import clear_output\n",
    "\n",
    "class BertTransformer(BaseEstimator, TransformerMixin):\n",
    "    def __init__(self, bert_tokenizer, bert_model, max_length):\n",
    "\n",
    "        self.bert_tokenizer = bert_tokenizer\n",
    "        self.bert_model = bert_model\n",
    "        self.bert_model.eval()\n",
    "        self.max_length = max_length\n",
    "        self.embedding_func = lambda x: x[0][:, 0, :].squeeze()\n",
    "\n",
    "    def _tokenize(self, text: str) -> Tuple[torch.tensor, torch.tensor]:\n",
    "        tokenized_text = self.bert_tokenizer.encode_plus(text,\n",
    "                                                         add_special_tokens=True,\n",
    "                                                         max_length=self.max_length\n",
    "                                                         )[\"input_ids\"]\n",
    "\n",
    "        attention_mask = [1] * len(tokenized_text)\n",
    "\n",
    "        return (\n",
    "            torch.tensor(tokenized_text).unsqueeze(0),\n",
    "            torch.tensor(attention_mask).unsqueeze(0),\n",
    "        )\n",
    "\n",
    "    def _tokenize_and_predict(self, text: str, progress) -> torch.tensor:\n",
    "        \n",
    "        \n",
    "        print(progress, flush=True)\n",
    "        \n",
    "        tokenized, attention_mask = self._tokenize(text)\n",
    "\n",
    "        embeddings = self.bert_model(tokenized, attention_mask)\n",
    "        \n",
    "        clear_output(wait=True)\n",
    "        return self.embedding_func(embeddings)\n",
    "\n",
    "    def transform(self, text: List[str]):\n",
    "        if isinstance(text, pd.Series):\n",
    "            text = text.tolist()\n",
    "\n",
    "        with torch.no_grad():\n",
    "            return torch.stack([self._tokenize_and_predict(string, f'{text.index(string) + 1}/{len(text)}') for string in text])\n",
    "\n",
    "    def fit(self, X, y=None):\n",
    "        return self\n"
   ]
  },
  {
   "cell_type": "code",
   "execution_count": 181,
   "metadata": {},
   "outputs": [],
   "source": [
    "X = 'nlp_4', 'nlp_2', 'nlp_5', 'hours', 'age', 'sex'\n",
    "Y = 'GDT_score'\n",
    "DATASET = 'GDT_NLP_FULLSTOPS.xlsx'\n"
   ]
  },
  {
   "cell_type": "code",
   "execution_count": 182,
   "metadata": {},
   "outputs": [
    {
     "name": "stdout",
     "output_type": "stream",
     "text": [
      "522\n",
      "522\n"
     ]
    },
    {
     "data": {
      "text/plain": [
       "Series([], Name: nlp_4_label, dtype: int64)"
      ]
     },
     "execution_count": 182,
     "metadata": {},
     "output_type": "execute_result"
    }
   ],
   "source": [
    "df = pd.read_excel(io=DATASET)\n",
    "df['sex'] = [(male, female) for male, female in zip(df['is_male'], df['is_female'])]"
   ]
  },
  {
   "cell_type": "code",
   "execution_count": 185,
   "metadata": {},
   "outputs": [],
   "source": [
    "bert_transformer = BertTransformer(tokenizer, bert_model, max_length=60)"
   ]
  },
  {
   "cell_type": "code",
   "execution_count": 187,
   "metadata": {},
   "outputs": [
    {
     "name": "stdout",
     "output_type": "stream",
     "text": [
      "nlp_5 appended to list\n",
      "hours appended to list\n",
      "age appended to list\n",
      "sex appended to list\n"
     ]
    },
    {
     "data": {
      "text/plain": [
       "(522, 2308)"
      ]
     },
     "execution_count": 187,
     "metadata": {},
     "output_type": "execute_result"
    }
   ],
   "source": [
    "import time\n",
    "all_x = []\n",
    "\n",
    "for item in X:\n",
    "\n",
    "    if 'nlp' in item:\n",
    "        item_processed = bert_transformer.transform(list(df[item]))\n",
    "        all_x.append(item_processed)\n",
    "        print(f'{item} added to list')\n",
    "        time.sleep(0.5)\n",
    "\n",
    "    elif item == 'sex':\n",
    "        all_x.append(list(df[item]))\n",
    "        print(f'{item} added to list')\n",
    "        time.sleep(0.5)\n",
    "    \n",
    "    else:\n",
    "        item_processed = [[item] for item in df[item]]\n",
    "        \n",
    "        all_x.append(item_processed)\n",
    "        print(f'{item} added to list')\n",
    "        time.sleep(0.5)\n",
    "\n",
    "all_x = tuple(all_x)\n",
    "X = np.hstack(all_x)\n",
    "\n",
    "Y = df[Y]\n",
    "X.shape"
   ]
  },
  {
   "cell_type": "code",
   "execution_count": 190,
   "metadata": {},
   "outputs": [],
   "source": [
    "from sklearn import svm\n",
    "\n",
    "vector_regression = svm.SVR(kernel='linear', C=2.2, tol=1e-3)"
   ]
  },
  {
   "cell_type": "code",
   "execution_count": 191,
   "metadata": {},
   "outputs": [],
   "source": [
    "from sklearn.model_selection import KFold\n",
    "\n",
    "kf = KFold(n_splits=10)\n",
    "\n",
    "results = []\n",
    "for index in (kf.split(X)):\n",
    "    slice_1 = min(index[1])\n",
    "    slice_2 = max(index[1]) + 1\n",
    "    \n",
    "    x_test = X[slice_1:slice_2]\n",
    "    \n",
    "    x_train_1 = X[:slice_1]\n",
    "    x_train_2 = X[slice_2:]\n",
    "\n",
    "    \n",
    "    if len(x_train_1) == 0:\n",
    "        x_train = x_train_2\n",
    "    \n",
    "    elif len(x_train_2) == 0:\n",
    "        x_train = x_train_1\n",
    "    \n",
    "    else:\n",
    "        x_train = np.concatenate((x_train_1, x_train_2))\n",
    "\n",
    "    y_train = list(Y[:slice_1]) + list(Y[slice_2:])\n",
    "    y_test = Y[slice_1:slice_2]\n",
    "\n",
    "    vector_regression.fit(x_train, y_train)\n",
    "    result = vector_regression.predict(x_test)\n",
    "    results = np.concatenate((results, result))\n"
   ]
  },
  {
   "cell_type": "code",
   "execution_count": 192,
   "metadata": {},
   "outputs": [
    {
     "name": "stdout",
     "output_type": "stream",
     "text": [
      "PearsonRResult(statistic=0.3644443879810221, pvalue=7.67837248423694e-18)\n"
     ]
    }
   ],
   "source": [
    "from scipy import stats\n",
    "results = [item if item >= 4 else 4 for item in results]\n",
    "results = [item if item <= 20 else 20 for item in results]\n",
    "\n",
    "print(stats.pearsonr(results, Y))"
   ]
  },
  {
   "cell_type": "code",
   "execution_count": 193,
   "metadata": {},
   "outputs": [],
   "source": [
    "answers_tuples = [(y, res) for y, res in zip(Y, results)]\n",
    "sorted_tuples = sorted(answers_tuples, key=lambda x: x[0])\n",
    "\n",
    "test_y = [x[0] for x in sorted_tuples]\n",
    "result = [x[1] for x in sorted_tuples]\n",
    "\n",
    "rounded_result = [round(item) for item in result]"
   ]
  },
  {
   "cell_type": "code",
   "execution_count": 194,
   "metadata": {},
   "outputs": [
    {
     "data": {
      "image/png": "[encoded data removed]",
      "text/plain": [
       "<Figure size 432x288 with 1 Axes>"
      ]
     },
     "metadata": {
      "needs_background": "light"
     },
     "output_type": "display_data"
    }
   ],
   "source": [
    "import matplotlib.pyplot as plt\n",
    "\n",
    "plt.plot(range(len(result)), rounded_result, '|', linestyle = \"\", markerfacecolor='w', label=\"Prediction\")\n",
    "plt.plot(range(len(test_y)), test_y, '|', linestyle = \"\", label='True data')\n",
    "plt.legend(loc='upper left')\n",
    "plt.title('Prediction vs real data')\n",
    "plt.show()"
   ]
  }
 ],
 "metadata": {
  "kernelspec": {
   "display_name": "Python 3",
   "language": "python",
   "name": "python3"
  },
  "language_info": {
   "codemirror_mode": {
    "name": "ipython",
    "version": 3
   },
   "file_extension": ".py",
   "mimetype": "text/x-python",
   "name": "python",
   "nbconvert_exporter": "python",
   "pygments_lexer": "ipython3",
   "version": "3.10.3 (tags/v3.10.3:a342a49, Mar 16 2022, 13:07:40) [MSC v.1929 64 bit (AMD64)]"
  },
  "orig_nbformat": 4,
  "vscode": {
   "interpreter": {
    "hash": "8c3d4d9970fc5c09c50d9318a9c7fbf4d0159e4b28833276f5678ee22bded273"
   }
  }
 },
 "nbformat": 4,
 "nbformat_minor": 2
}
