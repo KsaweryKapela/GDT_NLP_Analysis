{
  "cells": [
    {
      "cell_type": "code",
      "execution_count": null,
      "metadata": {
        "id": "nvQwrVtheko_"
      },
      "outputs": [],
      "source": [
        "! pip install transformers\n",
        "! pip install sacremoses"
      ]
    },
    {
      "cell_type": "code",
      "execution_count": null,
      "metadata": {
        "id": "PwlG8abHMBUL"
      },
      "outputs": [],
      "source": [
        "import pandas as pd\n",
        "\n",
        "file_name = 'GDT_data_v01.xlsx'\n",
        "df = pd.read_excel(io=file_name)\n",
        "\n",
        "model_names = {\n",
        "    \"herbert-klej-cased-v1\": {\n",
        "        \"tokenizer\": \"allegro/herbert-klej-cased-tokenizer-v1\",\n",
        "        \"model\": \"allegro/herbert-klej-cased-v1\",\n",
        "    },\n",
        "    \"herbert-base-cased\": {\n",
        "        \"tokenizer\": \"allegro/herbert-base-cased\",\n",
        "        \"model\": \"allegro/herbert-base-cased\",\n",
        "    },\n",
        "    \"herbert-large-cased\": {\n",
        "        \"tokenizer\": \"allegro/herbert-large-cased\",\n",
        "        \"model\": \"allegro/herbert-large-cased\",\n",
        "    },\n",
        "}"
      ]
    },
    {
      "cell_type": "code",
      "execution_count": null,
      "metadata": {
        "id": "lM4X4Eynjw4Q"
      },
      "outputs": [],
      "source": [
        "from typing import Callable, List, Optional, Tuple\n",
        "import pandas as pd\n",
        "from sklearn.base import TransformerMixin, BaseEstimator\n",
        "import torch\n",
        "\n",
        "class BertTransformer(BaseEstimator, TransformerMixin):\n",
        "    def __init__(\n",
        "            self,\n",
        "            bert_tokenizer,\n",
        "            bert_model,\n",
        "            max_length: int = 60,\n",
        "            embedding_func: Optional[Callable[[torch.tensor], torch.tensor]] = None,\n",
        "    ):\n",
        "        self.bert_tokenizer = bert_tokenizer\n",
        "        self.bert_model = bert_model\n",
        "        self.bert_model.eval()\n",
        "        self.max_length = max_length\n",
        "        self.embedding_func = embedding_func\n",
        "\n",
        "        if self.embedding_func is None:\n",
        "            self.embedding_func = lambda x: x[0][:, 0, :].squeeze()\n",
        "\n",
        "    def _tokenize(self, text: str) -> Tuple[torch.tensor, torch.tensor]:\n",
        "        tokenized_text = self.bert_tokenizer.encode_plus(text,\n",
        "                                                         add_special_tokens=True,\n",
        "                                                         max_length=self.max_length\n",
        "                                                         )[\"input_ids\"]\n",
        "\n",
        "        attention_mask = [1] * len(tokenized_text)\n",
        "\n",
        "        return (\n",
        "            torch.tensor(tokenized_text).unsqueeze(0),\n",
        "            torch.tensor(attention_mask).unsqueeze(0),\n",
        "        )\n",
        "\n",
        "    def _tokenize_and_predict(self, text: str) -> torch.tensor:\n",
        "        tokenized, attention_mask = self._tokenize(text)\n",
        "\n",
        "        embeddings = self.bert_model(tokenized, attention_mask)\n",
        "        return self.embedding_func(embeddings)\n",
        "\n",
        "    def transform(self, text: List[str]):\n",
        "        if isinstance(text, pd.Series):\n",
        "            text = text.tolist()\n",
        "\n",
        "        with torch.no_grad():\n",
        "            return torch.stack([self._tokenize_and_predict(string) for string in text])\n",
        "\n",
        "    def fit(self, X, y=None):\n",
        "        return self\n"
      ]
    },
    {
      "cell_type": "code",
      "execution_count": null,
      "metadata": {
        "id": "GhQTZK5oebzY"
      },
      "outputs": [],
      "source": [
        "import numpy as np\n",
        "from transformers import AutoTokenizer, AutoModel"
      ]
    },
    {
      "cell_type": "code",
      "execution_count": null,
      "metadata": {
        "id": "D2dO3op0e-mP"
      },
      "outputs": [],
      "source": [
        "tokenizer = AutoTokenizer.from_pretrained(model_names[\"herbert-base-cased\"][\"tokenizer\"])\n",
        "model = AutoModel.from_pretrained(model_names[\"herbert-base-cased\"][\"model\"]) \n",
        "bert_transformer = BertTransformer(tokenizer, model)"
      ]
    },
    {
      "cell_type": "code",
      "execution_count": 181,
      "metadata": {
        "id": "MIrjEH6Iimw2"
      },
      "outputs": [],
      "source": [
        "from sklearn.model_selection import train_test_split\n",
        "\n",
        "working_df = df[~df['nlp_5'].isna()]\n",
        "df_train, df_test = train_test_split(working_df, test_size = 0.2, random_state=23)"
      ]
    },
    {
      "cell_type": "code",
      "execution_count": 182,
      "metadata": {
        "id": "QZ79kZFUljHe"
      },
      "outputs": [],
      "source": [
        "train_x = df_train['nlp_5']\n",
        "train_y = df_train['GDT_score']\n",
        "test_x = df_test['nlp_5']\n",
        "test_y = df_test['GDT_score']"
      ]
    },
    {
      "cell_type": "code",
      "execution_count": null,
      "metadata": {
        "colab": {
          "base_uri": "https://localhost:8080/"
        },
        "id": "KrsZPAu_oAFe",
        "outputId": "e1bc539d-40ae-47d3-98fe-809d16b1fcae"
      },
      "outputs": [],
      "source": [
        "tokenized_train_x = bert_transformer.transform(train_x)"
      ]
    },
    {
      "cell_type": "code",
      "execution_count": 186,
      "metadata": {
        "colab": {
          "base_uri": "https://localhost:8080/"
        },
        "id": "hfO_l2sKpOZc",
        "outputId": "93182d6b-54c3-4fac-cab2-f2ffd5599cc3"
      },
      "outputs": [
        {
          "data": {
            "text/plain": [
              "SVR(kernel='linear')"
            ]
          },
          "execution_count": 186,
          "metadata": {},
          "output_type": "execute_result"
        }
      ],
      "source": [
        "from sklearn import svm\n",
        "vector_regression = svm.SVR(kernel='linear')\n",
        "vector_regression.fit(tokenized_train_x, train_y)"
      ]
    },
    {
      "cell_type": "code",
      "execution_count": 188,
      "metadata": {
        "id": "_x1IY6WttBUq"
      },
      "outputs": [],
      "source": [
        "tokenized_test_x = bert_transformer.transform(test_x)"
      ]
    },
    {
      "cell_type": "code",
      "execution_count": 190,
      "metadata": {
        "id": "cyoXFG1ufdcj"
      },
      "outputs": [],
      "source": [
        "result = vector_regression.predict(tokenized_test_x)"
      ]
    },
    {
      "cell_type": "code",
      "execution_count": 192,
      "metadata": {
        "colab": {
          "base_uri": "https://localhost:8080/"
        },
        "id": "riFK0sXNmXyT",
        "outputId": "11b6d233-1ba0-4572-d9a1-ca2613ff890b"
      },
      "outputs": [
        {
          "name": "stdout",
          "output_type": "stream",
          "text": [
            "(0.2554124793514868, 0.012020422940074915)\n"
          ]
        }
      ],
      "source": [
        "from scipy import stats\n",
        "print(stats.pearsonr(result, test_y))"
      ]
    },
    {
      "cell_type": "code",
      "execution_count": 193,
      "metadata": {
        "colab": {
          "base_uri": "https://localhost:8080/",
          "height": 281
        },
        "id": "zxRB73NY3E-U",
        "outputId": "3c16ac39-4f1a-413c-c5b7-8a7cb03e451b"
      },
      "outputs": [
        {
          "data": {
            "image/png": "[encoded data removed]",
            "text/plain": [
              "<Figure size 432x288 with 1 Axes>"
            ]
          },
          "metadata": {
            "needs_background": "light"
          },
          "output_type": "display_data"
        }
      ],
      "source": [
        "import matplotlib.pyplot as plt\n",
        "\n",
        "plt.plot(range(96), result, label=\"Prediction\")\n",
        "plt.plot(range(96), test_y, label='True data')\n",
        "plt.legend(loc='upper right')\n",
        "plt.title('Prediction vs real data')\n",
        "plt.show()"
      ]
    }
  ],
  "metadata": {
    "accelerator": "GPU",
    "colab": {
      "provenance": [],
      "toc_visible": true
    },
    "gpuClass": "standard",
    "kernelspec": {
      "display_name": "Python 3.10.3 64-bit",
      "language": "python",
      "name": "python3"
    },
    "language_info": {
      "codemirror_mode": {
        "name": "ipython",
        "version": 3
      },
      "file_extension": ".py",
      "mimetype": "text/x-python",
      "name": "python",
      "nbconvert_exporter": "python",
      "pygments_lexer": "ipython3",
      "version": "3.10.3"
    },
    "vscode": {
      "interpreter": {
        "hash": "8c3d4d9970fc5c09c50d9318a9c7fbf4d0159e4b28833276f5678ee22bded273"
      }
    }
  },
  "nbformat": 4,
  "nbformat_minor": 0
}
