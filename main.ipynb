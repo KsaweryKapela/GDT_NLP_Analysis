{
 "cells": [
  {
   "cell_type": "code",
   "execution_count": 129,
   "metadata": {},
   "outputs": [],
   "source": [
    "import numpy as np\n",
    "import pandas as pd\n",
    "import matplotlib.pyplot as plt\n",
    "import tensorflow as tf\n",
    "import time\n",
    "from scipy import stats"
   ]
  },
  {
   "cell_type": "code",
   "execution_count": 130,
   "metadata": {},
   "outputs": [
    {
     "name": "stderr",
     "output_type": "stream",
     "text": [
      "Some weights of the model checkpoint at allegro/herbert-base-cased were not used when initializing BertModel: ['cls.predictions.decoder.weight', 'cls.sso.sso_relationship.weight', 'cls.predictions.transform.LayerNorm.bias', 'cls.predictions.bias', 'cls.predictions.transform.dense.bias', 'cls.predictions.transform.dense.weight', 'cls.predictions.transform.LayerNorm.weight', 'cls.sso.sso_relationship.bias', 'cls.predictions.decoder.bias']\n",
      "- This IS expected if you are initializing BertModel from the checkpoint of a model trained on another task or with another architecture (e.g. initializing a BertForSequenceClassification model from a BertForPreTraining model).\n",
      "- This IS NOT expected if you are initializing BertModel from the checkpoint of a model that you expect to be exactly identical (initializing a BertForSequenceClassification model from a BertForSequenceClassification model).\n"
     ]
    }
   ],
   "source": [
    "from transformers import AutoTokenizer, AutoModel\n",
    "\n",
    "tokenizer = AutoTokenizer.from_pretrained('allegro/herbert-base-cased')\n",
    "bert_model = AutoModel.from_pretrained(\"allegro/herbert-base-cased\") "
   ]
  },
  {
   "cell_type": "code",
   "execution_count": 131,
   "metadata": {},
   "outputs": [],
   "source": [
    "from bert_transformer import BertTransformer\n",
    "\n",
    "bert_transformer = BertTransformer(tokenizer, bert_model, max_length=60)\n"
   ]
  },
  {
   "cell_type": "code",
   "execution_count": 132,
   "metadata": {},
   "outputs": [],
   "source": [
    "X_string = 'nlp_3', # TUPLE\n",
    "Y_string = 'GDT_score'\n",
    "DATASET = 'NLP_CLEAN.xlsx'"
   ]
  },
  {
   "cell_type": "code",
   "execution_count": 133,
   "metadata": {},
   "outputs": [
    {
     "name": "stdout",
     "output_type": "stream",
     "text": [
      "468\n",
      "460\n",
      "449\n",
      "433\n"
     ]
    }
   ],
   "source": [
    "df = pd.read_excel(io=DATASET)\n",
    "df = df[df['time'] > 300]\n",
    "df = df[df['label'] != 1]\n",
    "# df = df[df['age'] > 30]\n",
    "# df = df[df['is_male'] == 1]\n",
    "\n",
    "for item in [f'nlp_{i}' for i in range(2, 6)]:\n",
    "    df = df[df[item].apply(lambda x: len(x) > 10)]\n",
    "    print(len(df))\n",
    "\n",
    "df = df.reset_index()"
   ]
  },
  {
   "cell_type": "code",
   "execution_count": 134,
   "metadata": {},
   "outputs": [
    {
     "name": "stdout",
     "output_type": "stream",
     "text": [
      "nlp_2 added to list\n"
     ]
    },
    {
     "data": {
      "text/plain": [
       "(433, 768)"
      ]
     },
     "execution_count": 134,
     "metadata": {},
     "output_type": "execute_result"
    }
   ],
   "source": [
    "all_x = []\n",
    "\n",
    "for item in X_string:\n",
    "\n",
    "    item_processed = bert_transformer.transform(list(df[item]))\n",
    "    all_x.append(item_processed)\n",
    "    print(f'{item} added to list')\n",
    "    time.sleep(0.5)\n",
    "\n",
    "all_x = tuple(all_x)\n",
    "X = np.hstack(all_x)\n",
    "\n",
    "y = df[Y_string].values\n",
    "X.shape\n"
   ]
  },
  {
   "cell_type": "code",
   "execution_count": 135,
   "metadata": {},
   "outputs": [
    {
     "name": "stdout",
     "output_type": "stream",
     "text": [
      "95\n",
      "94\n",
      "92\n",
      "91\n"
     ]
    }
   ],
   "source": [
    "pilot_df = pd.read_excel('NLP_PILOT.XLSX')\n",
    "\n",
    "for item in [f'nlp_{i}' for i in range(2, 6)]:\n",
    "    pilot_df = pilot_df[pilot_df[item].apply(lambda x: len(x) > 10)]\n",
    "    print(len(pilot_df))\n",
    "\n",
    "pilot_df = pilot_df.reset_index()"
   ]
  },
  {
   "cell_type": "code",
   "execution_count": 136,
   "metadata": {},
   "outputs": [
    {
     "name": "stdout",
     "output_type": "stream",
     "text": [
      "nlp_2 added to list\n"
     ]
    },
    {
     "data": {
      "text/plain": [
       "(91, 768)"
      ]
     },
     "execution_count": 136,
     "metadata": {},
     "output_type": "execute_result"
    }
   ],
   "source": [
    "pilot_X = []\n",
    "\n",
    "for item in X_string:\n",
    "\n",
    "    item_processed = bert_transformer.transform(list(pilot_df[item]))\n",
    "    pilot_X.append(item_processed)\n",
    "    print(f'{item} added to list')\n",
    "    time.sleep(0.5)\n",
    "\n",
    "pilot_X = tuple(pilot_X)\n",
    "pilot_X = np.hstack(pilot_X)\n",
    "\n",
    "pilot_Y = pilot_df[Y_string].values\n",
    "pilot_X.shape"
   ]
  },
  {
   "cell_type": "code",
   "execution_count": 137,
   "metadata": {},
   "outputs": [],
   "source": [
    "from sklearn.model_selection import KFold\n",
    "from sklearn.metrics import mean_absolute_error, mean_squared_error\n",
    "from sklearn.utils import class_weight\n",
    "\n",
    "kfold = KFold(n_splits=10, shuffle=True, random_state=1)"
   ]
  },
  {
   "cell_type": "code",
   "execution_count": 138,
   "metadata": {},
   "outputs": [
    {
     "name": "stdout",
     "output_type": "stream",
     "text": [
      "2/2 [==============================] - 0s 0s/step\n",
      "PearsonRResult(statistic=0.1991116481297339, pvalue=0.19506022770517495)\n",
      "PearsonRResult(statistic=0.1991116481297339, pvalue=0.19506022770517495)\n",
      "2/2 [==============================] - 0s 0s/step\n",
      "PearsonRResult(statistic=0.2089970480300248, pvalue=0.17335260636875235)\n",
      "PearsonRResult(statistic=0.15085725018627172, pvalue=0.16062417368005236)\n",
      "2/2 [==============================] - 0s 8ms/step\n",
      "PearsonRResult(statistic=0.42204507513132233, pvalue=0.004322836360073068)\n",
      "PearsonRResult(statistic=0.22081190829446048, pvalue=0.01094992100741727)\n",
      "2/2 [==============================] - 0s 8ms/step\n",
      "PearsonRResult(statistic=0.45196097983000033, pvalue=0.002346130222443953)\n",
      "PearsonRResult(statistic=0.2747541002772908, pvalue=0.0002335264660751233)\n",
      "2/2 [==============================] - 0s 8ms/step\n",
      "PearsonRResult(statistic=0.3122210611349695, pvalue=0.04151904823148189)\n",
      "PearsonRResult(statistic=0.2841368289397858, pvalue=2.0513455348537747e-05)\n",
      "2/2 [==============================] - 0s 10ms/step\n",
      "PearsonRResult(statistic=0.31854478574493345, pvalue=0.037355128364717174)\n",
      "PearsonRResult(statistic=0.2905718272527477, pvalue=1.7950269579079378e-06)\n",
      "2/2 [==============================] - 0s 8ms/step\n",
      "PearsonRResult(statistic=0.0714304108616566, pvalue=0.648979499231828)\n",
      "PearsonRResult(statistic=0.26097309135682145, pvalue=3.995070438996037e-06)\n",
      "2/2 [==============================] - 0s 0s/step\n",
      "PearsonRResult(statistic=0.35072163723452277, pvalue=0.0211190704824663)\n",
      "PearsonRResult(statistic=0.26750686212690544, pvalue=4.2459451507163563e-07)\n",
      "2/2 [==============================] - 0s 0s/step\n",
      "PearsonRResult(statistic=0.07832948916341642, pvalue=0.6175866642021541)\n",
      "PearsonRResult(statistic=0.26316069801531106, pvalue=1.337989330590468e-07)\n",
      "2/2 [==============================] - 0s 0s/step\n",
      "PearsonRResult(statistic=0.4309885678755618, pvalue=0.003910946513433642)\n",
      "PearsonRResult(statistic=0.27341726289057855, pvalue=7.313335540005231e-09)\n"
     ]
    }
   ],
   "source": [
    "true_data = []\n",
    "keras_results = []\n",
    "\n",
    "for train_index, test_index in kfold.split(X):\n",
    "    X_train, X_test = X[train_index], X[test_index]\n",
    "    y_train, y_test = y[train_index], y[test_index]\n",
    "\n",
    "\n",
    "    model = tf.keras.Sequential([\n",
    "                            # tf.keras.layers.LSTM(64, input_shape=(3072, 1)),\n",
    "\n",
    "                            # tf.keras.layers.Conv1D(32, (3,), activation='relu', input_shape=(3072, 1)),\n",
    "                            # tf.keras.layers.MaxPooling1D(),\n",
    "                            # tf.keras.layers.Flatten(),\n",
    "                            # tf.keras.layers.Dense(units=1)\n",
    "\n",
    "\n",
    "                            # tf.keras.layers.Conv1D(64, (3,), activation='sigmoid', input_shape=(3072, 1)),\n",
    "\n",
    "\n",
    "                            tf.keras.layers.Dense(64, activation='sigmoid',\n",
    "                                                  kernel_regularizer=tf.keras.regularizers.l2(0.1),),\n",
    "                            tf.keras.layers.Dropout(0.1),\n",
    "                            tf.keras.layers.Dense(64, activation='relu'),\n",
    "                            tf.keras.layers.Flatten(),\n",
    "                            tf.keras.layers.Dense(units=1)\n",
    "                            ])\n",
    "\n",
    "\n",
    "    model.compile(optimizer=tf.keras.optimizers.SGD(learning_rate=0.001, momentum=0.9), loss='mean_absolute_error')\n",
    "\n",
    "    model.fit(X_train, y_train, batch_size=64, epochs=200, verbose=0)\n",
    "    result = model.predict(X_test)\n",
    "\n",
    "    result = [float(item) for item in result]\n",
    "    keras_results = np.concatenate((keras_results, result))\n",
    "    true_data = np.concatenate((true_data, y_test))\n",
    "\n",
    "    print(stats.pearsonr(result, y_test))\n",
    "    print(stats.pearsonr(keras_results, true_data))\n"
   ]
  },
  {
   "cell_type": "code",
   "execution_count": 152,
   "metadata": {},
   "outputs": [
    {
     "data": {
      "text/plain": [
       "PearsonRResult(statistic=0.2568824072304303, pvalue=5.921318199949357e-08)"
      ]
     },
     "execution_count": 152,
     "metadata": {},
     "output_type": "execute_result"
    }
   ],
   "source": [
    "from sklearn import svm\n",
    "\n",
    "SVR_function = svm.SVR(kernel='poly', C=1.2, tol=1e-3)\n",
    "# SVR_function = svm.SVR(kernel='poly', degree=8, C=4.9)\n",
    "\n",
    "svr_results = []\n",
    "\n",
    "\n",
    "for train_index, test_index in kfold.split(X):\n",
    "\n",
    "    X_train, X_test = X[train_index], X[test_index]\n",
    "    y_train, y_test = y[train_index], y[test_index]\n",
    "\n",
    "   \n",
    "    vector_regression = SVR_function\n",
    "    vector_regression.fit(X_train, y_train)\n",
    "    svr_result = vector_regression.predict(X_test)\n",
    "\n",
    "    svr_results = np.concatenate((svr_results, svr_result))\n",
    "\n",
    "stats.pearsonr(svr_results, true_data)"
   ]
  },
  {
   "cell_type": "code",
   "execution_count": 153,
   "metadata": {},
   "outputs": [
    {
     "data": {
      "image/png": "[encoded data removed]",
      "text/plain": [
       "<Figure size 432x288 with 1 Axes>"
      ]
     },
     "metadata": {
      "needs_background": "light"
     },
     "output_type": "display_data"
    },
    {
     "name": "stdout",
     "output_type": "stream",
     "text": [
      "PearsonRResult(statistic=0.2772025598921432, pvalue=4.440174682357064e-09)\n"
     ]
    }
   ],
   "source": [
    "#WHOLE DATASET\n",
    "\n",
    "connected_results = [(p_1 + p_2) / 2 for p_1, p_2 in zip(svr_results, keras_results)]\n",
    "\n",
    "changed_connected_results = [item if item >= 4 else 4 for item in connected_results]\n",
    "changed_results = [item if item <= 20 else 20 for item in changed_connected_results]\n",
    "\n",
    "answers_tuples = [(y, res) for y, res in zip(true_data, changed_results)]\n",
    "sorted_tuples = sorted(answers_tuples, key=lambda x: x[0])\n",
    "\n",
    "sorted_true_data = [x[0] for x in sorted_tuples]\n",
    "sorted_results = [x[1] for x in sorted_tuples]\n",
    "\n",
    "rounded_connected_results = [round(int(item)) for item in sorted_results]\n",
    "\n",
    "plt.plot(range(len(rounded_connected_results)), rounded_connected_results, 'o', color=[1, 0, 0, 0.7], label=\"Prediction\")\n",
    "plt.plot(range(len(sorted_true_data)), sorted_true_data, 'o', color=[0, 1, 0, 0.1], label='Observable data')\n",
    "plt.legend(loc='upper left')\n",
    "plt.title('Connected predictions vs real data | K-fold')\n",
    "plt.show()\n",
    "\n",
    "print(stats.pearsonr(connected_results, true_data))"
   ]
  },
  {
   "cell_type": "code",
   "execution_count": 154,
   "metadata": {},
   "outputs": [
    {
     "data": {
      "text/plain": [
       "<keras.callbacks.History at 0x248117b7250>"
      ]
     },
     "execution_count": 154,
     "metadata": {},
     "output_type": "execute_result"
    }
   ],
   "source": [
    "# Using model to predict pilot data\n",
    "\n",
    "model = tf.keras.Sequential([\n",
    "                        # tf.keras.layers.LSTM(64, input_shape=(None, 1)),\n",
    "                        # tf.keras.layers.Conv1D(32, (3,), activation='relu', input_shape=(3072, 1)),\n",
    "                        # tf.keras.layers.MaxPooling1D(),\n",
    "                        # tf.keras.layers.Flatten(),\n",
    "                        tf.keras.layers.Dense(64, activation='sigmoid', kernel_regularizer=tf.keras.regularizers.l2(0.01)),\n",
    "                        tf.keras.layers.Dense(32, activation='relu'),\n",
    "                        tf.keras.layers.Flatten(),\n",
    "                        tf.keras.layers.Dense(units=1)\n",
    "                        ])\n",
    "                        \n",
    "model.compile(optimizer=tf.keras.optimizers.Adam(learning_rate=0.001), loss='mean_absolute_error')\n",
    "model.fit(X, y, batch_size=64, epochs=100, verbose=0)"
   ]
  },
  {
   "cell_type": "code",
   "execution_count": 155,
   "metadata": {},
   "outputs": [
    {
     "name": "stdout",
     "output_type": "stream",
     "text": [
      "3/3 [==============================] - 0s 0s/step\n"
     ]
    },
    {
     "data": {
      "image/png": "[encoded data removed]",
      "text/plain": [
       "<Figure size 432x288 with 1 Axes>"
      ]
     },
     "metadata": {
      "needs_background": "light"
     },
     "output_type": "display_data"
    }
   ],
   "source": [
    "keras_pilot_prediction = model.predict(pilot_X)\n",
    "keras_pilot_prediction = [float(item) for item in keras_pilot_prediction]\n",
    "keras_pilot_results = [item if item >= 4 else 4 for item in keras_pilot_prediction]\n",
    "keras_pilot_results = [item if item <= 20 else 20 for item in keras_pilot_results]\n",
    "\n",
    "answers_tuples = [(y, res) for y, res in zip(pilot_Y, keras_pilot_results)]\n",
    "sorted_tuples = sorted(answers_tuples, key=lambda x: x[0])\n",
    "\n",
    "test_y = [x[0] for x in sorted_tuples]\n",
    "keras_pilot_changed = [x[1] for x in sorted_tuples]\n",
    "\n",
    "keras_pilot_rounded = [round(int(item)) for item in keras_pilot_changed]\n",
    "\n",
    "plt.plot(range(len(keras_pilot_rounded)), keras_pilot_rounded, 'o', color=[1, 0, 0, 0.7], label=\"Keras prediction\")\n",
    "plt.plot(range(len(test_y)), test_y, 'o', color=[0, 1, 0, 0.3], label='Pilot data')\n",
    "plt.legend(loc='upper left')\n",
    "plt.title('Keras prediction vs real data | Pilot data')\n",
    "plt.show()"
   ]
  },
  {
   "cell_type": "code",
   "execution_count": 156,
   "metadata": {},
   "outputs": [],
   "source": [
    "svr_pilot_prediction = SVR_function.predict(pilot_X)\n",
    "svr_pilot_results = [item if item >= 4 else 4 for item in svr_pilot_prediction]\n",
    "svr_pilot_results = [item if item <= 20 else 20 for item in svr_pilot_results]"
   ]
  },
  {
   "cell_type": "code",
   "execution_count": 157,
   "metadata": {},
   "outputs": [],
   "source": [
    "CONNECTED_K_FOLD = stats.pearsonr(connected_results, true_data)\n",
    "CONNECTED_K_FOLD_MAE = round(mean_absolute_error(true_data, connected_results), 2)\n",
    "\n",
    "KERAS_K_FOLD = stats.pearsonr(keras_results, true_data)\n",
    "KERAS_K_FOLD_MAE = round(mean_absolute_error(true_data, keras_results), 2)\n",
    "\n",
    "SVR_K_FOLD = stats.pearsonr(svr_results, true_data)\n",
    "SVR_K_FOLD_MAE = round(mean_absolute_error(true_data, svr_results), 2)\n",
    "\n",
    "connected_pilot_results = [(p_1 + p_2) / 2 for p_1, p_2 in zip(svr_pilot_results, keras_pilot_results)]\n",
    "\n",
    "CONNECTED_EVAL = stats.pearsonr(connected_pilot_results, pilot_Y)\n",
    "CONNECTED_EVAL_MAE = round(mean_absolute_error(connected_pilot_results, pilot_Y), 2)\n",
    "\n",
    "KERAS_EVAL = stats.pearsonr(keras_pilot_results, pilot_Y)\n",
    "KERAS_EVAL_MAE = round(mean_absolute_error(keras_pilot_results, pilot_Y), 2)\n",
    "\n",
    "SVR_EVAL = stats.pearsonr(svr_pilot_results, pilot_Y)\n",
    "SVR_EVAL_MAE = round(mean_absolute_error(svr_pilot_results, pilot_Y), 2)\n",
    "\n",
    "SVR_C = SVR_function.C"
   ]
  },
  {
   "cell_type": "code",
   "execution_count": 159,
   "metadata": {},
   "outputs": [],
   "source": [
    "from openpyxl.workbook import Workbook\n",
    "from openpyxl import load_workbook\n",
    "\n",
    "\n",
    "workbook_name = 'results.xlsx'\n",
    "wb = load_workbook(workbook_name)\n",
    "ws = wb.active\n",
    "\n",
    "i = ws.max_row + 1\n",
    "ws[f'A{i}'] = str(X_string)\n",
    "ws[f'B{i}'] = SVR_C\n",
    "ws[f'C{i}'] = f'{round(SVR_K_FOLD[0], 4)} ({round(SVR_K_FOLD[1], 4)})'\n",
    "ws[f'D{i}'] = SVR_K_FOLD_MAE\n",
    "ws[f'E{i}'] = f'{round(KERAS_K_FOLD[0], 4)} ({round(KERAS_K_FOLD[1], 4)})'\n",
    "ws[f'F{i}'] = KERAS_K_FOLD_MAE\n",
    "ws[f'G{i}'] = f'{round(CONNECTED_K_FOLD[0], 4)} ({round(CONNECTED_K_FOLD[1], 4)})'\n",
    "ws[f'H{i}'] = CONNECTED_K_FOLD_MAE\n",
    "ws[f'I{i}'] = f'{round(SVR_EVAL[0], 4)} ({round(SVR_EVAL[1], 4)})'\n",
    "ws[f'J{i}'] = SVR_EVAL_MAE\n",
    "ws[f'K{i}'] = f'{round(KERAS_EVAL[0], 4)} ({round(KERAS_EVAL[1], 4)})'\n",
    "ws[f'L{i}'] = KERAS_EVAL_MAE\n",
    "ws[f'M{i}'] = f'{round(CONNECTED_EVAL[0], 4)} ({round(CONNECTED_EVAL[1], 4)})'\n",
    "ws[f'N{i}'] = CONNECTED_EVAL_MAE\n",
    "\n",
    "wb.save(\"results.xlsx\")"
   ]
  }
 ],
 "metadata": {
  "kernelspec": {
   "display_name": "Python 3",
   "language": "python",
   "name": "python3"
  },
  "language_info": {
   "codemirror_mode": {
    "name": "ipython",
    "version": 3
   },
   "file_extension": ".py",
   "mimetype": "text/x-python",
   "name": "python",
   "nbconvert_exporter": "python",
   "pygments_lexer": "ipython3",
   "version": "3.10.3"
  },
  "orig_nbformat": 4,
  "vscode": {
   "interpreter": {
    "hash": "8c3d4d9970fc5c09c50d9318a9c7fbf4d0159e4b28833276f5678ee22bded273"
   }
  }
 },
 "nbformat": 4,
 "nbformat_minor": 2
}
