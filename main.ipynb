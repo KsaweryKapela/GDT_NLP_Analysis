{
 "cells": [
  {
   "cell_type": "code",
   "execution_count": 122,
   "metadata": {},
   "outputs": [],
   "source": [
    "import numpy as np\n",
    "import pandas as pd\n",
    "import matplotlib.pyplot as plt\n",
    "import time\n",
    "from scipy import stats"
   ]
  },
  {
   "cell_type": "code",
   "execution_count": 123,
   "metadata": {},
   "outputs": [
    {
     "name": "stderr",
     "output_type": "stream",
     "text": [
      "Some weights of the model checkpoint at allegro/herbert-base-cased were not used when initializing BertModel: ['cls.sso.sso_relationship.weight', 'cls.predictions.transform.dense.weight', 'cls.predictions.bias', 'cls.predictions.transform.LayerNorm.weight', 'cls.predictions.transform.LayerNorm.bias', 'cls.predictions.decoder.bias', 'cls.predictions.decoder.weight', 'cls.predictions.transform.dense.bias', 'cls.sso.sso_relationship.bias']\n",
      "- This IS expected if you are initializing BertModel from the checkpoint of a model trained on another task or with another architecture (e.g. initializing a BertForSequenceClassification model from a BertForPreTraining model).\n",
      "- This IS NOT expected if you are initializing BertModel from the checkpoint of a model that you expect to be exactly identical (initializing a BertForSequenceClassification model from a BertForSequenceClassification model).\n"
     ]
    }
   ],
   "source": [
    "from transformers import AutoTokenizer, AutoModel\n",
    "\n",
    "tokenizer = AutoTokenizer.from_pretrained('allegro/herbert-base-cased')\n",
    "bert_model = AutoModel.from_pretrained(\"allegro/herbert-base-cased\") "
   ]
  },
  {
   "cell_type": "code",
   "execution_count": 124,
   "metadata": {},
   "outputs": [],
   "source": [
    "from bert_transformer import BertTransformer\n",
    "\n",
    "bert_transformer = BertTransformer(tokenizer, bert_model, max_length=60)"
   ]
  },
  {
   "cell_type": "code",
   "execution_count": 125,
   "metadata": {},
   "outputs": [],
   "source": [
    "X_string = 'nlp_2', 'nlp_3', 'nlp_4', 'nlp_5'\n",
    "Y_string = 'GDT_score'\n",
    "DATASET = 'NLP_CLEAN.xlsx'"
   ]
  },
  {
   "cell_type": "code",
   "execution_count": 126,
   "metadata": {},
   "outputs": [],
   "source": [
    "def del_short_responses(df):\n",
    "    print(len(df))\n",
    "\n",
    "    for item in [f'nlp_{i}' for i in range(2, 6)]:\n",
    "        df = df[df[item].apply(lambda x: len(x) > 10)]\n",
    "        print(len(df))\n",
    "\n",
    "    return df"
   ]
  },
  {
   "cell_type": "code",
   "execution_count": 127,
   "metadata": {},
   "outputs": [
    {
     "name": "stdout",
     "output_type": "stream",
     "text": [
      "522\n",
      "469\n",
      "468\n",
      "460\n",
      "449\n",
      "433\n"
     ]
    }
   ],
   "source": [
    "df = pd.read_excel(io=DATASET)\n",
    "print(len(df))\n",
    "df = df[df['time'] > 300]\n",
    "df = df[df['label'] != 1]\n",
    "df = del_short_responses(df)"
   ]
  },
  {
   "cell_type": "code",
   "execution_count": 128,
   "metadata": {},
   "outputs": [
    {
     "name": "stdout",
     "output_type": "stream",
     "text": [
      "95\n",
      "95\n",
      "94\n",
      "92\n",
      "91\n"
     ]
    }
   ],
   "source": [
    "df_pilot = pd.read_excel('NLP_PILOT.XLSX')\n",
    "df_pilot = del_short_responses(df_pilot)"
   ]
  },
  {
   "cell_type": "code",
   "execution_count": 129,
   "metadata": {},
   "outputs": [],
   "source": [
    "def transform_and_stack(df, arguments=X_string, transformer=bert_transformer):\n",
    "    tokenized_X_list = []\n",
    "\n",
    "    for item in arguments:\n",
    "\n",
    "        item_processed = transformer.transform(list(df[item]))\n",
    "        tokenized_X_list.append(item_processed)\n",
    "        print(f'{item} added to list')\n",
    "        time.sleep(0.5)\n",
    "\n",
    "    tokized_X_tuple = tuple(tokenized_X_list)\n",
    "\n",
    "    X = np.hstack(tokized_X_tuple)\n",
    "    y = df[Y_string].values\n",
    "    return X, y"
   ]
  },
  {
   "cell_type": "code",
   "execution_count": 130,
   "metadata": {},
   "outputs": [
    {
     "name": "stdout",
     "output_type": "stream",
     "text": [
      "nlp_5 added to list\n"
     ]
    }
   ],
   "source": [
    "X_main, y_main = transform_and_stack(df)"
   ]
  },
  {
   "cell_type": "code",
   "execution_count": 131,
   "metadata": {},
   "outputs": [
    {
     "name": "stdout",
     "output_type": "stream",
     "text": [
      "nlp_5 added to list\n"
     ]
    }
   ],
   "source": [
    "X_pilot, y_pilot = transform_and_stack(df_pilot)"
   ]
  },
  {
   "cell_type": "code",
   "execution_count": 132,
   "metadata": {},
   "outputs": [],
   "source": [
    "from sklearn.model_selection import KFold\n",
    "from sklearn.metrics import mean_absolute_error\n",
    "\n",
    "kfold = KFold(n_splits=10, shuffle=True, random_state=8)"
   ]
  },
  {
   "cell_type": "code",
   "execution_count": 145,
   "metadata": {},
   "outputs": [
    {
     "data": {
      "text/plain": [
       "PearsonRResult(statistic=0.4405140312680437, pvalue=5.56559075162059e-22)"
      ]
     },
     "execution_count": 145,
     "metadata": {},
     "output_type": "execute_result"
    }
   ],
   "source": [
    "from sklearn import svm\n",
    "\n",
    "SVR_function = svm.SVR(kernel='linear', C=0.018, tol=1e-3)\n",
    "\n",
    "y_main_true = []\n",
    "SVR_predictions = []\n",
    "\n",
    "\n",
    "for train_index, test_index in kfold.split(X_main):\n",
    "\n",
    "    X_train, X_test = X_main[train_index], X_main[test_index]\n",
    "    y_train, y_test = y_main[train_index], y_main[test_index]\n",
    "\n",
    "    vector_regression = SVR_function\n",
    "    vector_regression.fit(X_train, y_train)\n",
    "    SVR_prediction = vector_regression.predict(X_test)\n",
    "    SVR_predictions = np.concatenate((SVR_predictions, SVR_prediction))\n",
    "\n",
    "    y_main_true = np.concatenate((y_main_true, y_test))\n",
    "\n",
    "stats.pearsonr(SVR_predictions, y_main_true)"
   ]
  },
  {
   "cell_type": "code",
   "execution_count": 146,
   "metadata": {},
   "outputs": [],
   "source": [
    "def present_results(prediction, true_values):\n",
    "    prediction = [item if item >= 4 else 4 for item in prediction]\n",
    "    prediction = [item if item <= 20 else 20 for item in prediction]\n",
    "\n",
    "    answers_tuples = [(y, res) for y, res in zip(true_values, prediction)]\n",
    "    sorted_tuples = sorted(answers_tuples, key=lambda x: x[0])\n",
    "\n",
    "    sorted_results = [x[1] for x in sorted_tuples]\n",
    "\n",
    "    true_values = [x[0] for x in sorted_tuples]\n",
    "    prediction = [round(int(item)) for item in sorted_results]\n",
    "\n",
    "    plt.figure(figsize=(10, 7))\n",
    "    plt.plot(range(len(prediction)), prediction, 'o', color=[1, 0, 0, 0.7], label=\"Prediction\")\n",
    "    plt.plot(range(len(true_values)), true_values, 'o', color=[0, 1, 0, 0.5], label='Observable data')\n",
    "    plt.legend(loc='upper left')\n",
    "    plt.title('Connected predictions vs real data')\n",
    "    plt.show()\n",
    "    \n",
    "    print(f'MAE: {mean_absolute_error(prediction, true_values)}')\n",
    "    print(stats.pearsonr(prediction, true_values))"
   ]
  },
  {
   "cell_type": "code",
   "execution_count": 147,
   "metadata": {},
   "outputs": [
    {
     "data": {
      "image/png": "[encoded data removed]",
      "text/plain": [
       "<Figure size 720x504 with 1 Axes>"
      ]
     },
     "metadata": {
      "needs_background": "light"
     },
     "output_type": "display_data"
    },
    {
     "name": "stdout",
     "output_type": "stream",
     "text": [
      "MAE: 2.4942263279445727\n",
      "PearsonRResult(statistic=0.430989638853276, pvalue=5.173121262002968e-21)\n"
     ]
    }
   ],
   "source": [
    "present_results(SVR_predictions, y_main_true)"
   ]
  },
  {
   "cell_type": "code",
   "execution_count": 148,
   "metadata": {},
   "outputs": [
    {
     "data": {
      "text/plain": [
       "PearsonRResult(statistic=0.2768160174699566, pvalue=0.00790096578471985)"
      ]
     },
     "execution_count": 148,
     "metadata": {},
     "output_type": "execute_result"
    }
   ],
   "source": [
    "SVR_pilot_predictions = SVR_function.predict(X_pilot)\n",
    "stats.pearsonr(SVR_pilot_predictions, y_pilot)"
   ]
  },
  {
   "cell_type": "code",
   "execution_count": 149,
   "metadata": {},
   "outputs": [
    {
     "data": {
      "image/png": "[encoded data removed]",
      "text/plain": [
       "<Figure size 720x504 with 1 Axes>"
      ]
     },
     "metadata": {
      "needs_background": "light"
     },
     "output_type": "display_data"
    },
    {
     "name": "stdout",
     "output_type": "stream",
     "text": [
      "MAE: 3.0\n",
      "PearsonRResult(statistic=0.28408414700935936, pvalue=0.00635276261573187)\n"
     ]
    }
   ],
   "source": [
    "present_results(SVR_pilot_predictions, y_pilot)"
   ]
  }
 ],
 "metadata": {
  "kernelspec": {
   "display_name": "Python 3",
   "language": "python",
   "name": "python3"
  },
  "language_info": {
   "codemirror_mode": {
    "name": "ipython",
    "version": 3
   },
   "file_extension": ".py",
   "mimetype": "text/x-python",
   "name": "python",
   "nbconvert_exporter": "python",
   "pygments_lexer": "ipython3",
   "version": "3.10.3"
  },
  "orig_nbformat": 4,
  "vscode": {
   "interpreter": {
    "hash": "8c3d4d9970fc5c09c50d9318a9c7fbf4d0159e4b28833276f5678ee22bded273"
   }
  }
 },
 "nbformat": 4,
 "nbformat_minor": 2
}
