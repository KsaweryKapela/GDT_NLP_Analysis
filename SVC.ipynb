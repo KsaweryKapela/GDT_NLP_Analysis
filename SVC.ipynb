{
 "cells": [
  {
   "cell_type": "code",
   "execution_count": 12,
   "metadata": {},
   "outputs": [],
   "source": [
    "import numpy as np\n",
    "import pandas as pd\n",
    "import matplotlib.pyplot as plt\n",
    "import time\n",
    "from scipy import stats\n",
    "from sklearn import svm"
   ]
  },
  {
   "cell_type": "code",
   "execution_count": 13,
   "metadata": {},
   "outputs": [
    {
     "name": "stderr",
     "output_type": "stream",
     "text": [
      "c:\\Users\\Lenovo\\AppData\\Local\\Programs\\Python\\Python310\\lib\\site-packages\\tqdm\\auto.py:22: TqdmWarning: IProgress not found. Please update jupyter and ipywidgets. See https://ipywidgets.readthedocs.io/en/stable/user_install.html\n",
      "  from .autonotebook import tqdm as notebook_tqdm\n",
      "Some weights of the model checkpoint at allegro/herbert-base-cased were not used when initializing BertModel: ['cls.predictions.transform.dense.bias', 'cls.sso.sso_relationship.weight', 'cls.predictions.transform.LayerNorm.bias', 'cls.predictions.transform.LayerNorm.weight', 'cls.sso.sso_relationship.bias', 'cls.predictions.bias', 'cls.predictions.transform.dense.weight', 'cls.predictions.decoder.bias', 'cls.predictions.decoder.weight']\n",
      "- This IS expected if you are initializing BertModel from the checkpoint of a model trained on another task or with another architecture (e.g. initializing a BertForSequenceClassification model from a BertForPreTraining model).\n",
      "- This IS NOT expected if you are initializing BertModel from the checkpoint of a model that you expect to be exactly identical (initializing a BertForSequenceClassification model from a BertForSequenceClassification model).\n"
     ]
    }
   ],
   "source": [
    "from transformers import AutoTokenizer, AutoModel\n",
    "from bert_transformer import BertTransformer\n",
    "\n",
    "tokenizer = AutoTokenizer.from_pretrained('allegro/herbert-base-cased')\n",
    "bert_model = AutoModel.from_pretrained(\"allegro/herbert-base-cased\") "
   ]
  },
  {
   "cell_type": "code",
   "execution_count": 14,
   "metadata": {},
   "outputs": [],
   "source": [
    "X_string = 'nlp_3', #tuple\n",
    "Y_string = 'GDT_score'\n",
    "DATASET = 'NLP_FULLSTOPS.xlsx'"
   ]
  },
  {
   "cell_type": "code",
   "execution_count": 15,
   "metadata": {},
   "outputs": [],
   "source": [
    "df = pd.read_excel(io=DATASET)\n",
    "\n",
    "# df = df[df['time'] > 300]\n",
    "# df = df.reset_index()\n",
    "\n",
    "bert_transformer = BertTransformer(tokenizer, bert_model, max_length=60)"
   ]
  },
  {
   "cell_type": "code",
   "execution_count": 16,
   "metadata": {},
   "outputs": [],
   "source": [
    "y = []\n",
    "\n",
    "for i in range(len(df)):\n",
    "    if df['GDT_score'][i] in range(4, 8):\n",
    "        y.append(0)\n",
    "    elif df['GDT_score'][i] in range(8, 12):\n",
    "        y.append(1)\n",
    "    elif df['GDT_score'][i] in range(12, 16):\n",
    "        y.append(2)\n",
    "    elif df['GDT_score'][i] in range(16, 21):\n",
    "        y.append(3)"
   ]
  },
  {
   "cell_type": "code",
   "execution_count": 17,
   "metadata": {},
   "outputs": [
    {
     "name": "stdout",
     "output_type": "stream",
     "text": [
      "nlp_3 added to list\n"
     ]
    },
    {
     "data": {
      "text/plain": [
       "(522, 768)"
      ]
     },
     "execution_count": 17,
     "metadata": {},
     "output_type": "execute_result"
    }
   ],
   "source": [
    "all_x = []\n",
    "\n",
    "for item in X_string:\n",
    "\n",
    "    item_processed = bert_transformer.transform(list(df[item]))\n",
    "    all_x.append(item_processed)\n",
    "    print(f'{item} added to list')\n",
    "    time.sleep(0.5)\n",
    "\n",
    "all_x = tuple(all_x)\n",
    "X = np.hstack(all_x)\n",
    "\n",
    "X.shape"
   ]
  },
  {
   "cell_type": "code",
   "execution_count": 18,
   "metadata": {},
   "outputs": [
    {
     "name": "stdout",
     "output_type": "stream",
     "text": [
      "nlp_3 added to list\n"
     ]
    },
    {
     "data": {
      "text/plain": [
       "(95, 768)"
      ]
     },
     "execution_count": 18,
     "metadata": {},
     "output_type": "execute_result"
    }
   ],
   "source": [
    "pilot_df = pd.read_excel('NLP_PILOT.XLSX')\n",
    "\n",
    "pilot_X = []\n",
    "pilot_Y = []\n",
    "\n",
    "for i in range(len(pilot_df)):\n",
    "    if pilot_df['GDT_score'][i] in range(4, 8):\n",
    "        y.append(0)\n",
    "    elif pilot_df['GDT_score'][i] in range(8, 12):\n",
    "        y.append(1)\n",
    "    elif df['GDT_score'][i] in range(12, 16):\n",
    "        y.append(2)\n",
    "    elif pilot_df['GDT_score'][i] in range(16, 21):\n",
    "        y.append(3)\n",
    "\n",
    "for item in X_string:\n",
    "\n",
    "    item_processed = bert_transformer.transform(list(pilot_df[item]))\n",
    "    pilot_X.append(item_processed)\n",
    "    print(f'{item} added to list')\n",
    "    time.sleep(0.5)\n",
    "\n",
    "pilot_X = tuple(pilot_X)\n",
    "pilot_X = np.hstack(pilot_X)\n",
    "\n",
    "pilot_X.shape"
   ]
  },
  {
   "cell_type": "code",
   "execution_count": 105,
   "metadata": {},
   "outputs": [
    {
     "name": "stdout",
     "output_type": "stream",
     "text": [
      "PearsonRResult(statistic=0.05240785706244437, pvalue=0.7093766038967237)\n",
      "PearsonRResult(statistic=0.24226484689518402, pvalue=0.08049878956169389)\n",
      "PearsonRResult(statistic=0.15061021473115638, pvalue=0.28653292310337475)\n",
      "PearsonRResult(statistic=0.312264941043496, pvalue=0.024213858758515085)\n",
      "PearsonRResult(statistic=0.2442735783937227, pvalue=0.08094877590550091)\n",
      "PearsonRResult(statistic=0.1978537944072423, pvalue=0.15972290411347115)\n",
      "PearsonRResult(statistic=0.15298059643933232, pvalue=0.27892798744036434)\n",
      "PearsonRResult(statistic=0.1536133953181924, pvalue=0.2769204957811028)\n",
      "PearsonRResult(statistic=0.16942640773241976, pvalue=0.22984596620392614)\n",
      "PearsonRResult(statistic=0.27285358651235625, pvalue=0.05034088925346639)\n",
      "WHOLE DATASET\n",
      "PearsonRResult(statistic=0.20207183365522255, pvalue=3.258324058105232e-06)\n"
     ]
    }
   ],
   "source": [
    "from sklearn.model_selection import KFold\n",
    "from sklearn.svm import SVC\n",
    "\n",
    "kfold = KFold(n_splits=10, shuffle=True, random_state=1)\n",
    "\n",
    "true_data = []\n",
    "results = []\n",
    "\n",
    "y = np.asarray(y)\n",
    "\n",
    "for train_index, test_index in kfold.split(X):\n",
    "\n",
    "    X_train, X_test = X[train_index], X[test_index]\n",
    "    y_train, y_test = y[train_index], y[test_index]\n",
    "\n",
    "    class_weights = class_weight.compute_class_weight(class_weight='balanced', classes=np.unique(y_train), y=y_train)\n",
    "    class_weights = dict(enumerate(class_weights))\n",
    "\n",
    "    vector_clf = SVC(kernel='linear', class_weight=class_weights)\n",
    "    vector_clf.fit(X_train, y_train)\n",
    "    result = vector_clf.predict(X_test)\n",
    "\n",
    "    results = np.concatenate((results, result))\n",
    "    true_data = np.concatenate((true_data, y_test))\n",
    "\n",
    "    print(stats.pearsonr(result, y_test))\n",
    "\n",
    "print('WHOLE DATASET')\n",
    "print(stats.pearsonr(results, true_data))"
   ]
  },
  {
   "cell_type": "code",
   "execution_count": 106,
   "metadata": {},
   "outputs": [],
   "source": [
    "answers_tuples = [(y, res) for y, res in zip(y, results)]\n",
    "sorted_tuples = sorted(answers_tuples, key=lambda x: x[0])\n",
    "\n",
    "test_y = [x[0] for x in sorted_tuples]\n",
    "result = [x[1] for x in sorted_tuples]"
   ]
  },
  {
   "cell_type": "code",
   "execution_count": 107,
   "metadata": {},
   "outputs": [
    {
     "name": "stdout",
     "output_type": "stream",
     "text": [
      "Accuracy: 0.42\n"
     ]
    }
   ],
   "source": [
    "accuracy = sum(np.asarray(result) == test_y) / len(test_y)\n",
    "print(f'Accuracy: {accuracy:.2f}')"
   ]
  },
  {
   "cell_type": "code",
   "execution_count": 108,
   "metadata": {},
   "outputs": [
    {
     "data": {
      "image/png": "[encoded data removed]",
      "text/plain": [
       "<Figure size 432x288 with 1 Axes>"
      ]
     },
     "metadata": {
      "needs_background": "light"
     },
     "output_type": "display_data"
    }
   ],
   "source": [
    "plt.plot(range(len(result)), result, 'o', color=[1, 0, 0, 0.7], label=\"Prediction\")\n",
    "plt.plot(range(len(test_y)), test_y, 'o', color=[0, 1, 0, 0.1], label='Observable data')\n",
    "plt.legend(loc='upper left')\n",
    "plt.title('Prediction vs real data | K-fold')\n",
    "plt.show()"
   ]
  }
 ],
 "metadata": {
  "kernelspec": {
   "display_name": "Python 3.10.3 64-bit",
   "language": "python",
   "name": "python3"
  },
  "language_info": {
   "codemirror_mode": {
    "name": "ipython",
    "version": 3
   },
   "file_extension": ".py",
   "mimetype": "text/x-python",
   "name": "python",
   "nbconvert_exporter": "python",
   "pygments_lexer": "ipython3",
   "version": "3.10.3"
  },
  "orig_nbformat": 4,
  "vscode": {
   "interpreter": {
    "hash": "8c3d4d9970fc5c09c50d9318a9c7fbf4d0159e4b28833276f5678ee22bded273"
   }
  }
 },
 "nbformat": 4,
 "nbformat_minor": 2
}
