{
 "cells": [
  {
   "cell_type": "code",
   "execution_count": 14,
   "metadata": {},
   "outputs": [],
   "source": [
    "import sys\n",
    "import dotenv\n",
    "import os\n",
    "dotenv.load_dotenv()\n",
    "sys.path.append(os.getenv('MAINDIR'))\n",
    "from helpers.ds_helpers import open_and_prepare_df\n",
    "import matplotlib.pyplot as plt\n",
    "import pingouin as pg\n",
    "import numpy as np"
   ]
  },
  {
   "cell_type": "code",
   "execution_count": 6,
   "metadata": {},
   "outputs": [],
   "source": [
    "df = open_and_prepare_df('main')"
   ]
  },
  {
   "cell_type": "code",
   "execution_count": 22,
   "metadata": {},
   "outputs": [
    {
     "data": {
      "text/plain": [
       "Index(['Unnamed: 0', 'age', 'is_male', 'is_female', 'age_class', 'edu_1',\n",
       "       'edu_2', 'GDT_1', 'GDT_2', 'GDT_3', 'GDT_4', 'GDT_score', 'has_GD',\n",
       "       'WB_score', 'H_score', 'PHQ_score', 'GAD_score', 'multiplier', 'hours',\n",
       "       'non_weekend_hours', 'weekend_hours', 'nlp_1', 'nlp_2', 'nlp_3',\n",
       "       'nlp_4', 'nlp_5', 'nlp_6', 'time', 'label', 'education'],\n",
       "      dtype='object')"
      ]
     },
     "execution_count": 22,
     "metadata": {},
     "output_type": "execute_result"
    }
   ],
   "source": [
    "df.columns"
   ]
  },
  {
   "cell_type": "code",
   "execution_count": 13,
   "metadata": {},
   "outputs": [
    {
     "data": {
      "text/plain": [
       "417"
      ]
     },
     "execution_count": 13,
     "metadata": {},
     "output_type": "execute_result"
    }
   ],
   "source": [
    "len(df)"
   ]
  },
  {
   "cell_type": "code",
   "execution_count": 16,
   "metadata": {},
   "outputs": [
    {
     "data": {
      "text/plain": [
       "8.881204877681911"
      ]
     },
     "execution_count": 16,
     "metadata": {},
     "output_type": "execute_result"
    }
   ],
   "source": [
    "np.mean(df['age']), np.std(df['age'])"
   ]
  },
  {
   "cell_type": "code",
   "execution_count": 24,
   "metadata": {},
   "outputs": [
    {
     "data": {
      "text/plain": [
       "(education\n",
       " Wyższe magisterskie (magister)                        145\n",
       " Średnie (licealne, technikum) zawodowe                 74\n",
       " Wyższe licencjackie lub zawodowe (bez magisterium)     50\n",
       " Średnie (licealne) ogólnokształcące                    46\n",
       " Pomaturalne (policealne)                               37\n",
       " Zasadnicze zawodowe                                    22\n",
       " Gimnazjalne                                            10\n",
       " Niepełne średnie (niepełne licealne)                    9\n",
       " Niepełne wyższe (bez żadnego dyplomu)                   9\n",
       " Wyższy stopień naukowy (doktor nauk)                    8\n",
       " Podstawowe                                              7\n",
       " Name: count, dtype: int64,\n",
       " education\n",
       " Wyższe magisterskie (magister)                        0.347722\n",
       " Średnie (licealne, technikum) zawodowe                0.177458\n",
       " Wyższe licencjackie lub zawodowe (bez magisterium)    0.119904\n",
       " Średnie (licealne) ogólnokształcące                   0.110312\n",
       " Pomaturalne (policealne)                              0.088729\n",
       " Zasadnicze zawodowe                                   0.052758\n",
       " Gimnazjalne                                           0.023981\n",
       " Niepełne średnie (niepełne licealne)                  0.021583\n",
       " Niepełne wyższe (bez żadnego dyplomu)                 0.021583\n",
       " Wyższy stopień naukowy (doktor nauk)                  0.019185\n",
       " Podstawowe                                            0.016787\n",
       " Name: proportion, dtype: float64)"
      ]
     },
     "execution_count": 24,
     "metadata": {},
     "output_type": "execute_result"
    }
   ],
   "source": [
    "df['education'].value_counts(), df['education'].value_counts(normalize=True)"
   ]
  },
  {
   "cell_type": "code",
   "execution_count": null,
   "metadata": {},
   "outputs": [],
   "source": [
    "df[''].value_counts(), df['is_female'].value_counts(normalize=True)"
   ]
  },
  {
   "cell_type": "code",
   "execution_count": 12,
   "metadata": {},
   "outputs": [
    {
     "data": {
      "text/plain": [
       "(0.8976346427896937, array([0.881, 0.913]))"
      ]
     },
     "execution_count": 12,
     "metadata": {},
     "output_type": "execute_result"
    }
   ],
   "source": [
    "pg.cronbach_alpha(data=df[['GDT_1', 'GDT_2', 'GDT_3', 'GDT_4']])"
   ]
  }
 ],
 "metadata": {
  "kernelspec": {
   "display_name": "Python 3",
   "language": "python",
   "name": "python3"
  },
  "language_info": {
   "codemirror_mode": {
    "name": "ipython",
    "version": 3
   },
   "file_extension": ".py",
   "mimetype": "text/x-python",
   "name": "python",
   "nbconvert_exporter": "python",
   "pygments_lexer": "ipython3",
   "version": "3.10.6"
  },
  "orig_nbformat": 4
 },
 "nbformat": 4,
 "nbformat_minor": 2
}
