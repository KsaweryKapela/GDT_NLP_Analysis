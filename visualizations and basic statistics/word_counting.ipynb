{
 "cells": [
  {
   "cell_type": "code",
   "execution_count": 1,
   "metadata": {},
   "outputs": [],
   "source": [
    "import sys\n",
    "import dotenv\n",
    "import os\n",
    "dotenv.load_dotenv()\n",
    "sys.path.append(os.getenv('MAINDIR'))\n",
    "from helpers.ds_helpers import open_and_prepare_df\n",
    "\n",
    "df = open_and_prepare_df('main')"
   ]
  },
  {
   "cell_type": "code",
   "execution_count": 2,
   "metadata": {},
   "outputs": [],
   "source": [
    "for item_name in [f'nlp_{i}' for i in range(2, 6)]:\n",
    "\n",
    "    df[f'len_{item_name}'] = [len(item) for item in df[item_name]]\n",
    "    df[f'words_{item_name}'] = [len(item.split()) for item in df[item_name]]\n"
   ]
  },
  {
   "cell_type": "code",
   "execution_count": 3,
   "metadata": {},
   "outputs": [
    {
     "name": "stdout",
     "output_type": "stream",
     "text": [
      "[('czas', 166), ('relaks', 126), ('czasu', 107), ('rozrywka', 64), ('zabawa', 57), ('relaksuje', 52), ('się', 48), ('nie', 47), ('radość', 41), ('zabiera', 37)]\n",
      "[('nie', 221), ('brak', 110), ('wpływa', 83), ('się', 59), ('spokój', 55), ('nuda', 45), ('czas', 45), ('smutek', 38), ('myślę', 38), ('o', 37)]\n",
      "[('relaks', 138), ('rozrywka', 77), ('czas', 73), ('zabawa', 57), ('nie', 53), ('odpoczynek', 52), ('radość', 50), ('rywalizacja', 48), ('ciekawość', 44), ('spokój', 44)]\n",
      "[('nie', 164), ('się', 56), ('brak', 50), ('bez', 47), ('złość', 43), ('grają', 40), ('czasu', 38), ('nic', 38), ('to', 37), ('z', 30)]\n"
     ]
    }
   ],
   "source": [
    "from collections import Counter\n",
    "\n",
    "for item in [f'nlp_{i}' for i in range(2, 6)]:\n",
    "    nlp_string = ''\n",
    "    for row in df[item]:\n",
    "        nlp_string += row\n",
    "\n",
    "    splitted = nlp_string.split()\n",
    "    for i in range(len(splitted)):\n",
    "        splitted[i] = splitted[i].replace('.', '').lower()\n",
    "    Counters_found = Counter(splitted)\n",
    "    most_occur = Counters_found.most_common(10)\n",
    "    print(most_occur)\n"
   ]
  },
  {
   "cell_type": "code",
   "execution_count": 4,
   "metadata": {},
   "outputs": [
    {
     "name": "stdout",
     "output_type": "stream",
     "text": [
      "72.63972286374134\n",
      "26.82435135933288\n",
      " \n",
      "57.043879907621246\n",
      "21.396183800102452\n",
      " \n",
      "57.44572748267898\n",
      "15.677668610030407\n",
      " \n",
      "53.40184757505774\n",
      "19.0278839325064\n",
      " \n"
     ]
    }
   ],
   "source": [
    "for item in [f'len_nlp_{i}' for i in range(2, 6)]:\n",
    "    print(df[item].mean())\n",
    "    print(df[item].std())\n",
    "    print(' ')"
   ]
  }
 ],
 "metadata": {
  "kernelspec": {
   "display_name": "Python 3",
   "language": "python",
   "name": "python3"
  },
  "language_info": {
   "codemirror_mode": {
    "name": "ipython",
    "version": 3
   },
   "file_extension": ".py",
   "mimetype": "text/x-python",
   "name": "python",
   "nbconvert_exporter": "python",
   "pygments_lexer": "ipython3",
   "version": "3.10.6"
  },
  "orig_nbformat": 4,
  "vscode": {
   "interpreter": {
    "hash": "8c3d4d9970fc5c09c50d9318a9c7fbf4d0159e4b28833276f5678ee22bded273"
   }
  }
 },
 "nbformat": 4,
 "nbformat_minor": 2
}
