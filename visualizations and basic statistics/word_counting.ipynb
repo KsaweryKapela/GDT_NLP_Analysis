{
 "cells": [
  {
   "cell_type": "code",
   "execution_count": 1,
   "metadata": {},
   "outputs": [
    {
     "name": "stdout",
     "output_type": "stream",
     "text": [
      "522\n",
      "502\n",
      "469\n",
      "417\n"
     ]
    }
   ],
   "source": [
    "import sys\n",
    "import dotenv\n",
    "import os\n",
    "dotenv.load_dotenv()\n",
    "sys.path.append(os.getenv('MAINDIR'))\n",
    "from helpers.ds_helpers import open_and_prepare_df\n",
    "\n",
    "df = open_and_prepare_df('main')"
   ]
  },
  {
   "cell_type": "code",
   "execution_count": 2,
   "metadata": {},
   "outputs": [],
   "source": [
    "for item_name in [f'nlp_{i}' for i in range(2, 6)]:\n",
    "\n",
    "    df[f'len_{item_name}'] = [len(item) for item in df[item_name]]\n",
    "    df[f'words_{item_name}'] = [len(item.split()) for item in df[item_name]]\n"
   ]
  },
  {
   "cell_type": "code",
   "execution_count": 3,
   "metadata": {},
   "outputs": [
    {
     "name": "stdout",
     "output_type": "stream",
     "text": [
      "[('czas', 163), ('relaks', 119), ('czasu', 102), ('rozrywka', 59), ('zabawa', 56), ('relaksuje', 52), ('się', 46), ('nie', 44), ('radość', 39), ('zabiera', 36)]\n",
      "[('nie', 212), ('brak', 103), ('wpływa', 78), ('się', 57), ('spokój', 53), ('nuda', 45), ('czas', 45), ('myślę', 38), ('o', 37), ('smutek', 36)]\n",
      "[('relaks', 135), ('rozrywka', 73), ('czas', 73), ('zabawa', 56), ('radość', 49), ('odpoczynek', 49), ('rywalizacja', 48), ('nie', 48), ('czasu', 42), ('ciekawość', 42)]\n",
      "[('nie', 162), ('się', 57), ('brak', 52), ('bez', 45), ('złość', 42), ('grają', 41), ('nic', 39), ('czasu', 38), ('to', 37), ('z', 30)]\n"
     ]
    }
   ],
   "source": [
    "from collections import Counter\n",
    "\n",
    "for item in [f'nlp_{i}' for i in range(2, 6)]:\n",
    "    nlp_string = ''\n",
    "    for row in df[item]:\n",
    "        nlp_string += row\n",
    "\n",
    "    splitted = nlp_string.split()\n",
    "    for i in range(len(splitted)):\n",
    "        splitted[i] = splitted[i].replace('.', '').lower()\n",
    "    Counters_found = Counter(splitted)\n",
    "    most_occur = Counters_found.most_common(10)\n",
    "    print(most_occur)\n"
   ]
  },
  {
   "cell_type": "code",
   "execution_count": 7,
   "metadata": {},
   "outputs": [
    {
     "name": "stdout",
     "output_type": "stream",
     "text": [
      "8.7\n",
      "3.74\n",
      " \n",
      "7.49\n",
      "3.3\n",
      " \n",
      "6.56\n",
      "2.05\n",
      " \n",
      "7.0\n",
      "2.68\n",
      " \n"
     ]
    }
   ],
   "source": [
    "for item in [f'words_nlp_{i}' for i in range(2, 6)]:\n",
    "    print(round(df[item].mean(), 2))\n",
    "    print(round(df[item].std(), 2))\n",
    "    print(' ')"
   ]
  },
  {
   "cell_type": "code",
   "execution_count": 21,
   "metadata": {},
   "outputs": [
    {
     "name": "stdout",
     "output_type": "stream",
     "text": [
      "T_test statistic: 4.950946009431833\n",
      "p-value: 8.942906753265334e-07\n"
     ]
    }
   ],
   "source": [
    "import pandas as pd\n",
    "from scipy.stats import ttest_ind\n",
    "\n",
    "# Perform chi-square test\n",
    "t_test, p_value = ttest_ind(df['words_nlp_2'], df['words_nlp_3'])\n",
    "\n",
    "# Print the test result\n",
    "print(\"T_test statistic:\", t_test)\n",
    "print(\"p-value:\", p_value)"
   ]
  }
 ],
 "metadata": {
  "kernelspec": {
   "display_name": "Python 3",
   "language": "python",
   "name": "python3"
  },
  "language_info": {
   "codemirror_mode": {
    "name": "ipython",
    "version": 3
   },
   "file_extension": ".py",
   "mimetype": "text/x-python",
   "name": "python",
   "nbconvert_exporter": "python",
   "pygments_lexer": "ipython3",
   "version": "3.10.6"
  },
  "orig_nbformat": 4,
  "vscode": {
   "interpreter": {
    "hash": "8c3d4d9970fc5c09c50d9318a9c7fbf4d0159e4b28833276f5678ee22bded273"
   }
  }
 },
 "nbformat": 4,
 "nbformat_minor": 2
}
